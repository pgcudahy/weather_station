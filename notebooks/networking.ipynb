{
 "cells": [
  {
   "cell_type": "markdown",
   "metadata": {},
   "source": [
    "Take a dictionary and format it an http json post\n",
    "\n",
    "From https://stackoverflow.com/questions/28670835/python-socket-client-post-parameters\n",
    "https://stackoverflow.com/questions/32436864/raw-post-request-with-json-in-body\n",
    "https://stackoverflow.com/questions/5755507/creating-a-raw-http-request-with-sockets"
   ]
  },
  {
   "cell_type": "code",
   "execution_count": null,
   "metadata": {},
   "outputs": [],
   "source": [
    "%websocketconnect 192.168.1.130:8266 --password horsetoe"
   ]
  },
  {
   "cell_type": "code",
   "execution_count": null,
   "metadata": {},
   "outputs": [],
   "source": [
    "2+2"
   ]
  },
  {
   "cell_type": "code",
   "execution_count": null,
   "metadata": {},
   "outputs": [],
   "source": [
    "#import upip"
   ]
  },
  {
   "cell_type": "code",
   "execution_count": null,
   "metadata": {},
   "outputs": [],
   "source": [
    "#upip.install('urequests')"
   ]
  },
  {
   "cell_type": "code",
   "execution_count": null,
   "metadata": {},
   "outputs": [],
   "source": [
    "sample_data = {'wind_direction_raw': 108,\n",
    "               'rain_amount_raw': 0,\n",
    "               'timestamp': (2020, 7, 26, 12, 2, 21, 6, 208),\n",
    "               'elapsed_time': 6245,\n",
    "               'wind_speed_raw': 5}"
   ]
  },
  {
   "cell_type": "code",
   "execution_count": 1,
   "metadata": {},
   "outputs": [
    {
     "name": "stdout",
     "output_type": "stream",
     "text": [
      "\u001b[31mNo device connected\n",
      "\u001b[0m  %serialconnect or websocketconnect to connect\n",
      "  %lsmagic to list commands"
     ]
    }
   ],
   "source": [
    "sample_data = tibble('wind_direction_raw' = 108, \n",
    "                     'rain_amount_raw' = 0, \n",
    "                     'timestamp' = paste(2020, 7, 26, 12, 2, 21, 6, 208, sep=\", \"), \n",
    "                     'elapsed_time' = 6245, \n",
    "                     'wind_speed_raw' = 5)"
   ]
  },
  {
   "cell_type": "code",
   "execution_count": null,
   "metadata": {},
   "outputs": [],
   "source": [
    "import urequests\n",
    "\n",
    "def postData(data_dict, url=\"http://192.168.1.151:9494/station\"):\n",
    "    try:\n",
    "        response = urequests.post(url,\n",
    "            headers = {'Connection': 'Close', 'content-type': 'application/json'},\n",
    "            json = data_dict)\n",
    "    except Exception as e:\n",
    "        print(\"Error sending packet: {}\".format(e))\n",
    "        return False\n",
    "    return response"
   ]
  },
  {
   "cell_type": "code",
   "execution_count": null,
   "metadata": {},
   "outputs": [],
   "source": [
    "response = postData(sample_data, \"http://192.168.1.151:9494/station\")"
   ]
  },
  {
   "cell_type": "code",
   "execution_count": null,
   "metadata": {},
   "outputs": [],
   "source": [
    "if response:\n",
    "    response.text\n",
    "    response.status_code\n",
    "    response.close()\n",
    "else:\n",
    "    print(\"message send failed\")"
   ]
  },
  {
   "cell_type": "code",
   "execution_count": null,
   "metadata": {},
   "outputs": [],
   "source": [
    "if not response:\n",
    "    print(\"not!\")"
   ]
  },
  {
   "cell_type": "code",
   "execution_count": null,
   "metadata": {},
   "outputs": [],
   "source": []
  },
  {
   "cell_type": "code",
   "execution_count": null,
   "metadata": {},
   "outputs": [],
   "source": [
    "def generateMessageID():\n",
    "    mid = 0\n",
    "    while True:\n",
    "        yield mid\n",
    "        mid = (mid + 1) & 0xff\n",
    "        mid = mid if mid else 1\n",
    "        \n",
    "def processQueue(queue, message_id_generator, url=\"http://192.168.1.151:9494/station\"):\n",
    "    while len(queue) > 0:\n",
    "        result = queue.popleft()\n",
    "        \n",
    "        if not \"message_id\" in result:\n",
    "            result[\"message_id\"] = next(message_id_generator)\n",
    "        response = postData(result, url)\n",
    "        \n",
    "        if not response:\n",
    "            print('POST failed')\n",
    "            data_queue.appendleft(result) \n",
    "            \n",
    "        elif response.status_code >= 300:\n",
    "            print('POST failed with response {} and status {}'.format(response.text, response.status_code))\n",
    "            data_queue.appendleft(result)\n",
    "            response.close()\n",
    "            \n",
    "        else:\n",
    "            print('POST succeded with response {} and status {}'.format(response.text, response.status_code))\n",
    "            response.close()"
   ]
  },
  {
   "cell_type": "code",
   "execution_count": 16,
   "metadata": {},
   "outputs": [],
   "source": [
    "from collections.deque import deque\n",
    "from sensors import readData\n",
    "\n",
    "get_ID = generateMessageID()\n",
    "data_queue = deque()\n",
    "\n",
    "data_queue.append(readData())\n",
    "\n",
    "result = data_queue.popleft()\n",
    "result[\"message_id\"] = next(get_ID)\n"
   ]
  },
  {
   "cell_type": "code",
   "execution_count": null,
   "metadata": {},
   "outputs": [],
   "source": [
    "result"
   ]
  },
  {
   "cell_type": "code",
   "execution_count": 17,
   "metadata": {},
   "outputs": [
    {
     "name": "stdout",
     "output_type": "stream",
     "text": [
      "{'elapsed_time': 7076, 'timestamp': (2020, 9, 13, 7, 56, 12, 6, 257), 'wind_direction_raw': 740, 'wind_speed_raw': 0, 'message_id': 'test', 'rain_amount_raw': 0}\n"
     ]
    }
   ],
   "source": [
    "test_queue = deque()\n",
    "\n",
    "test_queue.append(readData())\n",
    "\n",
    "result = test_queue.popleft()\n",
    "\n",
    "if not \"message_id\" in result:\n",
    "    result[\"message_id\"] = \"test\"\n",
    "    \n",
    "result"
   ]
  },
  {
   "cell_type": "code",
   "execution_count": 18,
   "metadata": {},
   "outputs": [],
   "source": [
    "data_queue.append(readData())\n",
    "data_queue.append(readData())\n",
    "data_queue.append(readData())"
   ]
  },
  {
   "cell_type": "code",
   "execution_count": 19,
   "metadata": {},
   "outputs": [
    {
     "data": {
      "text/plain": [
       "3\n"
      ]
     },
     "execution_count": 19,
     "metadata": {},
     "output_type": "execute_result"
    }
   ],
   "source": [
    "len(data_queue)"
   ]
  },
  {
   "cell_type": "code",
   "execution_count": null,
   "metadata": {},
   "outputs": [],
   "source": [
    "data_queue.popleft()"
   ]
  },
  {
   "cell_type": "code",
   "execution_count": null,
   "metadata": {},
   "outputs": [],
   "source": [
    "len(data_queue)"
   ]
  },
  {
   "cell_type": "code",
   "execution_count": 22,
   "metadata": {},
   "outputs": [
    {
     "name": "stdout",
     "output_type": "stream",
     "text": [
      "\n",
      "\n",
      "*** OSError *** \n",
      "\n",
      "\n",
      " 'socket' object has no attribute 'read' \n",
      "\u001b[31m\n",
      "\n",
      "*** Connection broken ***\n",
      "\u001b[0mYou may need to reconnect"
     ]
    }
   ],
   "source": [
    "response = postData(data_queue.popleft(), \"http://192.168.1.151:9494/station\")\n",
    "\n",
    "if not response:\n",
    "    print('POST failed')\n",
    "    data_queue.appendleft(result) \n",
    "    \n",
    "elif response.status_code >= 300:\n",
    "    print('POST failed with response {} with status {}'.format(response.text, response.status_code))\n",
    "    data_queue.appendleft(result) \n",
    "\n",
    "else:\n",
    "    print('POST response was {} with status {}'.format(response.text, response.status_code))\n",
    "    try:\n",
    "        response.close()\n",
    "    except Exception as e:\n",
    "        print(e)"
   ]
  },
  {
   "cell_type": "code",
   "execution_count": null,
   "metadata": {},
   "outputs": [],
   "source": [
    "2+2"
   ]
  },
  {
   "cell_type": "code",
   "execution_count": null,
   "metadata": {},
   "outputs": [],
   "source": []
  },
  {
   "cell_type": "code",
   "execution_count": null,
   "metadata": {},
   "outputs": [],
   "source": [
    "response = postData(data_queue.popleft(), \"http://192.168.1.100\")\n",
    "\n",
    "if not response:\n",
    "    print('POST failed')\n",
    "    data_queue.appendleft(result) \n",
    "    \n",
    "elif response.status_code >= 300:\n",
    "    print('POST failed with response {} with status {}'.format(response.text, response.status_code))\n",
    "    data_queue.appendleft(result) \n",
    "\n",
    "else:\n",
    "    print('POST response was {} with status {}'.format(response.text, response.status_code))\n",
    "    try:\n",
    "        response.close()\n",
    "    except Exception as e:\n",
    "        print(e)"
   ]
  },
  {
   "cell_type": "code",
   "execution_count": null,
   "metadata": {},
   "outputs": [],
   "source": [
    "response = postData(data_queue.popleft(), \"http://192.168.1.151:9494/fakeEndpoint\")\n",
    "\n",
    "if not response:\n",
    "    print('POST failed')\n",
    "    data_queue.appendleft(result) \n",
    "    \n",
    "elif response.status_code >= 300:\n",
    "    print('POST failed with response {} with status {}'.format(response.text, response.status_code))\n",
    "    data_queue.appendleft(result) \n",
    "\n",
    "else:\n",
    "    print('POST response was {} with status {}'.format(response.text, response.status_code))\n",
    "    try:\n",
    "        response.close()\n",
    "    except Exception as e:\n",
    "        print(e)"
   ]
  },
  {
   "cell_type": "code",
   "execution_count": null,
   "metadata": {},
   "outputs": [],
   "source": [
    "import os\n",
    "os.listdir()"
   ]
  },
  {
   "cell_type": "markdown",
   "metadata": {},
   "source": [
    "# All together now"
   ]
  },
  {
   "cell_type": "code",
   "execution_count": 14,
   "metadata": {},
   "outputs": [],
   "source": [
    "import urequests\n",
    "\n",
    "def generateMessageID():\n",
    "    mid = 0\n",
    "    while True:\n",
    "        yield mid\n",
    "        mid = (mid + 1) & 0xff\n",
    "        mid = mid if mid else 1\n",
    "\n",
    "def postData(data_dict, url=\"http://192.168.1.151:9494/station\"):\n",
    "    try:\n",
    "        response = urequests.post(url,\n",
    "            headers = {'Connection': 'Close', 'content-type': 'application/json'},\n",
    "            json = data_dict)\n",
    "    except Exception as e:\n",
    "        print(\"Error sending packet: {}\".format(e))\n",
    "        return False\n",
    "    return response\n",
    "\n",
    "def processQueue(queue, message_id_generator, url=\"http://192.168.1.151:9494/station\"):\n",
    "    failures = 0\n",
    "    while (len(queue) > 0) and (failures < 5):\n",
    "        print('queue has {} items and {} failures'.format(len(queue), failures))\n",
    "        result = queue.popleft()\n",
    "        \n",
    "        if not \"message_id\" in result:\n",
    "            result[\"message_id\"] = next(message_id_generator)\n",
    "            print(\"attaching message id {}\".format(result[\"message_id\"]))\n",
    "        response = postData(result, url)\n",
    "        \n",
    "        if not response:\n",
    "            print('POST failed')\n",
    "            data_queue.appendleft(result) \n",
    "            failures = failures + 1\n",
    "            \n",
    "        elif response.status_code >= 300:\n",
    "            print('POST failed with response {} and status {}'.format(response.text, response.status_code))\n",
    "            data_queue.appendleft(result)\n",
    "            response.close()\n",
    "            failures = failures + 1\n",
    "            \n",
    "        else:\n",
    "            print('POST succeded with response {} and status {}'.format(response.text, response.status_code))\n",
    "            response.close()\n",
    "            failures = 0"
   ]
  },
  {
   "cell_type": "code",
   "execution_count": 15,
   "metadata": {},
   "outputs": [
    {
     "data": {
      "text/plain": [
       "4\n"
      ]
     },
     "execution_count": 15,
     "metadata": {},
     "output_type": "execute_result"
    }
   ],
   "source": [
    "2+2\n"
   ]
  },
  {
   "cell_type": "code",
   "execution_count": 26,
   "metadata": {},
   "outputs": [],
   "source": [
    "netclient_script=\"\"\"import urequests\n",
    "\n",
    "def generateMessageID():\n",
    "    mid = 0\n",
    "    while True:\n",
    "        yield mid\n",
    "        mid = (mid + 1) & 0xff\n",
    "        mid = mid if mid else 1\n",
    "\n",
    "def postData(data_dict, url=\"http://192.168.1.151:9494/station\"):\n",
    "    try:\n",
    "        response = urequests.post(url,\n",
    "            headers = {'Connection': 'Close', 'content-type': 'application/json'},\n",
    "            json = data_dict)\n",
    "    except Exception as e:\n",
    "        print(\"Error sending packet: {}\".format(e))\n",
    "        return False\n",
    "    return response\n",
    "   \n",
    "def processQueue(queue, message_id_generator, url=\"http://192.168.1.151:9494/station\"):\n",
    "    failures = 0\n",
    "    while len(queue) > 0 and failures < 5:\n",
    "        result = queue.popleft()\n",
    "        \n",
    "        if not \"message_id\" in result:\n",
    "            result[\"message_id\"] = next(message_id_generator)\n",
    "        response = postData(result, url)\n",
    "        \n",
    "        if not response:\n",
    "            print('POST failed')\n",
    "            data_queue.appendleft(result) \n",
    "            failures = failures + 1\n",
    "            \n",
    "        elif response.status_code >= 300:\n",
    "            print('POST failed with response {} and status {}'.format(response.text, response.status_code))\n",
    "            data_queue.appendleft(result)\n",
    "            response.close()\n",
    "            failures = failures + 1\n",
    "            \n",
    "        else:\n",
    "            print('POST succeded with response {} and status {}'.format(response.text, response.status_code))\n",
    "            response.close()\n",
    "            failures = 0\n",
    "\n",
    "\"\"\""
   ]
  },
  {
   "cell_type": "code",
   "execution_count": 27,
   "metadata": {},
   "outputs": [
    {
     "data": {
      "text/plain": [
       "['boot.py', 'credentials.json', 'credentials.txt', 'lib', 'send_data.py', 'sensors.py', 'webrepl_cfg.py', 'wifi.py']\n"
      ]
     },
     "execution_count": 27,
     "metadata": {},
     "output_type": "execute_result"
    }
   ],
   "source": [
    "os.listdir()"
   ]
  },
  {
   "cell_type": "code",
   "execution_count": 28,
   "metadata": {},
   "outputs": [],
   "source": [
    "os.remove('send_data.py')"
   ]
  },
  {
   "cell_type": "code",
   "execution_count": 29,
   "metadata": {},
   "outputs": [
    {
     "name": "stderr",
     "output_type": "stream",
     "text": [
      "Traceback (most recent call last):\n",
      "  File \"<stdin>\", line 1, in <module>\n",
      "OSError: [Errno 2] ENOENT\n"
     ]
    }
   ],
   "source": [
    "with open('send_data.py') as f:\n",
    "    print(f.read())"
   ]
  },
  {
   "cell_type": "code",
   "execution_count": 30,
   "metadata": {},
   "outputs": [
    {
     "name": "stdout",
     "output_type": "stream",
     "text": [
      "1444\n"
     ]
    }
   ],
   "source": [
    "with open('send_data.txt', 'w') as f:\n",
    "    f.write(netclient_script)"
   ]
  },
  {
   "cell_type": "markdown",
   "metadata": {},
   "source": [
    "### Double check the write"
   ]
  },
  {
   "cell_type": "code",
   "execution_count": 31,
   "metadata": {},
   "outputs": [
    {
     "name": "stdout",
     "output_type": "stream",
     "text": [
      "import urequests\n",
      "\n",
      "def generateMessageID():\n",
      "    mid = 0\n",
      "    while True:\n",
      "        yield mid\n",
      "        mid = (mid + 1) & 0xff\n",
      "        mid = mid if mid else 1\n",
      "\n",
      "def postData(data_dict, url=\"http://192.168.1.151:9494/station\"):\n",
      "    try:\n",
      "        response = urequests.post(url,\n",
      "            headers = {'Connection': 'Close', 'content-type': 'application/json'},\n",
      "            json = data_dict)\n",
      "    except Exception as e:\n",
      "        print(\"Error sending packet: {}\".format(e))\n",
      "        return False\n",
      "    return response\n",
      "   \n",
      "def processQueue(queue, message_id_generator, url=\"http://192.168.1.151:9494/station\"):\n",
      "    failures = 0\n",
      "    while len(queue) > 0 and failures < 5:\n",
      "        result = queue.popleft()\n",
      "        \n",
      "        if not \"message_id\" in result:\n",
      "            result[\"message_id\"] = next(message_id_gerator)\u0002\n",
      "(        response = postData(result, url)\u0002\n",
      "\b        \u0002\n",
      "\u0018        if not response:\u0002\n",
      "           print('POST failed')\n",
      "*          data_queue.appendleft(result) \u0002#          failures = failures + 1\u0002\n",
      "\f",
      "          \u0002\n",
      ")        elif respse.status_code >= 300:\u0002\n",
      "k            print('POST failed with response {} and status {}'.format(response.tex response.status_code))\u0002\n",
      ")            datqueue.appendleft(result)\u0002\n",
      "\u001c",
      "            response.close()\u0002\n",
      "#            failures = failures 1\u0002\n",
      "\f",
      "          \u0002\n",
      "        else:\u0002\n",
      "m          print('POST succeded witresponse {} and status {}'.formaresponse.text, response.status_code))\u0002<      response.close()\u0002\n",
      "\u0018          failures = 0\u0002\n",
      "\u0002\n",
      "\u0002\n",
      "\u0004> \u0002\n",
      "\u0004"
     ]
    }
   ],
   "source": [
    "with open('send_data.txt') as f:\n",
    "    print(f.read())"
   ]
  },
  {
   "cell_type": "markdown",
   "metadata": {},
   "source": [
    "## Move temp file to `send_data.py`"
   ]
  },
  {
   "cell_type": "code",
   "execution_count": 32,
   "metadata": {},
   "outputs": [],
   "source": [
    "os.rename('send_data.txt', 'send_data.py')"
   ]
  },
  {
   "cell_type": "code",
   "execution_count": null,
   "metadata": {},
   "outputs": [],
   "source": []
  },
  {
   "cell_type": "code",
   "execution_count": null,
   "metadata": {},
   "outputs": [],
   "source": []
  },
  {
   "cell_type": "markdown",
   "metadata": {},
   "source": [
    "# TODO\n",
    "\n",
    "How to log status codes and errors to detect errors\n",
    "\n",
    "How to save data if no network connection, before restart"
   ]
  },
  {
   "cell_type": "code",
   "execution_count": null,
   "metadata": {},
   "outputs": [],
   "source": []
  },
  {
   "cell_type": "code",
   "execution_count": 33,
   "metadata": {},
   "outputs": [
    {
     "name": "stdout",
     "output_type": "stream",
     "text": [
      "\u001b[31mDevice esp8266 disconnected.\u001b[0m"
     ]
    }
   ],
   "source": [
    "%disconnect"
   ]
  },
  {
   "cell_type": "code",
   "execution_count": null,
   "metadata": {},
   "outputs": [],
   "source": []
  }
 ],
 "metadata": {
  "kernelspec": {
   "display_name": "MicroPython upydevice kernel",
   "language": "python",
   "name": "micropython-upydevice"
  },
  "language_info": {
   "codemirror_mode": "python",
   "file_extension": ".py",
   "mimetype": "text/x-python",
   "name": "python",
   "pygments_lexer": "python"
  }
 },
 "nbformat": 4,
 "nbformat_minor": 4
}
