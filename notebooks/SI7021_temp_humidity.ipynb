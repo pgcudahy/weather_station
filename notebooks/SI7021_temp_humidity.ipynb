{
 "cells": [
  {
   "cell_type": "code",
   "execution_count": null,
   "id": "d940cac5",
   "metadata": {},
   "outputs": [],
   "source": [
    "%websocketconnect 192.168.1.130 --password horsetoe -kbi"
   ]
  },
  {
   "cell_type": "code",
   "execution_count": null,
   "id": "90828eb0",
   "metadata": {},
   "outputs": [],
   "source": [
    "2+2"
   ]
  },
  {
   "cell_type": "code",
   "execution_count": null,
   "id": "9c876474",
   "metadata": {},
   "outputs": [],
   "source": [
    "global wdt_counter\n",
    "wdt_counter = 0"
   ]
  },
  {
   "cell_type": "markdown",
   "id": "22a36cc2",
   "metadata": {},
   "source": [
    "# Temp, barometric pressure, and humidity"
   ]
  },
  {
   "cell_type": "code",
   "execution_count": null,
   "id": "cee973db",
   "metadata": {},
   "outputs": [],
   "source": [
    "global wdt_counter\n",
    "print(wdt_counter)\n",
    "wdt_counter = 0"
   ]
  },
  {
   "cell_type": "markdown",
   "id": "a3c35cd8",
   "metadata": {},
   "source": [
    "Hooked up to I2C (SDA and SCL)"
   ]
  },
  {
   "cell_type": "markdown",
   "id": "5a6a828a",
   "metadata": {},
   "source": [
    "SDA = machine pin 4 = D2\n",
    "\n",
    "SCL = machine pin 5 = D1"
   ]
  },
  {
   "cell_type": "code",
   "execution_count": null,
   "id": "af2b5bc0",
   "metadata": {},
   "outputs": [],
   "source": [
    "import machine"
   ]
  },
  {
   "cell_type": "code",
   "execution_count": null,
   "id": "43d406e4",
   "metadata": {},
   "outputs": [],
   "source": [
    "i2c = machine.I2C(sda=machine.Pin(4), scl=machine.Pin(5))"
   ]
  },
  {
   "cell_type": "code",
   "execution_count": null,
   "id": "84118231",
   "metadata": {},
   "outputs": [],
   "source": [
    "import utime"
   ]
  },
  {
   "cell_type": "markdown",
   "id": "873ddeec",
   "metadata": {},
   "source": [
    "Sample code at  https://github.com/chrisbalmer/micropython-si7021/blob/master/si7021.py\n",
    "\n",
    "Data sheet at https://cdn.sparkfun.com/datasheets/Sensors/Weather/Si7021.pdf\n",
    "\n",
    "`While the measurement is in progress, the option of either clock stretching (Hold Master Mode) or Not Acknowledging read requests (No Hold Master Mode) is available to indicate to the master that the measurement is in progress; the chosen command code determines which mode is used.`\n",
    "\n",
    "#### Si7021 is at address 0x40 / 64\n",
    "\n",
    "Measure Relative Humidity, Hold Master Mode 0xE5\n",
    "\n",
    "Measure Relative Humidity, No Hold Master Mode 0xF5\n",
    "\n",
    "Measure Temperature, Hold Master Mode 0xE3\n",
    "\n",
    "Measure Temperature, No Hold Master Mode 0xF3\n",
    "\n",
    "Read Temperature Value from Previous RH Measurement 0xE0\n",
    "\n",
    "Reset 0xFE\n",
    "\n",
    "Write RH/T User Register 1 0xE6\n",
    "\n",
    "Read RH/T User Register 1 0xE7\n",
    "\n",
    "Read Electronic ID 1st Byte 0xFA 0x0F\n",
    "\n",
    "Read Electronic ID 2nd Byte 0xFC 0xC9\n",
    "\n",
    "Read Firmware Revision 0x84 0xB8"
   ]
  },
  {
   "cell_type": "code",
   "execution_count": null,
   "id": "a324976e",
   "metadata": {},
   "outputs": [],
   "source": [
    "SI7021_i2c_address = 0x40\n",
    "SI7021_measure_temperature = bytearray([0xF3])\n",
    "SI7021_measure_relative_humidity = bytearray([0xF5])\n",
    "SI7021_read_ID_1 = bytearray([0xFA, 0x0F])\n",
    "SI7021_read_ID_2 = bytearray([0xFC, 0xC9])"
   ]
  },
  {
   "cell_type": "code",
   "execution_count": null,
   "id": "ae8f9724",
   "metadata": {},
   "outputs": [],
   "source": [
    "def convert_bytes_to_integer(bytes_to_convert):\n",
    "    'Use bitwise operators to convert the bytes into integers.'\n",
    "    integer = None\n",
    "    for chunk in bytes_to_convert:\n",
    "        if not integer:\n",
    "            integer = chunk\n",
    "        else:\n",
    "            integer = integer << 8\n",
    "            integer = integer | chunk\n",
    "    return integer"
   ]
  },
  {
   "cell_type": "code",
   "execution_count": null,
   "id": "1d6b965f",
   "metadata": {},
   "outputs": [],
   "source": [
    "def get_Si7021_device_info(i2c_object, SI7021_i2c_address):\n",
    "    '''Get the serial number and the sensor identifier. The identifier is\n",
    "    part of the bytes returned for the serial number.\n",
    "    '''\n",
    "    i2c = i2c_object\n",
    "    # Serial 1st half\n",
    "    i2c.writeto(SI7021_i2c_address, SI7021_read_ID_1)\n",
    "    id1 = bytearray(8)\n",
    "    utime.sleep(0.025)\n",
    "    i2c.readfrom_into(SI7021_i2c_address, id1)\n",
    "\n",
    "    # Serial 2nd half\n",
    "    i2c.writeto(SI7021_i2c_address, SI7021_read_ID_2)\n",
    "    id2 = bytearray(6)\n",
    "    utime.sleep(0.025)\n",
    "    i2c.readfrom_into(SI7021_i2c_address, id2)\n",
    "\n",
    "    combined_id = bytearray([id1[0], id1[2], id1[4], id1[6],\n",
    "                             id2[0], id2[1], id2[3], id2[4]])\n",
    "\n",
    "    serial = convert_bytes_to_integer(combined_id)\n",
    "    identifier = get_Si7021_device_identifier(id2[0])\n",
    "\n",
    "    return serial, identifier\n"
   ]
  },
  {
   "cell_type": "code",
   "execution_count": null,
   "id": "82f41745",
   "metadata": {},
   "outputs": [],
   "source": [
    "def get_Si7021_device_identifier(identifier_byte):\n",
    "    '''Convert the identifier byte to a device identifier. Values are based\n",
    "    on the information from page 24 of the datasheet.\n",
    "    '''\n",
    "    if identifier_byte == 0x00 or identifier_byte == 0xFF:\n",
    "        return 'engineering sample'\n",
    "    elif identifier_byte == 0x0D:\n",
    "        return 'Si7013'\n",
    "    elif identifier_byte == 0x14:\n",
    "        return 'Si7020'\n",
    "    elif identifier_byte == 0x15:\n",
    "        return 'Si7021'\n",
    "    else:\n",
    "        return 'unknown'"
   ]
  },
  {
   "cell_type": "code",
   "execution_count": null,
   "id": "9b40531b",
   "metadata": {},
   "outputs": [],
   "source": [
    "get_Si7021_device_info(i2c, 0x40)"
   ]
  },
  {
   "cell_type": "markdown",
   "id": "49455470",
   "metadata": {},
   "source": [
    "### Get temperature"
   ]
  },
  {
   "cell_type": "code",
   "execution_count": null,
   "id": "5034a236",
   "metadata": {},
   "outputs": [],
   "source": [
    "temperature_data = bytearray(3)"
   ]
  },
  {
   "cell_type": "code",
   "execution_count": null,
   "id": "8647710a",
   "metadata": {},
   "outputs": [],
   "source": [
    "i2c.writeto(SI7021_i2c_address, SI7021_measure_temperature)"
   ]
  },
  {
   "cell_type": "code",
   "execution_count": null,
   "id": "4e9eb49c",
   "metadata": {},
   "outputs": [],
   "source": [
    "i2c.readfrom_into(SI7021_i2c_address, temperature_data)"
   ]
  },
  {
   "cell_type": "code",
   "execution_count": null,
   "id": "c49f6a8b",
   "metadata": {},
   "outputs": [],
   "source": [
    "print(temperature_data)"
   ]
  },
  {
   "cell_type": "code",
   "execution_count": null,
   "id": "9b34b1ed",
   "metadata": {},
   "outputs": [],
   "source": [
    "def verify_SI7021_checksum(data):\n",
    "    crc = 0\n",
    "    values = data[:2]\n",
    "    checksum = int(data[-1])\n",
    "    for value in values:\n",
    "        crc = crc ^ value\n",
    "        for _ in range(8, 0, -1):\n",
    "            if crc & 0x80: #10000000\n",
    "                crc <<= 1\n",
    "                crc ^= 0x131 #100110001\n",
    "            else:\n",
    "                crc <<= 1\n",
    "    if crc != checksum:\n",
    "        return False\n",
    "    else:\n",
    "        return True"
   ]
  },
  {
   "cell_type": "code",
   "execution_count": null,
   "id": "883ba3ff",
   "metadata": {},
   "outputs": [],
   "source": [
    "verify_SI7021_checksum(temperature_data)"
   ]
  },
  {
   "cell_type": "markdown",
   "id": "a822f943",
   "metadata": {},
   "source": [
    "The third byte is a checksum, so only look at the first two for the temperature"
   ]
  },
  {
   "cell_type": "code",
   "execution_count": null,
   "id": "244da023",
   "metadata": {},
   "outputs": [],
   "source": [
    "temperature_data_int = convert_bytes_to_integer(temperature_data[:2])"
   ]
  },
  {
   "cell_type": "code",
   "execution_count": null,
   "id": "fc40844a",
   "metadata": {},
   "outputs": [],
   "source": [
    "print(temperature_data_int)"
   ]
  },
  {
   "cell_type": "markdown",
   "id": "7bc839ec",
   "metadata": {},
   "source": [
    "Temperature (C) =  ((175.72\\*Temp_Code) / 65536) - 46.85"
   ]
  },
  {
   "cell_type": "code",
   "execution_count": null,
   "id": "dc9253c1",
   "metadata": {},
   "outputs": [],
   "source": [
    "((175.72*temperature_data_int) / 65536) - 46.85"
   ]
  },
  {
   "cell_type": "code",
   "execution_count": null,
   "id": "1e328044",
   "metadata": {},
   "outputs": [],
   "source": [
    "def get_SI7021_temperature_celsius(i2c_object, SI7021_i2c_address):\n",
    "    'Retrieve data from the sensor and verify checksum'\n",
    "    i2c = i2c_object\n",
    "    data = bytearray(3)\n",
    "    #Measure temperature command = 0xF3\n",
    "    i2c.writeto(SI7021_i2c_address, SI7021_measure_temperature)\n",
    "    utime.sleep(0.02)\n",
    "\n",
    "    i2c.readfrom_into(SI7021_i2c_address, data)\n",
    "    value = convert_bytes_to_integer(data[:2])\n",
    "    value = ((175.72*value) / 65536) - 46.85\n",
    "    verified = verify_SI7021_checksum(data)\n",
    "    if verified:\n",
    "        return value\n",
    "    return False"
   ]
  },
  {
   "cell_type": "code",
   "execution_count": null,
   "id": "117f61ff",
   "metadata": {},
   "outputs": [],
   "source": [
    "get_SI7021_temperature_celsius(i2c, 0x40)"
   ]
  },
  {
   "cell_type": "markdown",
   "id": "61f8dc48",
   "metadata": {},
   "source": [
    "%RH = (125\\*RH_Code) / 65536 "
   ]
  },
  {
   "cell_type": "code",
   "execution_count": null,
   "id": "e88f5fd4",
   "metadata": {},
   "outputs": [],
   "source": [
    "def get_SI7021_relative_humidity(i2c_object, SI7021_i2c_address=0x40):\n",
    "    i2c = i2c_object\n",
    "    SI7021_measure_relative_humidity = bytearray([0xF5])\n",
    "    humidity_data = bytearray(3)\n",
    "    i2c.writeto(SI7021_i2c_address, SI7021_measure_relative_humidity)\n",
    "    utime.sleep(0.02)\n",
    "    i2c.readfrom_into(SI7021_i2c_address, humidity_data)\n",
    "    value = convert_bytes_to_integer(humidity_data[:2])\n",
    "    value = ((125*value) / 65536)\n",
    "    verified = verify_SI7021_checksum(humidity_data)\n",
    "    if not verified:\n",
    "        return False\n",
    "    return value"
   ]
  },
  {
   "cell_type": "code",
   "execution_count": null,
   "id": "4fe29ddb",
   "metadata": {},
   "outputs": [],
   "source": [
    "get_SI7021_relative_humidity(i2c, 0x40)"
   ]
  },
  {
   "cell_type": "code",
   "execution_count": null,
   "id": "cfd3702b",
   "metadata": {},
   "outputs": [],
   "source": [
    "global wdt_counter\n",
    "print(wdt_counter)\n",
    "wdt_counter = 0"
   ]
  },
  {
   "cell_type": "code",
   "execution_count": null,
   "id": "a37c65b4",
   "metadata": {},
   "outputs": [],
   "source": [
    "import machine\n",
    "import utime\n",
    "\n",
    "def convert_bytes_to_integer(bytes_to_convert):\n",
    "    integer = None\n",
    "    for chunk in bytes_to_convert:\n",
    "        if not integer:\n",
    "            integer = chunk\n",
    "        else:\n",
    "            integer = integer << 8\n",
    "            integer = integer | chunk\n",
    "    return integer\n",
    "\n",
    "def verify_SI7021_checksum(data_to_verify):\n",
    "    crc = 0\n",
    "    values = data_to_verify[:2]\n",
    "    checksum = int(data_to_verify[-1])\n",
    "    for value in values:\n",
    "        crc = crc ^ value\n",
    "        for _ in range(8, 0, -1):\n",
    "            if crc & 0x80: #10000000\n",
    "                crc <<= 1\n",
    "                crc ^= 0x131 #100110001\n",
    "            else:\n",
    "                crc <<= 1\n",
    "    if crc == checksum:\n",
    "        return True\n",
    "    else:\n",
    "        return False\n",
    "\n",
    "def get_SI7021_temperature_celsius(i2c_object, SI7021_i2c_address=0x40):\n",
    "    SI7021_measure_temperature_command = bytearray([0xF3])\n",
    "    temperature_data = bytearray(3)\n",
    "    i2c_object.writeto(SI7021_i2c_address, SI7021_measure_temperature_command)\n",
    "    utime.sleep(0.01)\n",
    "    i2c_object.readfrom_into(SI7021_i2c_address, temperature_data)\n",
    "    value = convert_bytes_to_integer(temperature_data[:2])\n",
    "    value = ((175.72*value) / 65536) - 46.85\n",
    "    verified = verify_SI7021_checksum(temperature_data)\n",
    "    if verified:\n",
    "        return value\n",
    "    return False\n",
    "\n",
    "def get_SI7021_relative_humidity(i2c_object, SI7021_i2c_address=0x40):\n",
    "    SI7021_measure_relative_humidity = bytearray([0xF5])\n",
    "    humidity_data = bytearray(3)\n",
    "    i2c_object.writeto(SI7021_i2c_address, SI7021_measure_relative_humidity)\n",
    "    utime.sleep(0.02)\n",
    "    i2c_object.readfrom_into(SI7021_i2c_address, humidity_data)\n",
    "    value = convert_bytes_to_integer(humidity_data[:2])\n",
    "    value = ((125*value) / 65536)\n",
    "    verified = verify_SI7021_checksum(humidity_data)\n",
    "    if verified:\n",
    "        return value\n",
    "    return False\n",
    "\n",
    "def read_temp_humidity_data(i2c_object, SI7021_i2c_address=0x40):\n",
    "    return {\"temperature_celcius\" : get_SI7021_temperature_celsius(i2c_object, SI7021_i2c_address),\n",
    "            \"relative_humidity\" : get_SI7021_relative_humidity(i2c_object, SI7021_i2c_address)}"
   ]
  },
  {
   "cell_type": "code",
   "execution_count": null,
   "id": "0c312c96",
   "metadata": {},
   "outputs": [],
   "source": [
    "read_temp_humidity_data(i2c, 0x40)"
   ]
  },
  {
   "cell_type": "code",
   "execution_count": null,
   "id": "28bf23b4",
   "metadata": {},
   "outputs": [],
   "source": [
    "import gc\n",
    "gc.collect()\n",
    "gc.threshold(gc.mem_free() // 4 + gc.mem_alloc())"
   ]
  },
  {
   "cell_type": "code",
   "execution_count": null,
   "id": "16361494",
   "metadata": {},
   "outputs": [],
   "source": [
    "temp_humidity_script = \"\"\"import machine\n",
    "import utime\n",
    "\n",
    "def convert_bytes_to_integer(bytes_to_convert):\n",
    "    integer = None\n",
    "    for chunk in bytes_to_convert:\n",
    "        if not integer:\n",
    "            integer = chunk\n",
    "        else:\n",
    "            integer = integer << 8\n",
    "            integer = integer | chunk\n",
    "    return integer\n",
    "\n",
    "def verify_SI7021_checksum(data_to_verify):\n",
    "    crc = 0\n",
    "    values = data_to_verify[:2]\n",
    "    checksum = int(data_to_verify[-1])\n",
    "    for value in values:\n",
    "        crc = crc ^ value\n",
    "        for _ in range(8, 0, -1):\n",
    "            if crc & 0x80: #10000000\n",
    "                crc <<= 1\n",
    "                crc ^= 0x131 #100110001\n",
    "            else:\n",
    "                crc <<= 1\n",
    "    if crc == checksum:\n",
    "        return True\n",
    "    else:\n",
    "        return False\n",
    "\n",
    "def get_SI7021_temperature_celsius(i2c_object, SI7021_i2c_address=0x40):\n",
    "    SI7021_measure_temperature_command = bytearray([0xF3])\n",
    "    temperature_data = bytearray(3)\n",
    "    i2c_object.writeto(SI7021_i2c_address, SI7021_measure_temperature_command)\n",
    "    utime.sleep(0.01)\n",
    "    i2c_object.readfrom_into(SI7021_i2c_address, temperature_data)\n",
    "    value = convert_bytes_to_integer(temperature_data[:2])\n",
    "    value = ((175.72*value) / 65536) - 46.85\n",
    "    verified = verify_SI7021_checksum(temperature_data)\n",
    "    if verified:\n",
    "        return value\n",
    "    return False\n",
    "\n",
    "def get_SI7021_relative_humidity(i2c_object, SI7021_i2c_address=0x40):\n",
    "    SI7021_measure_relative_humidity = bytearray([0xF5])\n",
    "    humidity_data = bytearray(3)\n",
    "    i2c_object.writeto(SI7021_i2c_address, SI7021_measure_relative_humidity)\n",
    "    utime.sleep(0.02)\n",
    "    i2c_object.readfrom_into(SI7021_i2c_address, humidity_data)\n",
    "    value = convert_bytes_to_integer(humidity_data[:2])\n",
    "    value = ((125*value) / 65536)\n",
    "    verified = verify_SI7021_checksum(humidity_data)\n",
    "    if verified:\n",
    "        return value\n",
    "    return False\n",
    "\n",
    "def read_temp_humidity_data(i2c_object, SI7021_i2c_address=0x40):\n",
    "    return {\"temperature_celcius\" : get_SI7021_temperature_celsius(i2c_object, SI7021_i2c_address),\n",
    "            \"relative_humidity\" : get_SI7021_relative_humidity(i2c_object, SI7021_i2c_address)}\n",
    "\"\"\""
   ]
  },
  {
   "cell_type": "code",
   "execution_count": null,
   "id": "f8660861",
   "metadata": {},
   "outputs": [],
   "source": []
  },
  {
   "cell_type": "code",
   "execution_count": null,
   "id": "be79653f",
   "metadata": {},
   "outputs": [],
   "source": [
    "import os\n",
    "print(os.listdir())"
   ]
  },
  {
   "cell_type": "code",
   "execution_count": null,
   "id": "db9f7c77",
   "metadata": {},
   "outputs": [],
   "source": [
    "with open('temp_humidity_sensor.py') as f:\n",
    "    print(f.read())"
   ]
  },
  {
   "cell_type": "code",
   "execution_count": null,
   "id": "f7e6ddaa",
   "metadata": {},
   "outputs": [],
   "source": [
    "with open('temp_humidity_sensor.txt', 'w') as f:\n",
    "    f.write(temp_humidity_script)"
   ]
  },
  {
   "cell_type": "markdown",
   "id": "923d6c38",
   "metadata": {},
   "source": [
    "### Double check the write"
   ]
  },
  {
   "cell_type": "code",
   "execution_count": null,
   "id": "bf5abe0c",
   "metadata": {},
   "outputs": [],
   "source": [
    "with open('temp_humidity_sensor.txt') as f:\n",
    "    print(f.read())"
   ]
  },
  {
   "cell_type": "markdown",
   "id": "29e77274",
   "metadata": {},
   "source": [
    "## Move temp file to `boot.py`"
   ]
  },
  {
   "cell_type": "code",
   "execution_count": null,
   "id": "7f68da2c",
   "metadata": {},
   "outputs": [],
   "source": [
    "os.rename('temp_humidity_sensor.txt', 'temp_humidity_sensor.py')"
   ]
  },
  {
   "cell_type": "code",
   "execution_count": null,
   "id": "59773c98",
   "metadata": {},
   "outputs": [],
   "source": []
  },
  {
   "cell_type": "code",
   "execution_count": null,
   "id": "69fad7a8",
   "metadata": {},
   "outputs": [],
   "source": [
    "%disconnect"
   ]
  },
  {
   "cell_type": "code",
   "execution_count": null,
   "id": "e7e58ccd",
   "metadata": {},
   "outputs": [],
   "source": [
    "machine.reset()"
   ]
  },
  {
   "cell_type": "code",
   "execution_count": null,
   "id": "a5d5101e",
   "metadata": {},
   "outputs": [],
   "source": []
  }
 ],
 "metadata": {
  "kernelspec": {
   "display_name": "MicroPython upydevice kernel",
   "language": "python",
   "name": "micropython-upydevice"
  },
  "language_info": {
   "codemirror_mode": "python",
   "file_extension": ".py",
   "mimetype": "text/x-python",
   "name": "python",
   "pygments_lexer": "python"
  }
 },
 "nbformat": 4,
 "nbformat_minor": 5
}
