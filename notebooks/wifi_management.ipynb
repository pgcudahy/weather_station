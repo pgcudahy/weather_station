{
 "cells": [
  {
   "cell_type": "code",
   "execution_count": null,
   "metadata": {},
   "outputs": [],
   "source": [
    "import machine\n",
    "import uasyncio as asyncio\n",
    "import ujson\n",
    "import network\n",
    "import webrepl\n",
    "\n",
    "def connectWifi():\n",
    "    \n",
    "    with open('credentials.json', 'r') as f:\n",
    "        credentials = ujson.load(f)\n",
    "    f.close()\n",
    "\n",
    "    print(\"Checking network status\")\n",
    "    wifi_interface = network.WLAN(network.STA_IF)\n",
    "    if not wifi_interface.isconnected():\n",
    "        wifi_interface.active(False)\n",
    "        print('First connection attempt to', credentials['ssid'])\n",
    "        wifi_interface.active(True)\n",
    "        wifi_interface.ifconfig(('192.168.1.130','255.255.255.0','192.168.1.1','8.8.8.8'))\n",
    "        wifi_interface.connect(credentials['ssid'], credentials['password'])\n",
    "        connect_attempts = 0\n",
    "        frequency = 5000\n",
    "        led = machine.PWM(machine.Pin(2), frequency)\n",
    "        while connect_attempts < 12:\n",
    "            led.duty(0)\n",
    "            if wifi_interface.isconnected():\n",
    "                webrepl.start()\n",
    "                print('Connected! Network config:', wifi_interface.ifconfig())\n",
    "                for i in range(5):\n",
    "                    led.duty(0)\n",
    "                    asyncio.sleep(0.3)\n",
    "                    led.duty(1023)\n",
    "                    asyncio.sleep(0.3)\n",
    "                break\n",
    "            else:\n",
    "                connect_attempts += 1\n",
    "                wifi_interface.active(False)\n",
    "                print('reattempting connection, #', connect_attempts)\n",
    "                wifi_interface.active(True)\n",
    "                wifi_interface.connect(credentials['ssid'], credentials['password'])\n",
    "                for duty_cycle in range(0, 1024):\n",
    "                    led.duty(duty_cycle)\n",
    "                    asyncio.sleep(0.003)\n",
    "                asyncio.sleep(0.5)\n",
    "        #If unsuccessful, try a reset\n",
    "        machine.reset()\n",
    "    else:\n",
    "        print(\"still connected to wifi\")\n"
   ]
  },
  {
   "cell_type": "code",
   "execution_count": null,
   "metadata": {},
   "outputs": [],
   "source": [
    "wifi_script = \"\"\"import machine\n",
    "import uasyncio as asyncio\n",
    "import ujson\n",
    "import network\n",
    "import webrepl\n",
    "\n",
    "def connectWifi():\n",
    "    \n",
    "    with open('credentials.json', 'r') as f:\n",
    "        credentials = ujson.load(f)\n",
    "    f.close()\n",
    "\n",
    "    print(\"Checking network status\")\n",
    "    wifi_interface = network.WLAN(network.STA_IF)\n",
    "    if not wifi_interface.isconnected():\n",
    "        wifi_interface.active(False)\n",
    "        print('First connection attempt to', credentials['ssid'])\n",
    "        wifi_interface.active(True)\n",
    "        wifi_interface.ifconfig(('192.168.1.130','255.255.255.0','192.168.1.1','8.8.8.8'))\n",
    "        wifi_interface.connect(credentials['ssid'], credentials['password'])\n",
    "        connect_attempts = 0\n",
    "        frequency = 5000\n",
    "        led = machine.PWM(machine.Pin(2), frequency)\n",
    "        while connect_attempts < 12:\n",
    "            led.duty(0)\n",
    "            if wifi_interface.isconnected():\n",
    "                webrepl.start()\n",
    "                print('Connected! Network config:', wifi_interface.ifconfig())\n",
    "                for i in range(5):\n",
    "                    led.duty(0)\n",
    "                    asyncio.sleep(0.3)\n",
    "                    led.duty(1023)\n",
    "                    asyncio.sleep(0.3)\n",
    "                break\n",
    "            else:\n",
    "                connect_attempts += 1\n",
    "                wifi_interface.active(False)\n",
    "                print('reattempting connection, #', connect_attempts)\n",
    "                wifi_interface.active(True)\n",
    "                wifi_interface.connect(credentials['ssid'], credentials['password'])\n",
    "                for duty_cycle in range(0, 1024):\n",
    "                    led.duty(duty_cycle)\n",
    "                    asyncio.sleep(0.003)\n",
    "                asyncio.sleep(0.5)\n",
    "        #If unsuccessful, try a reset\n",
    "        machine.reset()\n",
    "    else:\n",
    "        print(\"still connected to wifi\")\n",
    "\n",
    "\"\"\""
   ]
  },
  {
   "cell_type": "code",
   "execution_count": null,
   "metadata": {},
   "outputs": [],
   "source": [
    "import os \n",
    "os.listdir()"
   ]
  },
  {
   "cell_type": "code",
   "execution_count": null,
   "metadata": {},
   "outputs": [],
   "source": [
    "with open('wifi.py') as f:\n",
    "    print(f.read())"
   ]
  },
  {
   "cell_type": "code",
   "execution_count": null,
   "metadata": {},
   "outputs": [],
   "source": [
    "with open('wifi.txt', 'w') as f:\n",
    "    f.write(wifi_script)"
   ]
  },
  {
   "cell_type": "markdown",
   "metadata": {},
   "source": [
    "### Double check the write"
   ]
  },
  {
   "cell_type": "code",
   "execution_count": null,
   "metadata": {},
   "outputs": [],
   "source": [
    "with open('wifi.txt') as f:\n",
    "    print(f.read())"
   ]
  },
  {
   "cell_type": "markdown",
   "metadata": {},
   "source": [
    "## Move temp file to `wifi.py`"
   ]
  },
  {
   "cell_type": "code",
   "execution_count": null,
   "metadata": {},
   "outputs": [],
   "source": [
    "os.rename('wifi.txt', 'wifi.py')"
   ]
  },
  {
   "cell_type": "code",
   "execution_count": null,
   "metadata": {},
   "outputs": [],
   "source": []
  }
 ],
 "metadata": {
  "kernelspec": {
   "display_name": "MicroPython upydevice kernel",
   "language": "python",
   "name": "micropython-upydevice"
  },
  "language_info": {
   "codemirror_mode": "python",
   "file_extension": ".py",
   "mimetype": "text/x-python",
   "name": "python",
   "pygments_lexer": "python"
  }
 },
 "nbformat": 4,
 "nbformat_minor": 4
}
