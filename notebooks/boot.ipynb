{
 "cells": [
  {
   "cell_type": "markdown",
   "metadata": {},
   "source": [
    "# Uses kernel at  https://github.com/Carglglz/jupyter_upydevice_kernel"
   ]
  },
  {
   "cell_type": "code",
   "execution_count": 1,
   "metadata": {},
   "outputs": [
    {
     "name": "stdout",
     "output_type": "stream",
     "text": [
      "\n",
      "\n",
      "*** OSError *** \n",
      "\n",
      "\n",
      " [Errno 54] Connection reset by peer \n",
      "\u001b[31m\n",
      "\n",
      "*** Connection broken ***\n",
      "\u001b[0mYou may need to reconnect"
     ]
    }
   ],
   "source": [
    "%websocketconnect 192.168.1.130:8266 --password horsetoe"
   ]
  },
  {
   "cell_type": "code",
   "execution_count": null,
   "metadata": {},
   "outputs": [],
   "source": [
    "%websocketconnect 192.168.4.1:8266 --password horsetoe"
   ]
  },
  {
   "cell_type": "markdown",
   "metadata": {},
   "source": [
    "### If webrepl not working, can try\n",
    "`%serialconnect /dev/tty.SLAB_USBtoUART 115200`"
   ]
  },
  {
   "cell_type": "code",
   "execution_count": null,
   "metadata": {},
   "outputs": [],
   "source": [
    "import os\n",
    "print(os.listdir())"
   ]
  },
  {
   "cell_type": "markdown",
   "metadata": {},
   "source": [
    "See the current boot.py on the esp32 device"
   ]
  },
  {
   "cell_type": "code",
   "execution_count": null,
   "metadata": {},
   "outputs": [],
   "source": [
    "with open('boot.py') as f:\n",
    "    print(f.read())"
   ]
  },
  {
   "cell_type": "code",
   "execution_count": null,
   "metadata": {},
   "outputs": [],
   "source": [
    "with open('credentials.json', 'r') as f:\n",
    "    credentials = ujson.load(f)\n",
    "f.close()"
   ]
  },
  {
   "cell_type": "code",
   "execution_count": null,
   "metadata": {},
   "outputs": [],
   "source": [
    "credentials"
   ]
  },
  {
   "cell_type": "markdown",
   "metadata": {},
   "source": [
    "Rather than block on waiting for wifi, following https://stackoverflow.com/questions/567622/is-there-a-pythonic-way-to-try-something-up-to-a-maximum-number-of-times to try to connect 12 times"
   ]
  },
  {
   "cell_type": "markdown",
   "metadata": {},
   "source": [
    "## Write a boot script that you want to write to flash"
   ]
  },
  {
   "cell_type": "code",
   "execution_count": null,
   "metadata": {},
   "outputs": [],
   "source": [
    "script = \"\"\"import network\n",
    "import webrepl\n",
    "import time\n",
    "import ntptime\n",
    "import machine\n",
    "import ujson\n",
    "import gc\n",
    "\n",
    "with open('credentials.json', 'r') as f:\n",
    "    credentials = ujson.load(f)\n",
    "f.close()\n",
    "\n",
    "def do_connect():\n",
    "    print(\"Connecting to \", credentials['ssid'])\n",
    "    wifi_interface = network.WLAN(network.STA_IF)\n",
    "    if not wifi_interface.isconnected():\n",
    "        wifi_interface.active(False)\n",
    "        print('First connection attempt...')\n",
    "        wifi_interface.active(True)\n",
    "        wifi_interface.ifconfig(('192.168.1.130','255.255.255.0','192.168.1.1','8.8.8.8'))\n",
    "        wifi_interface.connect(credentials['ssid'], credentials['password'])\n",
    "    time.sleep(0.5)\n",
    "    connect_attempts = 0\n",
    "    frequency = 5000\n",
    "    led = machine.PWM(machine.Pin(2), frequency)\n",
    "    while connect_attempts < 12:\n",
    "        led.duty(0)\n",
    "        print('check wifi status')\n",
    "        if wifi_interface.isconnected():\n",
    "            webrepl.start()\n",
    "            print('network config:', wifi_interface.ifconfig())\n",
    "            for i in range(5):\n",
    "                led.duty(0)\n",
    "                time.sleep(0.3)\n",
    "                led.duty(1023)\n",
    "                time.sleep(0.3)\n",
    "            break\n",
    "        else:\n",
    "            connect_attempts += 1\n",
    "            wifi_interface.active(False)\n",
    "            print('reattempting connection')\n",
    "            wifi_interface.active(True)\n",
    "            wifi_interface.connect(credentials['ssid'], credentials['password'])\n",
    "            for duty_cycle in range(0, 1024):\n",
    "                led.duty(duty_cycle)\n",
    "                time.sleep(0.003)\n",
    "            time.sleep(0.5)\n",
    "\n",
    "do_connect()\n",
    "ntptime.settime()\n",
    "gc.collect()\n",
    "\"\"\""
   ]
  },
  {
   "cell_type": "markdown",
   "metadata": {},
   "source": [
    "### First write to a holder location"
   ]
  },
  {
   "cell_type": "code",
   "execution_count": null,
   "metadata": {},
   "outputs": [],
   "source": [
    "with open('boot.txt', 'w') as f:\n",
    "    f.write(script)"
   ]
  },
  {
   "cell_type": "markdown",
   "metadata": {},
   "source": [
    "### Double check the write"
   ]
  },
  {
   "cell_type": "code",
   "execution_count": null,
   "metadata": {},
   "outputs": [],
   "source": [
    "with open('boot.txt') as f:\n",
    "    print(f.read())"
   ]
  },
  {
   "cell_type": "markdown",
   "metadata": {},
   "source": [
    "## Move temp file to `boot.py`"
   ]
  },
  {
   "cell_type": "code",
   "execution_count": null,
   "metadata": {},
   "outputs": [],
   "source": [
    "os.rename('boot.txt', 'boot.py')"
   ]
  },
  {
   "cell_type": "code",
   "execution_count": null,
   "metadata": {},
   "outputs": [],
   "source": [
    "%disconnect"
   ]
  },
  {
   "cell_type": "code",
   "execution_count": null,
   "metadata": {},
   "outputs": [],
   "source": [
    "%rebootdevice"
   ]
  },
  {
   "cell_type": "code",
   "execution_count": null,
   "metadata": {},
   "outputs": [],
   "source": [
    "wifi_interface = network.WLAN(network.STA_IF)"
   ]
  },
  {
   "cell_type": "code",
   "execution_count": null,
   "metadata": {},
   "outputs": [],
   "source": [
    "wifi_interface.isconnected()"
   ]
  },
  {
   "cell_type": "code",
   "execution_count": null,
   "metadata": {},
   "outputs": [],
   "source": [
    "wifi_interface.ifconfig()"
   ]
  },
  {
   "cell_type": "code",
   "execution_count": null,
   "metadata": {},
   "outputs": [],
   "source": [
    "ap_if = network.WLAN(network.AP_IF)"
   ]
  },
  {
   "cell_type": "code",
   "execution_count": null,
   "metadata": {},
   "outputs": [],
   "source": [
    "ap_if.active(False)"
   ]
  },
  {
   "cell_type": "code",
   "execution_count": null,
   "metadata": {},
   "outputs": [],
   "source": [
    "wifi_interface.active(True)"
   ]
  },
  {
   "cell_type": "code",
   "execution_count": null,
   "metadata": {},
   "outputs": [],
   "source": [
    "wifi_interface.ifconfig(('192.168.1.230','255.255.255.0','192.168.1.1','8.8.8.8'))"
   ]
  },
  {
   "cell_type": "code",
   "execution_count": null,
   "metadata": {},
   "outputs": [],
   "source": [
    "wifi_interface.connect(\"Nevertheless\", \"obama4ever\")"
   ]
  },
  {
   "cell_type": "code",
   "execution_count": null,
   "metadata": {},
   "outputs": [],
   "source": [
    "wifi_interface.isconnected()"
   ]
  },
  {
   "cell_type": "code",
   "execution_count": null,
   "metadata": {},
   "outputs": [],
   "source": []
  }
 ],
 "metadata": {
  "kernelspec": {
   "display_name": "Python 3",
   "language": "python",
   "name": "python3"
  },
  "language_info": {
   "codemirror_mode": {
    "name": "ipython",
    "version": 3
   },
   "file_extension": ".py",
   "mimetype": "text/x-python",
   "name": "python",
   "nbconvert_exporter": "python",
   "pygments_lexer": "ipython3",
   "version": "3.8.6"
  }
 },
 "nbformat": 4,
 "nbformat_minor": 2
}
