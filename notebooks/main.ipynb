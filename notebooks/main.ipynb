{
 "cells": [
  {
   "cell_type": "markdown",
   "metadata": {},
   "source": [
    "# The main loop"
   ]
  },
  {
   "cell_type": "code",
   "execution_count": null,
   "metadata": {},
   "outputs": [],
   "source": [
    "%websocketconnect 192.168.1.130 --password horsetoe -kbi"
   ]
  },
  {
   "cell_type": "code",
   "execution_count": null,
   "metadata": {},
   "outputs": [],
   "source": [
    "import os\n",
    "os.listdir()"
   ]
  },
  {
   "cell_type": "code",
   "execution_count": null,
   "metadata": {},
   "outputs": [],
   "source": [
    "import gc\n",
    "gc.collect()\n",
    "gc.threshold(gc.mem_free() // 4 + gc.mem_alloc())"
   ]
  },
  {
   "cell_type": "code",
   "execution_count": null,
   "metadata": {},
   "outputs": [],
   "source": [
    "import utime\n",
    "import wind_rain_sensors\n",
    "import pressure_sensor\n",
    "import temp_humidity_sensor"
   ]
  },
  {
   "cell_type": "code",
   "execution_count": null,
   "metadata": {},
   "outputs": [],
   "source": [
    "i2c = machine.I2C(sda=machine.Pin(4), scl=machine.Pin(5))"
   ]
  },
  {
   "cell_type": "code",
   "execution_count": null,
   "metadata": {},
   "outputs": [],
   "source": [
    "timestamp = {\"timestamp\" : utime.localtime()}\n",
    "timestamp.update(wind_rain_sensors.read_wind_rain_data())\n",
    "timestamp.update(pressure_sensor.get_pressure_data(i2c, 0x60))\n",
    "timestamp.update(temp_humidity_sensor.read_temp_humidity_data(i2c, 0x40))\n",
    "timestamp"
   ]
  },
  {
   "cell_type": "markdown",
   "metadata": {},
   "source": [
    "`{'wind_direction_raw': 518, 'pressure_pascals': 89528.2, 'wind_speed_raw': 56, 'timestamp': (2021, 8, 21, 14, 22, 12, 5, 233), 'rain_amount_raw': 0, 'elapsed_time': 13272, 'temperature_celcius': 18.9485, 'relative_humidity': 75.0084}`"
   ]
  },
  {
   "cell_type": "code",
   "execution_count": null,
   "metadata": {},
   "outputs": [],
   "source": [
    "import wifi\n",
    "import send_data\n",
    "import wind_rain_sensors\n",
    "import pressure_sensor\n",
    "import temp_humidity_sensor\n",
    "import gc\n",
    "import collections.deque\n",
    "import ntptime\n",
    "import network\n",
    "import utime\n",
    "import machine\n",
    "import power_status\n",
    "\n",
    "print(\"running garbage collector\")\n",
    "gc.collect()  # clean up memory after imports\n",
    "\n",
    "wifi_interface = network.WLAN(network.STA_IF)\n",
    "\n",
    "while not wifi_interface.isconnected():\n",
    "    wifi.connectWifi()\n",
    "\n",
    "print('network config:', wifi_interface.ifconfig())\n",
    "\n",
    "i2c = machine.I2C(sda=machine.Pin(4), scl=machine.Pin(5))\n",
    "\n",
    "data_queue = collections.deque.deque()\n",
    "get_ID = send_data.generateMessageID()\n",
    "\n",
    "print(\"setting time\")\n",
    "ntptime.settime()\n",
    "\n",
    "def wdt_callback():\n",
    "    global wdt_counter\n",
    "    wdt_counter += 1\n",
    "    print(\"wdt counter set to: {}\".format(wdt_counter))\n",
    "    if (wdt_counter > 10):\n",
    "        try:\n",
    "            print(\"watchdog timer has timed out\")\n",
    "            send_data.postData({'reset_time_date': list(utime.localtime()),\n",
    "                                'reset_cause': 'watchdog_timer'}, \n",
    "                               url=\"http://192.168.1.151:9494/error\")\n",
    "        except Exception as e:\n",
    "            print(\"Error sending wdt data: {}\".format(e))\n",
    "        finally:\n",
    "            print(\"resetting device\")\n",
    "            machine.reset()\n",
    "\n",
    "wdt_counter = 0\n",
    "# Set a virtual timer by setting Timer ID of -1\n",
    "wdt_timer = machine.Timer(-1)\n",
    "# Create a periodic timer with period of 60000ms, aka 60 seconds\n",
    "wdt_timer.init(period=60000, mode=machine.Timer.PERIODIC, callback=lambda t:wdt_callback())\n",
    "print(\"wdt initialized\")\n",
    "\n",
    "# Reset codes:\n",
    "# 0 = power on, 1 = WDT reset, 4 = soft reset, 5 = DEEP_SLEEP reset, 6 = hard reset,\n",
    "def reportLastReset():\n",
    "    try:\n",
    "        print(\"Sending reset data\")\n",
    "        send_data.postData({'reset_time_date': list(utime.localtime()),\n",
    "                            'reset_cause': machine.reset_cause()}, \n",
    "                            url=\"http://192.168.1.151:9494/error\")\n",
    "        print(\"Sent reset data to server\")\n",
    "    except Exception as e:\n",
    "            print(\"Error sending reset data: {}\".format(e))\n",
    "\n",
    "reportLastReset()\n",
    "\n",
    "loop_counter = 0\n",
    "\n",
    "while True:\n",
    "    print(\"loop counter = \", loop_counter)\n",
    "    \n",
    "    print(\"getting data\")\n",
    "    timestamp = {\"timestamp\" : utime.localtime()}\n",
    "    timestamp.update(wind_rain_sensors.read_wind_rain_data())\n",
    "    timestamp.update(pressure_sensor.get_pressure_data(i2c, 0x60))\n",
    "    timestamp.update(temp_humidity_sensor.read_temp_humidity_data(i2c, 0x40))\n",
    "    \n",
    "    data_queue.append(timestamp)\n",
    "    \n",
    "    if loop_counter % 3 == 0:\n",
    "        print(\"sending data\")\n",
    "        send_data.processQueue(data_queue, get_ID, \"http://192.168.1.151:9494/station\")\n",
    "        #print(\"feeding WatchDog timer\")\n",
    "        wdt_counter = 0\n",
    "\n",
    "    if loop_counter % 6 == 0:\n",
    "        print(\"checking Wifi Connection\")\n",
    "        wifi.connectWifi()\n",
    "        #print(\"sending battery status\")\n",
    "        send_data.postData(power_status.getBatteryStatus(),\n",
    "                           url=\"http://192.168.1.151:9494/power\")\n",
    "    \n",
    "    if loop_counter % 30 == 0:\n",
    "        pass\n",
    "        #print(\"sending log data\")\n",
    "        #TODO send memory info, queue length\n",
    "        \n",
    "    if loop_counter % 60 == 0:\n",
    "        print(\"collecting garbage\")\n",
    "        #http://docs.micropython.org/en/latest/reference/constrained.html#the-heap\n",
    "        gc.collect()\n",
    "        gc.threshold(gc.mem_free() // 4 + gc.mem_alloc())\n",
    "        \n",
    "    if loop_counter % 2000 == 0:\n",
    "        print(\"setting time with ntp\")\n",
    "        try:\n",
    "            ntptime.settime()\n",
    "        except OSError as e:\n",
    "            print(e)\n",
    "\n",
    "    loop_counter += 1\n",
    "    if loop_counter > 2000:\n",
    "        loop_counter = 0\n",
    "\n",
    "    utime.sleep(10) # Consider deep sleep modes - https://docs.micropython.org/en/latest/library/esp.html"
   ]
  },
  {
   "cell_type": "code",
   "execution_count": null,
   "metadata": {},
   "outputs": [],
   "source": []
  },
  {
   "cell_type": "code",
   "execution_count": null,
   "metadata": {},
   "outputs": [],
   "source": [
    "import gc\n",
    "gc.collect()"
   ]
  },
  {
   "cell_type": "code",
   "execution_count": null,
   "metadata": {},
   "outputs": [],
   "source": [
    "main_script=\"\"\"import wifi\n",
    "import send_data\n",
    "import wind_rain_sensors\n",
    "import pressure_sensor\n",
    "import temp_humidity_sensor\n",
    "import gc\n",
    "import collections.deque\n",
    "import ntptime\n",
    "import network\n",
    "import utime\n",
    "import machine\n",
    "import power_status\n",
    "\n",
    "gc.collect()  # clean up memory after imports\n",
    "\n",
    "wifi_interface = network.WLAN(network.STA_IF)\n",
    "\n",
    "while not wifi_interface.isconnected():\n",
    "    wifi.connectWifi()\n",
    "\n",
    "i2c = machine.I2C(sda=machine.Pin(4), scl=machine.Pin(5))\n",
    "\n",
    "data_queue = collections.deque.deque()\n",
    "get_ID = send_data.generateMessageID()\n",
    "\n",
    "ntptime.settime()\n",
    "\n",
    "def wdt_callback():\n",
    "    global wdt_counter\n",
    "    wdt_counter += 1\n",
    "    if (wdt_counter > 10):\n",
    "        try:\n",
    "            print(\"watchdog timer has timed out\")\n",
    "            send_data.postData({'reset_time_date': list(utime.localtime()),\n",
    "                                'reset_cause': 'watchdog_timer'}, \n",
    "                               url=\"http://192.168.1.151:9494/error\")\n",
    "        except Exception as e:\n",
    "            print(\"Error sending wdt data: {}\".format(e))\n",
    "        finally:\n",
    "            machine.reset()\n",
    "\n",
    "wdt_counter = 0\n",
    "# Set a virtual timer by setting Timer ID of -1\n",
    "wdt_timer = machine.Timer(-1)\n",
    "# Create a periodic timer with period of 60000ms, aka 60 seconds\n",
    "wdt_timer.init(period=60000, mode=machine.Timer.PERIODIC, callback=lambda t:wdt_callback())\n",
    "\n",
    "# Reset codes:\n",
    "# 0 = power on, 1 = WDT reset, 4 = soft reset, 5 = DEEP_SLEEP reset, 6 = hard reset,\n",
    "def reportLastReset():\n",
    "    try:\n",
    "        send_data.postData({'reset_time_date': list(utime.localtime()),\n",
    "                            'reset_cause': machine.reset_cause()}, \n",
    "                            url=\"http://192.168.1.151:9494/error\")\n",
    "    except Exception as e:\n",
    "            print(\"Error sending reset data: {}\".format(e))\n",
    "\n",
    "reportLastReset()\n",
    "\n",
    "loop_counter = 0\n",
    "\n",
    "while True:\n",
    "    \n",
    "    timestamp = {\"timestamp\" : utime.localtime()}\n",
    "    timestamp.update(wind_rain_sensors.read_wind_rain_data())\n",
    "    timestamp.update(pressure_sensor.get_pressure_data(i2c, 0x60))\n",
    "    timestamp.update(temp_humidity_sensor.read_temp_humidity_data(i2c, 0x40))\n",
    "    \n",
    "    data_queue.append(timestamp)\n",
    "    \n",
    "    if loop_counter % 3 == 0:\n",
    "        send_data.processQueue(data_queue, get_ID, \"http://192.168.1.151:9494/station\")\n",
    "        wdt_counter = 0\n",
    "\n",
    "    if loop_counter % 6 == 0:\n",
    "        wifi.connectWifi()\n",
    "        send_data.postData(power_status.getBatteryStatus(),\n",
    "                           url=\"http://192.168.1.151:9494/power\")\n",
    "    \n",
    "    if loop_counter % 30 == 0:\n",
    "        pass\n",
    "        \n",
    "    if loop_counter % 60 == 0:\n",
    "        gc.collect()\n",
    "        gc.threshold(gc.mem_free() // 4 + gc.mem_alloc())\n",
    "        \n",
    "    if loop_counter % 2000 == 0:\n",
    "        try:\n",
    "            ntptime.settime()\n",
    "        except OSError as e:\n",
    "            print(e)\n",
    "\n",
    "    loop_counter += 1\n",
    "    if loop_counter > 2000:\n",
    "        loop_counter = 0\n",
    "\n",
    "    utime.sleep(10)\n",
    "\"\"\""
   ]
  },
  {
   "cell_type": "code",
   "execution_count": null,
   "metadata": {},
   "outputs": [],
   "source": [
    "os.listdir()"
   ]
  },
  {
   "cell_type": "code",
   "execution_count": null,
   "metadata": {},
   "outputs": [],
   "source": [
    "with open('main.py') as f:\n",
    "    print(f.read())"
   ]
  },
  {
   "cell_type": "code",
   "execution_count": null,
   "metadata": {},
   "outputs": [],
   "source": [
    "os.remove('main.py')"
   ]
  },
  {
   "cell_type": "code",
   "execution_count": null,
   "metadata": {},
   "outputs": [],
   "source": [
    "with open('main.txt', 'w') as f:\n",
    "    f.write(main_script)"
   ]
  },
  {
   "cell_type": "markdown",
   "metadata": {},
   "source": [
    "### Double check the write"
   ]
  },
  {
   "cell_type": "code",
   "execution_count": null,
   "metadata": {},
   "outputs": [],
   "source": [
    "with open('main.txt') as f:\n",
    "    print(f.read())"
   ]
  },
  {
   "cell_type": "markdown",
   "metadata": {},
   "source": [
    "## Move temp file to `send_data.py`"
   ]
  },
  {
   "cell_type": "code",
   "execution_count": null,
   "metadata": {},
   "outputs": [],
   "source": [
    "os.rename('main.txt', 'main.py')"
   ]
  },
  {
   "cell_type": "code",
   "execution_count": null,
   "metadata": {},
   "outputs": [],
   "source": []
  },
  {
   "cell_type": "code",
   "execution_count": null,
   "metadata": {},
   "outputs": [],
   "source": [
    "import machine\n",
    "machine.reset()"
   ]
  },
  {
   "cell_type": "code",
   "execution_count": null,
   "metadata": {},
   "outputs": [],
   "source": [
    "%rebootdevice"
   ]
  },
  {
   "cell_type": "code",
   "execution_count": null,
   "metadata": {},
   "outputs": [],
   "source": [
    "%disconnect"
   ]
  },
  {
   "cell_type": "code",
   "execution_count": null,
   "metadata": {},
   "outputs": [],
   "source": []
  }
 ],
 "metadata": {
  "kernelspec": {
   "display_name": "MicroPython upydevice kernel",
   "language": "python",
   "name": "micropython-upydevice"
  },
  "language_info": {
   "codemirror_mode": "python",
   "file_extension": ".py",
   "mimetype": "text/x-python",
   "name": "python",
   "pygments_lexer": "python"
  }
 },
 "nbformat": 4,
 "nbformat_minor": 2
}
