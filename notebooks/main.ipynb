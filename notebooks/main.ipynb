{
 "cells": [
  {
   "cell_type": "markdown",
   "metadata": {},
   "source": [
    "# The main loop\n",
    "\n",
    "## Look up https://github.com/peterhinch/micropython-async/blob/master/TUTORIAL.md"
   ]
  },
  {
   "cell_type": "code",
   "execution_count": 1,
   "metadata": {},
   "outputs": [
    {
     "name": "stdout",
     "output_type": "stream",
     "text": [
      "\u001b[32m\n",
      " ** WebREPL connected **\n",
      "\u001b[0m\n",
      "MicroPython v1.12-375-g28833690b on 2020-04-16; ESP module with ESP8266\n",
      "Type \"help()\" for more information.\n"
     ]
    }
   ],
   "source": [
    "%websocketconnect 192.168.1.130:8266 --password horsetoe"
   ]
  },
  {
   "cell_type": "code",
   "execution_count": 2,
   "metadata": {},
   "outputs": [
    {
     "name": "stdout",
     "output_type": "stream",
     "text": [
      "['boot.py', 'credentials.json', 'credentials.txt', 'lib', 'send_data.py', 'sensors.py', 'webrepl_cfg.py', 'wifi.py']\n"
     ]
    }
   ],
   "source": [
    "import os\n",
    "os.listdir()"
   ]
  },
  {
   "cell_type": "code",
   "execution_count": null,
   "metadata": {},
   "outputs": [],
   "source": [
    "import wifi"
   ]
  },
  {
   "cell_type": "code",
   "execution_count": null,
   "metadata": {},
   "outputs": [],
   "source": [
    "dir(wifi)"
   ]
  },
  {
   "cell_type": "code",
   "execution_count": null,
   "metadata": {},
   "outputs": [],
   "source": [
    "import send_data"
   ]
  },
  {
   "cell_type": "code",
   "execution_count": null,
   "metadata": {},
   "outputs": [],
   "source": [
    "dir(send_data)"
   ]
  },
  {
   "cell_type": "code",
   "execution_count": null,
   "metadata": {},
   "outputs": [],
   "source": [
    "import sensors"
   ]
  },
  {
   "cell_type": "code",
   "execution_count": null,
   "metadata": {},
   "outputs": [],
   "source": [
    "dir(sensors)"
   ]
  },
  {
   "cell_type": "code",
   "execution_count": null,
   "metadata": {},
   "outputs": [],
   "source": [
    "import uasyncio as asyncio\n",
    "import wifi\n",
    "import send_data\n",
    "import sensors\n",
    "import gc\n",
    "import collections.deque\n",
    "import ntptime\n",
    "import network\n",
    "import webrepl"
   ]
  },
  {
   "cell_type": "code",
   "execution_count": null,
   "metadata": {},
   "outputs": [],
   "source": [
    "wifi_interface = network.WLAN(network.STA_IF)\n"
   ]
  },
  {
   "cell_type": "code",
   "execution_count": null,
   "metadata": {},
   "outputs": [],
   "source": [
    "%meminfo"
   ]
  },
  {
   "cell_type": "code",
   "execution_count": null,
   "metadata": {},
   "outputs": [],
   "source": [
    "webrepl.start()\n",
    "print('network config:', wifi_interface.ifconfig())"
   ]
  },
  {
   "cell_type": "code",
   "execution_count": 7,
   "metadata": {},
   "outputs": [
    {
     "name": "stdout",
     "output_type": "stream",
     "text": [
      "network config: ('192.168.1.130', '255.255.255.0', '192.168.1.1', '8.8.8.8')\n",
      "starting weatherstation\n",
      "getDataTask\n",
      "getDataTask\n",
      "checkWifiConnectionTask\n",
      "Checking network status\n",
      "still connected to wifi\n",
      "setTimeDateTask\n",
      "getDataTask\n",
      "collectGarbageTask\n",
      "sendDataTask\n"
     ]
    },
    {
     "name": "stderr",
     "output_type": "stream",
     "text": [
      "Traceback (most recent call last):\n",
      "  File \"<stdin>\", line 70, in <module>\n",
      "  File \"<stdin>\", line 68, in run\n",
      "  File \"uasyncio/core.py\", line 1, in run_forever\n",
      "  File \"uasyncio/core.py\", line 1, in run_until_complete\n",
      "  File \"<stdin>\", line 31, in sendDataTask\n",
      "  File \"send_data.py\", line 27, in processQueue\n",
      "  File \"send_data.py\", line 13, in postData\n",
      "  File \"/lib/urequests.py\", line 115, in post\n",
      "  File \"/liurequests.py\b\", line \u000281\u0005, in \u0007request\u0002\n",
      "eyboardInterrupt\u0002: \u0002\n",
      "\u0004\u0002\n",
      "\u0004"
     ]
    }
   ],
   "source": [
    "import uasyncio as asyncio\n",
    "import wifi\n",
    "import send_data\n",
    "import sensors\n",
    "import gc\n",
    "import collections.deque\n",
    "import ntptime\n",
    "import network\n",
    "import webrepl\n",
    "\n",
    "wifi_interface = network.WLAN(network.STA_IF)\n",
    "\n",
    "while not wifi_interface.isconnected():\n",
    "    wifi.connectWifi()\n",
    "\n",
    "print('network config:', wifi_interface.ifconfig())\n",
    "\n",
    "data_queue = collections.deque.deque()\n",
    "get_ID = send_data.generateMessageID()\n",
    "\n",
    "async def getDataTask(queue):\n",
    "    while True:\n",
    "        print(\"getDataTask\")\n",
    "        result = sensors.readData()\n",
    "        queue.append(result)\n",
    "        await asyncio.sleep(10)\n",
    "        \n",
    "async def sendDataTask(queue, message_id_generator, url=\"http://192.168.1.151:9494/station\"):\n",
    "    while True:\n",
    "        print(\"sendDataTask\")\n",
    "        send_data.processQueue(queue, message_id_generator, url)\n",
    "        await asyncio.sleep(30)\n",
    "    \n",
    "async def setTimeDateTask():\n",
    "    print(\"setTimeDateTask\")\n",
    "    ntptime.settime()\n",
    "    await asyncio.sleep(86400)\n",
    "\n",
    "async def checkWifiConnectionTask():\n",
    "    print(\"checkWifiConnectionTask\")\n",
    "    wifi.connectWifi()\n",
    "    await asyncio.sleep(60)\n",
    "    \n",
    "async def syncLogDataTask():\n",
    "    #Send memory info, queue length3\n",
    "    pass\n",
    "\n",
    "async def getPowerDataTask():\n",
    "    pass\n",
    "\n",
    "async def collectGarbageTask():\n",
    "    print(\"collectGarbageTask\")\n",
    "    #http://docs.micropython.org/en/latest/reference/constrained.html#the-heap\n",
    "    gc.collect()\n",
    "    gc.threshold(gc.mem_free() // 4 + gc.mem_alloc())\n",
    "    await asyncio.sleep(600)\n",
    "\n",
    "def run():\n",
    "    print('starting weatherstation')\n",
    "\n",
    "    loop = asyncio.get_event_loop()\n",
    "\n",
    "    loop.create_task(checkWifiConnectionTask())\n",
    "    loop.create_task(setTimeDateTask())\n",
    "    loop.create_task(getDataTask(data_queue))\n",
    "    loop.create_task(collectGarbageTask()) \n",
    "    loop.create_task(sendDataTask(data_queue, get_ID, \"http://192.168.1.151:9494/station\"))\n",
    "    loop.run_forever()\n",
    "\n",
    "run()"
   ]
  },
  {
   "cell_type": "code",
   "execution_count": 5,
   "metadata": {},
   "outputs": [],
   "source": [
    "main_script=\"\"\"import uasyncio as asyncio\n",
    "import wifi\n",
    "import send_data\n",
    "import sensors\n",
    "import gc\n",
    "import collections.deque\n",
    "import ntptime\n",
    "\n",
    "data_queue = collections.deque.deque()\n",
    "get_ID = send_data.generateMessageID()\n",
    "\n",
    "async def getDataTask(queue):\n",
    "    while True:\n",
    "        print(\"getDataTask\")\n",
    "        result = sensors.readData()\n",
    "        queue.append(result)\n",
    "        await asyncio.sleep(10)\n",
    "        \n",
    "async def sendDataTask(queue, message_id_generator, url=\"http://192.168.1.151:9494/station\"):\n",
    "    while True:\n",
    "        print(\"sendDataTask\")\n",
    "        send_data.processQueue(queue, message_id_generator, url)\n",
    "        await asyncio.sleep(30)\n",
    "    \n",
    "async def setTimeDateTask():\n",
    "    print(\"setTimeDateTask\")\n",
    "    ntptime.settime()\n",
    "    await asyncio.sleep(86400)\n",
    "\n",
    "async def checkWifiConnectionTask():\n",
    "    print(\"checkWifiConnectionTask\")\n",
    "    wifi.connectWifi()\n",
    "    await asyncio.sleep(60)\n",
    "    \n",
    "async def syncLogDataTask():\n",
    "    pass\n",
    "\n",
    "async def getPowerDataTask():\n",
    "    pass\n",
    "\n",
    "async def collectGarbageTask():\n",
    "    print(\"collectGarbageTask\")\n",
    "    #http://docs.micropython.org/en/latest/reference/constrained.html#the-heap\n",
    "    gc.collect()\n",
    "    gc.threshold(gc.mem_free() // 4 + gc.mem_alloc())\n",
    "    await asyncio.sleep(600)\n",
    "\n",
    "def run():\n",
    "    print('starting weatherstation')\n",
    "\n",
    "    loop = asyncio.get_event_loop()\n",
    "\n",
    "    loop.create_task(getDataTask(data_queue))\n",
    "    loop.create_task(sendDataTask(data_queue, get_ID, \"http://192.168.1.151:9494/station\"))\n",
    "    loop.create_task(setTimeDateTask())\n",
    "    loop.create_task(checkWifiConnectionTask())\n",
    "    loop.create_task(collectGarbageTask())\n",
    "    loop.run_forever()\n",
    "\n",
    "run()\n",
    "\n",
    "\"\"\""
   ]
  },
  {
   "cell_type": "code",
   "execution_count": null,
   "metadata": {},
   "outputs": [],
   "source": [
    "os.listdir()"
   ]
  },
  {
   "cell_type": "code",
   "execution_count": null,
   "metadata": {},
   "outputs": [],
   "source": [
    "os.remove('main.py')"
   ]
  },
  {
   "cell_type": "code",
   "execution_count": null,
   "metadata": {},
   "outputs": [],
   "source": [
    "with open('main.py') as f:\n",
    "    print(f.read())"
   ]
  },
  {
   "cell_type": "code",
   "execution_count": null,
   "metadata": {},
   "outputs": [],
   "source": [
    "with open('main.txt', 'w') as f:\n",
    "    f.write(main_script)"
   ]
  },
  {
   "cell_type": "markdown",
   "metadata": {},
   "source": [
    "### Double check the write"
   ]
  },
  {
   "cell_type": "code",
   "execution_count": null,
   "metadata": {},
   "outputs": [],
   "source": [
    "with open('main.txt') as f:\n",
    "    print(f.read())"
   ]
  },
  {
   "cell_type": "markdown",
   "metadata": {},
   "source": [
    "## Move temp file to `send_data.py`"
   ]
  },
  {
   "cell_type": "code",
   "execution_count": null,
   "metadata": {},
   "outputs": [],
   "source": [
    "os.rename('main.txt', 'main.py')"
   ]
  },
  {
   "cell_type": "code",
   "execution_count": null,
   "metadata": {},
   "outputs": [],
   "source": []
  },
  {
   "cell_type": "code",
   "execution_count": null,
   "metadata": {},
   "outputs": [],
   "source": []
  },
  {
   "cell_type": "code",
   "execution_count": 10,
   "metadata": {},
   "outputs": [
    {
     "name": "stdout",
     "output_type": "stream",
     "text": [
      "\u001b[31mDevice esp8266 disconnected.\u001b[0m"
     ]
    }
   ],
   "source": [
    "%disconnect"
   ]
  },
  {
   "cell_type": "code",
   "execution_count": null,
   "metadata": {},
   "outputs": [],
   "source": []
  }
 ],
 "metadata": {
  "kernelspec": {
   "display_name": "MicroPython upydevice kernel",
   "language": "python",
   "name": "micropython-upydevice"
  },
  "language_info": {
   "codemirror_mode": "python",
   "file_extension": ".py",
   "mimetype": "text/x-python",
   "name": "python",
   "pygments_lexer": "python"
  }
 },
 "nbformat": 4,
 "nbformat_minor": 2
}
