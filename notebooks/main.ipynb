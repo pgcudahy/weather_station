{
 "cells": [
  {
   "cell_type": "markdown",
   "metadata": {},
   "source": [
    "# The main loop\n",
    "\n",
    "## Look up https://github.com/peterhinch/micropython-async/blob/master/TUTORIAL.md"
   ]
  },
  {
   "cell_type": "code",
   "execution_count": 1,
   "metadata": {},
   "outputs": [
    {
     "name": "stdout",
     "output_type": "stream",
     "text": [
      "\u001b[32m\n",
      " ** WebREPL connected **\n",
      "\u001b[0m\n",
      "MicroPython v1.12-375-g28833690b on 2020-04-16; ESP module with ESP8266\n",
      "Type \"help()\" for more information.\n"
     ]
    }
   ],
   "source": [
    "%websocketconnect 192.168.1.130:8266 --password horsetoe"
   ]
  },
  {
   "cell_type": "code",
   "execution_count": 2,
   "metadata": {},
   "outputs": [
    {
     "name": "stdout",
     "output_type": "stream",
     "text": [
      "['boot.py', 'credentials.json', 'credentials.txt', 'lib', 'main.txt', 'power_status.py', 'send_data.py', 'sensors.py', 'webrepl_cfg.py', 'wifi.py']\n"
     ]
    }
   ],
   "source": [
    "import os\n",
    "os.listdir()"
   ]
  },
  {
   "cell_type": "code",
   "execution_count": null,
   "metadata": {},
   "outputs": [],
   "source": [
    "import uasyncio as asyncio\n",
    "import wifi\n",
    "import send_data\n",
    "import sensors\n",
    "import gc\n",
    "import collections.deque\n",
    "import ntptime\n",
    "import network\n",
    "import utime\n",
    "import machine\n",
    "import power_status\n",
    "\n",
    "gc.collect()  # clean up memory after imports\n",
    "\n",
    "wifi_interface = network.WLAN(network.STA_IF)\n",
    "\n",
    "while not wifi_interface.isconnected():\n",
    "    wifi.connectWifi()\n",
    "\n",
    "print('network config:', wifi_interface.ifconfig())\n",
    "\n",
    "data_queue = collections.deque.deque()\n",
    "get_ID = send_data.generateMessageID()\n",
    "\n",
    "def wdt_callback():\n",
    "    global wdt_counter\n",
    "    wdt_counter += 1\n",
    "    print(\"wdt firing\")\n",
    "    if (wdt_counter > 10):\n",
    "        try:\n",
    "            send_data.postData({'reset_time_date': list(utime.localtime()),\n",
    "                                'reset_cause': 'watchdog_timer'}, \n",
    "                               url=\"http://192.168.1.151:9494/error\")\n",
    "        finally:\n",
    "            machine.reset()\n",
    "\n",
    "wdt_counter = 0\n",
    "# Set a virtual timer by setting Timer ID of -1\n",
    "wdt_timer = machine.Timer(-1)\n",
    "# Create timer with period of 60000ms, aka 60 seconds\n",
    "wdt_timer.init(period=60000, mode=machine.Timer.PERIODIC, callback=lambda t:wdt_callback())\n",
    "\n",
    "# 0 = power on, 6 = hard reset, 1 = WDT reset, 5 = DEEP_SLEEP reset, 4 = soft reset\n",
    "def reportLastReset():\n",
    "    try:\n",
    "        send_data.postData({'reset_time_date': list(utime.localtime()),\n",
    "                            'reset_cause': machine.reset_cause()}, \n",
    "                            url=\"http://192.168.1.151:9494/error\")\n",
    "        print(\"Sent reset data to server\")\n",
    "    except:\n",
    "        print(\"Failed to send watchdog reset notice to server\")\n",
    "\n",
    "reportLastReset()\n",
    "\n",
    "ntptime.settime()\n",
    "\n",
    "loop_counter = 0\n",
    "\n",
    "while True:\n",
    "    print(\"loop counter = \", loop_counter)\n",
    "    \n",
    "    print(\"getting data\")\n",
    "    data_queue.append(sensors.readData())\n",
    "    \n",
    "    if loop_counter % 3 == 0:\n",
    "        print(\"sending data\")\n",
    "        send_data.processQueue(data_queue, get_ID, \"http://192.168.1.151:9494/station\")\n",
    "        print(\"feeding WatchDog timer\")\n",
    "        wdt_counter = 0\n",
    "\n",
    "    if loop_counter % 6 == 0:\n",
    "        print(\"checking Wifi Connection\")\n",
    "        wifi.connectWifi()\n",
    "        print(\"sending battery status\")\n",
    "        send_data.postData(power_status.getBatteryStatus(),\n",
    "                           url=\"http://192.168.1.151:9494/power\")\n",
    "    \n",
    "    if loop_counter % 30 == 0:\n",
    "        print(\"sending log data\")\n",
    "        #TODO send memory info, queue length\n",
    "        \n",
    "    if loop_counter % 60 == 0:\n",
    "        print(\"collecting garbage\")\n",
    "        #http://docs.micropython.org/en/latest/reference/constrained.html#the-heap\n",
    "        gc.collect()\n",
    "        gc.threshold(gc.mem_free() // 4 + gc.mem_alloc())\n",
    "        \n",
    "    if loop_counter % 2000 == 0:\n",
    "        print(\"setting time with ntp\")\n",
    "        try:\n",
    "            ntptime.settime()\n",
    "        except OSError as e:\n",
    "            print(e)\n",
    "\n",
    "    loop_counter += 1\n",
    "    if loop_counter > 2000:\n",
    "        loop_counter = 0\n",
    "\n",
    "    utime.sleep(10) # Consider deep sleep modes - https://docs.micropython.org/en/latest/library/esp.html"
   ]
  },
  {
   "cell_type": "code",
   "execution_count": 3,
   "metadata": {},
   "outputs": [],
   "source": [
    "import gc\n",
    "gc.collect()"
   ]
  },
  {
   "cell_type": "code",
   "execution_count": 4,
   "metadata": {},
   "outputs": [],
   "source": [
    "main_script=\"\"\"import uasyncio as asyncio\n",
    "import wifi\n",
    "import send_data\n",
    "import sensors\n",
    "import gc\n",
    "import collections.deque\n",
    "import ntptime\n",
    "import network\n",
    "import utime\n",
    "import machine\n",
    "import power_status\n",
    "\n",
    "gc.collect()  # clean up memory after imports\n",
    "\n",
    "wifi_interface = network.WLAN(network.STA_IF)\n",
    "\n",
    "while not wifi_interface.isconnected():\n",
    "    wifi.connectWifi()\n",
    "\n",
    "print('network config:', wifi_interface.ifconfig())\n",
    "\n",
    "data_queue = collections.deque.deque()\n",
    "get_ID = send_data.generateMessageID()\n",
    "\n",
    "def wdt_callback():\n",
    "    global wdt_counter\n",
    "    wdt_counter += 1\n",
    "    print(\"wdt firing\")\n",
    "    if (wdt_counter > 10):\n",
    "        try:\n",
    "            send_data.postData({'reset_time_date': list(utime.localtime()),\n",
    "                                'reset_cause': 'watchdog_timer'}, \n",
    "                               url=\"http://192.168.1.151:9494/error\")\n",
    "        finally:\n",
    "            machine.reset()\n",
    "\n",
    "wdt_counter = 0\n",
    "# Set a virtual timer by setting Timer ID of -1\n",
    "wdt_timer = machine.Timer(-1)\n",
    "# Create timer with period of 60000ms, aka 60 seconds\n",
    "wdt_timer.init(period=60000, mode=machine.Timer.PERIODIC, callback=lambda t:wdt_callback())\n",
    "\n",
    "# 0 = power on, 6 = hard reset, 1 = WDT reset, 5 = DEEP_SLEEP reset, 4 = soft reset\n",
    "def reportLastReset():\n",
    "    try:\n",
    "        send_data.postData({'reset_time_date': list(utime.localtime()),\n",
    "                            'reset_cause': machine.reset_cause()}, \n",
    "                            url=\"http://192.168.1.151:9494/error\")\n",
    "        print(\"Sent reset data to server\")\n",
    "    except:\n",
    "        print(\"Failed to send watchdog reset notice to server\")\n",
    "\n",
    "reportLastReset()\n",
    "\n",
    "ntptime.settime()\n",
    "\n",
    "loop_counter = 0\n",
    "\n",
    "while True:\n",
    "    print(\"loop counter = \", loop_counter)\n",
    "    \n",
    "    print(\"getting data\")\n",
    "    data_queue.append(sensors.readData())\n",
    "    \n",
    "    if loop_counter % 3 == 0:\n",
    "        print(\"sending data\")\n",
    "        send_data.processQueue(data_queue, get_ID, \"http://192.168.1.151:9494/station\")\n",
    "        print(\"feeding WatchDog timer\")\n",
    "        wdt_counter = 0\n",
    "\n",
    "    if loop_counter % 6 == 0:\n",
    "        print(\"checking Wifi Connection\")\n",
    "        wifi.connectWifi()\n",
    "        print(\"sending battery status\")\n",
    "        send_data.postData(power_status.getBatteryStatus(),\n",
    "                           url=\"http://192.168.1.151:9494/power\")\n",
    "    \n",
    "    if loop_counter % 30 == 0:\n",
    "        print(\"sending log data\")\n",
    "        #TODO send memory info, queue length\n",
    "        \n",
    "    if loop_counter % 60 == 0:\n",
    "        print(\"collecting garbage\")\n",
    "        #http://docs.micropython.org/en/latest/reference/constrained.html#the-heap\n",
    "        gc.collect()\n",
    "        gc.threshold(gc.mem_free() // 4 + gc.mem_alloc())\n",
    "        \n",
    "    if loop_counter % 2000 == 0:\n",
    "        print(\"setting time with ntp\")\n",
    "        try:\n",
    "            ntptime.settime()\n",
    "        except OSError as e:\n",
    "            print(e)\n",
    "\n",
    "    loop_counter += 1\n",
    "    if loop_counter > 2000:\n",
    "        loop_counter = 0\n",
    "\n",
    "    utime.sleep(10) # Consider deep sleep modes - https://docs.micropython.org/en/latest/library/esp.html\n",
    "\"\"\""
   ]
  },
  {
   "cell_type": "code",
   "execution_count": 5,
   "metadata": {},
   "outputs": [
    {
     "data": {
      "text/plain": [
       "['boot.py', 'credentials.json', 'credentials.txt', 'lib', 'main.txt', 'power_status.py', 'send_data.py', 'sensors.py', 'webrepl_cfg.py', 'wifi.py']\n"
      ]
     },
     "execution_count": 5,
     "metadata": {},
     "output_type": "execute_result"
    }
   ],
   "source": [
    "os.listdir()"
   ]
  },
  {
   "cell_type": "code",
   "execution_count": null,
   "metadata": {},
   "outputs": [],
   "source": [
    "with open('main.py') as f:\n",
    "    print(f.read())"
   ]
  },
  {
   "cell_type": "code",
   "execution_count": null,
   "metadata": {},
   "outputs": [],
   "source": [
    "os.remove('main.py')"
   ]
  },
  {
   "cell_type": "code",
   "execution_count": 6,
   "metadata": {},
   "outputs": [
    {
     "name": "stdout",
     "output_type": "stream",
     "text": [
      "2923\n"
     ]
    }
   ],
   "source": [
    "with open('main.txt', 'w') as f:\n",
    "    f.write(main_script)"
   ]
  },
  {
   "cell_type": "markdown",
   "metadata": {},
   "source": [
    "### Double check the write"
   ]
  },
  {
   "cell_type": "code",
   "execution_count": 7,
   "metadata": {},
   "outputs": [
    {
     "name": "stdout",
     "output_type": "stream",
     "text": [
      "import uasyncio as asyncio\n",
      "import wifi\n",
      "import send_data\n",
      "import sensors\n",
      "import gc\n",
      "import collections.deque\n",
      "import ntptime\n",
      "import network\n",
      "import utime\n",
      "import machine\n",
      "import power_status\n",
      "\n",
      "gc.collect()  # clean up memory after imports\n",
      "\n",
      "wifi_interface = network.WLAN(network.STA_IF)\n",
      "\n",
      "while not wifi_interface.isconnected():\n",
      "    wifi.connectWifi()\n",
      "\n",
      "print('network config:', wifi_interface.ifconfig())\n",
      "\n",
      "data_queue = collections.deque.deque()\n",
      "get_ID = send_data.generateMessageID()\n",
      "\n",
      "def wdt_callback():\n",
      "    global wdt_counter\n",
      "    wdt_counter += 1\n",
      "    print(\"wdt firing\")\n",
      "    if (wdt_counter > 10):\n",
      "        try:\n",
      "            send_data.postData({'reset_time_date': list(utime.localtime()),\n",
      "                                'reset_cause': 'watchdog_timer'}, \n",
      "                               url=\"http://192.168.1.151:9494/error\")\n",
      "        finally:\n",
      "            machine.reset()\n",
      "\n",
      "wdt_counter = 0\n",
      "# Set a virtual ter by setting Timer ID of -1\u0002\n",
      "\u001d",
      "wdt_timer = machine.Timer(-1)\u0002\n",
      "5# Create timer with period of 60000ms, a 60 seconds\u0002\n",
      "[wdt_timer.init(period=60000, mode=machine.Timer.PERIODIC, callback=lambda t:wdt_llback())\u0002\n",
      "\u0002\n",
      "S# 0 = power on, 6 = hard reset, 1 = WDT reset, 5 = DEEP_SLEEP reset, 4 = soft set\u0002\n",
      "\u0016def reportLastReset():\u0002\n",
      "\b    try:\u0002\n",
      "G        send_data.postData({'reset_time_date': lisutime.localtime()),\u0002\n",
      "C                          'reset_cause': machinreset_cause()}, \u0002\n",
      "B                          url=\"http://192.168.1.151:9494rror\")\u0002\n",
      "*        print(\"Sent reset data to server\")\u0002\n",
      "\u000b",
      "    except:\u0002\n",
      "?        print(\"Failed toend watchdog reset notice to server\")\u0002\n",
      "\u0002\n",
      "\u0011reportLastReset()\u0002\n",
      "\u0002\n",
      "\u0011ntptime.settime()\u0002\n",
      "\u0002\n",
      "\u0010loop_counter =\u0002\n",
      "\u0002\n",
      "\u000b",
      "while True:\u0002\n",
      "*    print(\"loop count = \", loop_counter)\u0002\n",
      "\u0004    \u0002\n",
      "\u0019    print(\"getting data\")\u0002\n",
      ")    data_queue.append(sensors.readData())\u0002\n",
      "\u0004  \u0002\n",
      "\u001d",
      "    if loop_counter % 3 =0:\u0002\n",
      "\u001d",
      "        print(\"sending da\")\u0002\n",
      "W        send_data.processQueue(data_queue, get_ID, \"http://192.168.1.151:9494/station\")\u0002\n",
      "'        print(eeding WatchDog timer\")\u0002\n",
      "\u0017        wdt_counter = 0\u0002\n",
      "\u0002\n",
      "\u001d",
      "    if loop_counter % 6 == 0:\u0002\n",
      ")      print(\"checking Wifi Connection\u0002\n",
      "\u001a        wifi.connectWifi()\u0002\n",
      "'      print(\"sending battery status\u0002\n",
      ";        send_data.postData(power_stus.getBatteryStatus(),\u0002\n",
      "A                           url=\"http://192.168.1.151:9494/power\")\u0002\n",
      "\u0004    \u0002\n",
      "\u001e",
      "    if op_counter % 30 == 0:\u0002\n",
      "!        print(\"sending log data\")\u0002\n",
      ",        #TODO send memy info, queue length\u0002\n",
      "\b        \u0002\n",
      "\u001e",
      "    if loop_counter % 60 == 0:\u0002\n",
      "#        print(\"collecting garbage\")\u0002r  #http://docs.micropython.org/elatest/reference/constrained.html#the-heap\u0002\n",
      "       gc.collect()\u0002\n",
      "9       c.threshold(gc.mem_free() // 4 + gc.mem_alloc())\u0002\n",
      "\b        \u0002\n",
      "     if loop_counter % 2000 == 0:\u0002\u0006  print(\"setting time with ntp\")\n",
      "        try:\n",
      "            ntptime.settime()\n",
      "        except OSError as e:\n",
      "            print(e)\n",
      "\n",
      "    loop_counter += 1\n",
      "    if loop_counter > 2000:\n",
      "        loop_counter = 0\n",
      "\n",
      "    utime.sleep(10) # Consider deep sleep modes - https://docs.micropython.org/en/latest/library/esp.html\n",
      "\n"
     ]
    }
   ],
   "source": [
    "with open('main.txt') as f:\n",
    "    print(f.read())"
   ]
  },
  {
   "cell_type": "markdown",
   "metadata": {},
   "source": [
    "## Move temp file to `send_data.py`"
   ]
  },
  {
   "cell_type": "code",
   "execution_count": 8,
   "metadata": {},
   "outputs": [],
   "source": [
    "os.rename('main.txt', 'main.py')"
   ]
  },
  {
   "cell_type": "code",
   "execution_count": null,
   "metadata": {},
   "outputs": [],
   "source": []
  },
  {
   "cell_type": "markdown",
   "metadata": {},
   "source": [
    "## Simple software WDT implementation from https://forum.micropython.org/viewtopic.php?f=16&t=5517&start=10\n",
    "```\n",
    "wdt_counter = 0\n",
    "\n",
    "def wdt_callback():\n",
    "    global wdt_counter\n",
    "    wdt_counter += 1\n",
    "    if (wdt_counter >= 10):\n",
    "        machine.reset()\n",
    "\n",
    "def wdt_feed():\n",
    "    global wdt_counter\n",
    "    wdt_counter = 0\n",
    "\n",
    "wdt_timer = machine.Timer(-1)\n",
    "wdt_timer.init(period=1000, mode=machine.Timer.PERIODIC, callback=lambda t:wdt_callback())\n",
    "## END Simple software WDT implementation\n",
    "```"
   ]
  },
  {
   "cell_type": "code",
   "execution_count": null,
   "metadata": {},
   "outputs": [],
   "source": []
  },
  {
   "cell_type": "code",
   "execution_count": 1,
   "metadata": {},
   "outputs": [
    {
     "name": "stdout",
     "output_type": "stream",
     "text": [
      "\n",
      "\n",
      "*** OSError *** \n",
      "\n",
      "\n",
      " 'NoneType' object has no attribute 'dev_platform' \n",
      "\u001b[31m\n",
      "\n",
      "*** Connection broken ***\n",
      "\u001b[0mYou may need to reconnect"
     ]
    }
   ],
   "source": [
    "%rebootdevice"
   ]
  },
  {
   "cell_type": "code",
   "execution_count": null,
   "metadata": {},
   "outputs": [],
   "source": [
    "%disconnect"
   ]
  },
  {
   "cell_type": "code",
   "execution_count": null,
   "metadata": {},
   "outputs": [],
   "source": []
  }
 ],
 "metadata": {
  "kernelspec": {
   "display_name": "MicroPython upydevice kernel",
   "language": "python",
   "name": "micropython-upydevice"
  },
  "language_info": {
   "codemirror_mode": "python",
   "file_extension": ".py",
   "mimetype": "text/x-python",
   "name": "python",
   "pygments_lexer": "python"
  }
 },
 "nbformat": 4,
 "nbformat_minor": 2
}
