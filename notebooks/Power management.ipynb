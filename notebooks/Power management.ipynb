{
 "cells": [
  {
   "cell_type": "markdown",
   "metadata": {},
   "source": [
    "# Power management\n",
    "Uses https://github.com/danjulio/MPPT-Solar-Charger"
   ]
  },
  {
   "cell_type": "code",
   "execution_count": null,
   "metadata": {},
   "outputs": [],
   "source": [
    "%websocketconnect 192.168.1.130:8266 --password horsetoe"
   ]
  },
  {
   "cell_type": "code",
   "execution_count": null,
   "metadata": {},
   "outputs": [],
   "source": [
    "global wdt_counter\n",
    "wdt_counter = 0"
   ]
  },
  {
   "cell_type": "code",
   "execution_count": null,
   "metadata": {},
   "outputs": [],
   "source": [
    "#%serialconnect /dev/tty.USB0 115200"
   ]
  },
  {
   "cell_type": "code",
   "execution_count": null,
   "metadata": {},
   "outputs": [],
   "source": [
    "%meminfo"
   ]
  },
  {
   "cell_type": "markdown",
   "metadata": {},
   "source": [
    "![Pin details](pin_details.png)"
   ]
  },
  {
   "cell_type": "code",
   "execution_count": null,
   "metadata": {},
   "outputs": [],
   "source": [
    "import machine"
   ]
  },
  {
   "cell_type": "markdown",
   "metadata": {},
   "source": [
    "SDA = machine pin 4 = D2\n",
    "\n",
    "SCL = machine pin 5 = D1"
   ]
  },
  {
   "cell_type": "code",
   "execution_count": null,
   "metadata": {},
   "outputs": [],
   "source": [
    "i2c = machine.I2C(sda=machine.Pin(4), scl=machine.Pin(5))"
   ]
  },
  {
   "cell_type": "code",
   "execution_count": null,
   "metadata": {},
   "outputs": [],
   "source": [
    "devices = i2c.scan()"
   ]
  },
  {
   "cell_type": "code",
   "execution_count": null,
   "metadata": {},
   "outputs": [],
   "source": [
    "if len(devices) == 0:\n",
    "  print(\"No i2c device !\")\n",
    "else:\n",
    "  print('i2c devices found:', len(devices))\n",
    "\n",
    "  for device in devices:  \n",
    "    print(\"Decimal address: \", device, \" | Hexa address: \", hex(device))"
   ]
  },
  {
   "cell_type": "markdown",
   "metadata": {},
   "source": [
    "### The solar charger is at address 18"
   ]
  },
  {
   "cell_type": "code",
   "execution_count": null,
   "metadata": {},
   "outputs": [],
   "source": [
    "mppt_i2c_address = 18"
   ]
  },
  {
   "cell_type": "code",
   "execution_count": null,
   "metadata": {},
   "outputs": [],
   "source": [
    "i2c.readfrom(mppt_i2c_address, 4) "
   ]
  },
  {
   "cell_type": "code",
   "execution_count": null,
   "metadata": {},
   "outputs": [],
   "source": [
    "global wdt_counter\n",
    "wdt_counter = 0"
   ]
  },
  {
   "cell_type": "markdown",
   "metadata": {},
   "source": [
    "# I2c register constants\n",
    "\n",
    "From https://github.com/danjulio/MPPT-Solar-Charger/blob/master/arduino/mpptChg/mpptChg.h"
   ]
  },
  {
   "cell_type": "markdown",
   "metadata": {},
   "source": [
    "```\n",
    "#RO values (16-bits)\n",
    "MPPT_CHG_REG_ID = 0\n",
    "MPPT_CHG_STATUS = 2\n",
    "MPPT_CHG_BUCK = 4\n",
    "MPPT_CHG_VS = 6\n",
    "MPPT_CHG_IS = 8\n",
    "MPPT_CHG_VB = 10\n",
    "MPPT_CHG_IB = 12\n",
    "MPPT_CHG_IC = 14\n",
    "MPPT_CHG_INT_T = 16\n",
    "MPPT_CHG_EXT_T = 18\n",
    "MPPT_CHG_VM = 20\n",
    "MPPT_CHG_TH = 22\n",
    "#RW Parameters (16-bits)\n",
    "MPPT_CHG_BUCK_TH = 24\n",
    "MPPT_CHG_FLOAT_TH = 26\n",
    "MPPT_CHG_PWROFF = 28\n",
    "MPPT_CHG_PWRON = 30\n",
    "#Watchdog registers (8-bits)\n",
    "MPPT_WD_EN = 33\n",
    "MPPT_WD_COUNT = 35\n",
    "MPPT_WD_PWROFF = 36\n",
    "```"
   ]
  },
  {
   "cell_type": "markdown",
   "metadata": {},
   "source": [
    "```\n",
    "//\n",
    "// ID Register bit masks\n",
    "//\n",
    "#define MPPT_CHG_ID_BRD_ID_MASK  0xF000\n",
    "#define MPPT_CHG_ID_MAJ_REV_MASK 0x00F0\n",
    "#define MPPT_CHG_ID_MIN_REV_MASK 0x000F\n",
    "```"
   ]
  },
  {
   "cell_type": "markdown",
   "metadata": {},
   "source": [
    "```\n",
    "#Status Register bit masks\n",
    "\n",
    "MPPT_CHG_STATUS_HW_WD_MASK = 0x8000\n",
    "MPPT_CHG_STATUS_SW_WD_MASK = 0x4000\n",
    "MPPT_CHG_STATUS_BAD_BATT_MASK = 0x2000\n",
    "MPPT_CHG_STATUS_EXT_MISS_MASK = 0x1000\n",
    "MPPT_CHG_STATUS_WD_RUN_MASK = 0x0100\n",
    "MPPT_CHG_STATUS_PWR_EN_MASK = 0x0080\n",
    "MPPT_CHG_STATUS_ALERT_MASK = 0x0040\n",
    "MPPT_CHG_STATUS_PCTRL_MASK = 0x0020\n",
    "MPPT_CHG_STATUS_T_LIM_MASK = 0x0010\n",
    "MPPT_CHG_STATUS_NIGHT_MASK = 0x0008\n",
    "MPPT_CHG_STATUS_CHG_ST_MASK = 0x0007\n",
    "```"
   ]
  },
  {
   "cell_type": "markdown",
   "metadata": {},
   "source": [
    "```\n",
    "//\n",
    "// Status Register Charge States\n",
    "//\n",
    "#define MPPT_CHG_ST_NIGHT  0\n",
    "#define MPPT_CHG_ST_IDLE   1\n",
    "#define MPPT_CHG_ST_VSRCV  2\n",
    "#define MPPT_CHG_ST_SCAN   3\n",
    "#define MPPT_CHG_ST_BULK   4\n",
    "#define MPPT_CHG_ST_ABSORB 5\n",
    "#define MPPT_CHG_ST_FLOAT  6\n",
    "\n",
    "//\n",
    "// Buck Status bit masks\n",
    "//\n",
    "#define MPPT_CHG_BUCK_PWM_MASK  0xFF00\n",
    "#define MPPT_CHG_BUCK_LIM2_MASK 0x0002\n",
    "#define MPPT_CHG_BUCK_LIM1_MASK 0x0001\n",
    "\n",
    "//\n",
    "// Watchdog enable register value\n",
    "//\n",
    "#define MPPT_CHG_WD_ENABLE 0xEA\n",
    "```"
   ]
  },
  {
   "cell_type": "markdown",
   "metadata": {},
   "source": [
    "### Set up an array to take data"
   ]
  },
  {
   "cell_type": "code",
   "execution_count": null,
   "metadata": {},
   "outputs": [],
   "source": [
    "mppt_id_data = bytearray(2)"
   ]
  },
  {
   "cell_type": "markdown",
   "metadata": {},
   "source": [
    "#### Read from the charge register ID"
   ]
  },
  {
   "cell_type": "code",
   "execution_count": null,
   "metadata": {},
   "outputs": [],
   "source": [
    "MPPT_CHG_REG_ID = 0"
   ]
  },
  {
   "cell_type": "code",
   "execution_count": null,
   "metadata": {},
   "outputs": [],
   "source": [
    "i2c.readfrom_mem_into(mppt_i2c_address, MPPT_CHG_REG_ID, mppt_id_data)"
   ]
  },
  {
   "cell_type": "code",
   "execution_count": null,
   "metadata": {},
   "outputs": [],
   "source": [
    "print(mppt_id_data)"
   ]
  },
  {
   "cell_type": "code",
   "execution_count": null,
   "metadata": {},
   "outputs": [],
   "source": [
    "from struct import unpack\n",
    "unpack('>h', mppt_id_data)[0]"
   ]
  },
  {
   "cell_type": "code",
   "execution_count": null,
   "metadata": {},
   "outputs": [],
   "source": [
    "global wdt_counter\n",
    "wdt_counter = 0"
   ]
  },
  {
   "cell_type": "markdown",
   "metadata": {},
   "source": [
    "### Get the charge status"
   ]
  },
  {
   "cell_type": "code",
   "execution_count": null,
   "metadata": {},
   "outputs": [],
   "source": [
    "mppt_chg_status = bytearray(2)"
   ]
  },
  {
   "cell_type": "code",
   "execution_count": null,
   "metadata": {},
   "outputs": [],
   "source": [
    "MPPT_CHG_STATUS = 2"
   ]
  },
  {
   "cell_type": "code",
   "execution_count": null,
   "metadata": {},
   "outputs": [],
   "source": [
    "i2c.readfrom_mem_into(mppt_i2c_address, MPPT_CHG_STATUS, mppt_chg_status)"
   ]
  },
  {
   "cell_type": "code",
   "execution_count": null,
   "metadata": {},
   "outputs": [],
   "source": [
    "print(mppt_chg_status)"
   ]
  },
  {
   "cell_type": "code",
   "execution_count": null,
   "metadata": {},
   "outputs": [],
   "source": [
    "from struct import unpack\n",
    "unpack('>h', mppt_chg_status)[0]"
   ]
  },
  {
   "cell_type": "markdown",
   "metadata": {},
   "source": [
    "### Get the charge state"
   ]
  },
  {
   "cell_type": "markdown",
   "metadata": {},
   "source": [
    "```\n",
    "// Status Register Charge States\n",
    "//\n",
    "#define MPPT_CHG_ST_NIGHT  0\n",
    "#define MPPT_CHG_ST_IDLE   1\n",
    "#define MPPT_CHG_ST_VSRCV  2\n",
    "#define MPPT_CHG_ST_SCAN   3\n",
    "#define MPPT_CHG_ST_BULK   4\n",
    "#define MPPT_CHG_ST_ABSORB 5\n",
    "#define MPPT_CHG_ST_FLOAT  6\n",
    "```"
   ]
  },
  {
   "cell_type": "code",
   "execution_count": null,
   "metadata": {},
   "outputs": [],
   "source": [
    "MPPT_CHG_STATUS_CHG_ST_MASK = 0x0007"
   ]
  },
  {
   "cell_type": "code",
   "execution_count": null,
   "metadata": {},
   "outputs": [],
   "source": [
    "status_index = unpack('>h', mppt_chg_status)[0] & MPPT_CHG_STATUS_CHG_ST_MASK"
   ]
  },
  {
   "cell_type": "code",
   "execution_count": null,
   "metadata": {},
   "outputs": [],
   "source": [
    "status_index"
   ]
  },
  {
   "cell_type": "markdown",
   "metadata": {},
   "source": [
    "### Get the battery voltage"
   ]
  },
  {
   "cell_type": "code",
   "execution_count": null,
   "metadata": {},
   "outputs": [],
   "source": [
    "global wdt_counter\n",
    "wdt_counter = 0"
   ]
  },
  {
   "cell_type": "code",
   "execution_count": null,
   "metadata": {},
   "outputs": [],
   "source": [
    "mppt_chg_vb = bytearray(2)"
   ]
  },
  {
   "cell_type": "code",
   "execution_count": null,
   "metadata": {},
   "outputs": [],
   "source": [
    "MPPT_CHG_VB = 10"
   ]
  },
  {
   "cell_type": "code",
   "execution_count": null,
   "metadata": {},
   "outputs": [],
   "source": [
    "i2c.readfrom_mem_into(mppt_i2c_address, MPPT_CHG_VB, mppt_chg_vb)"
   ]
  },
  {
   "cell_type": "code",
   "execution_count": null,
   "metadata": {},
   "outputs": [],
   "source": [
    "mppt_chg_vb"
   ]
  },
  {
   "cell_type": "code",
   "execution_count": null,
   "metadata": {},
   "outputs": [],
   "source": [
    "from struct import unpack\n",
    "unpack('>h', mppt_chg_vb)[0] / 1000"
   ]
  },
  {
   "cell_type": "code",
   "execution_count": null,
   "metadata": {},
   "outputs": [],
   "source": [
    "def getBatteryStatus():\n",
    "    import struct\n",
    "    import machine\n",
    "    import utime\n",
    "        \n",
    "    i2c = machine.I2C(sda=machine.Pin(4), scl=machine.Pin(5))\n",
    "    mppt_i2c_address = 18\n",
    "    MPPT_CHG_STATUS = 2 # Charge status\n",
    "    MPPT_CHG_STATUS_CHG_ST_MASK = 0x0007\n",
    "    MPPT_CHG_VS = 6 # Supply voltage\n",
    "    MPPT_CHG_IS = 8 # Supply current\n",
    "    MPPT_CHG_VB = 10 # Battery voltage\n",
    "    MPPT_CHG_IB = 12 # Battery current\n",
    "    MPPT_CHG_EXT_T = 18 # External temperature\n",
    "    \n",
    "    mppt_chg_status = bytearray(2)\n",
    "    i2c.readfrom_mem_into(mppt_i2c_address, MPPT_CHG_STATUS, mppt_chg_status)\n",
    "    status_index = struct.unpack('>h', mppt_chg_status)[0] & MPPT_CHG_STATUS_CHG_ST_MASK\n",
    "    \n",
    "    mppt_chg_vs = bytearray(2)\n",
    "    mppt_chg_is = bytearray(2)\n",
    "    i2c.readfrom_mem_into(mppt_i2c_address, MPPT_CHG_VS, mppt_chg_vs)\n",
    "    i2c.readfrom_mem_into(mppt_i2c_address, MPPT_CHG_IS, mppt_chg_is)\n",
    "    solar_voltage = struct.unpack('>h', mppt_chg_vs)[0]\n",
    "    solar_current = struct.unpack('>h', mppt_chg_is)[0]\n",
    "    solar_watts = (solar_voltage * solar_current) / 1000000.0 # W = mA * mA / 1E6\n",
    "    \n",
    "    mppt_chg_vb = bytearray(2)\n",
    "    i2c.readfrom_mem_into(mppt_i2c_address, MPPT_CHG_VB, mppt_chg_vb)\n",
    "    battery_voltage = struct.unpack('>h', mppt_chg_vb)[0] / 1000\n",
    "    \n",
    "    mppt_chg_ib = bytearray(2)\n",
    "    i2c.readfrom_mem_into(mppt_i2c_address, MPPT_CHG_IB, mppt_chg_ib)\n",
    "    battery_amperage = struct.unpack('>h', mppt_chg_ib)[0] / 1000\n",
    "    \n",
    "    mppt_chg_ext_t = bytearray(2)\n",
    "    i2c.readfrom_mem_into(mppt_i2c_address, MPPT_CHG_EXT_T, mppt_chg_ext_t)\n",
    "    external_temperature = struct.unpack('>h', mppt_chg_ext_t)[0] / 10\n",
    "    \n",
    "    return {\"status_index\" : status_index, \"solar_watts\" : solar_watts,\n",
    "            \"battery_voltage\" : battery_voltage, \"battery_amperage\" : battery_amperage,\n",
    "            \"external_temperature\" : external_temperature,\n",
    "            \"power_time_date\" : list(utime.localtime())}"
   ]
  },
  {
   "cell_type": "code",
   "execution_count": null,
   "metadata": {},
   "outputs": [],
   "source": [
    "getBatteryStatus()"
   ]
  },
  {
   "cell_type": "code",
   "execution_count": null,
   "metadata": {},
   "outputs": [],
   "source": [
    "import send_data\n",
    "send_data.postData(getBatteryStatus(), url=\"http://192.168.1.151:9494/power\")"
   ]
  },
  {
   "cell_type": "code",
   "execution_count": null,
   "metadata": {},
   "outputs": [],
   "source": [
    "global wdt_counter\n",
    "wdt_counter = 0"
   ]
  },
  {
   "cell_type": "code",
   "execution_count": null,
   "metadata": {},
   "outputs": [],
   "source": []
  },
  {
   "cell_type": "markdown",
   "metadata": {},
   "source": [
    "```\n",
    "// Status Register Charge States\n",
    "//\n",
    "#define MPPT_CHG_ST_NIGHT  0\n",
    "#define MPPT_CHG_ST_IDLE   1\n",
    "#define MPPT_CHG_ST_VSRCV  2\n",
    "#define MPPT_CHG_ST_SCAN   3\n",
    "#define MPPT_CHG_ST_BULK   4\n",
    "#define MPPT_CHG_ST_ABSORB 5\n",
    "#define MPPT_CHG_ST_FLOAT  6\n",
    "```"
   ]
  },
  {
   "cell_type": "code",
   "execution_count": null,
   "metadata": {},
   "outputs": [],
   "source": [
    "power_script = \"\"\"def getBatteryStatus():\n",
    "    import struct\n",
    "    import machine\n",
    "    import utime\n",
    "        \n",
    "    i2c = machine.I2C(sda=machine.Pin(4), scl=machine.Pin(5))\n",
    "    mppt_i2c_address = 18\n",
    "    MPPT_CHG_STATUS = 2 # Charge status\n",
    "    MPPT_CHG_STATUS_CHG_ST_MASK = 0x0007\n",
    "    MPPT_CHG_VS = 6 # Supply voltage\n",
    "    MPPT_CHG_IS = 8 # Supply current\n",
    "    MPPT_CHG_VB = 10 # Battery voltage\n",
    "    MPPT_CHG_IB = 12 # Battery current\n",
    "    MPPT_CHG_EXT_T = 18 # External temperature\n",
    "    \n",
    "    mppt_chg_status = bytearray(2)\n",
    "    i2c.readfrom_mem_into(mppt_i2c_address, MPPT_CHG_STATUS, mppt_chg_status)\n",
    "    status_index = struct.unpack('>h', mppt_chg_status)[0] & MPPT_CHG_STATUS_CHG_ST_MASK\n",
    "    \n",
    "    mppt_chg_vs = bytearray(2)\n",
    "    mppt_chg_is = bytearray(2)\n",
    "    i2c.readfrom_mem_into(mppt_i2c_address, MPPT_CHG_VS, mppt_chg_vs)\n",
    "    i2c.readfrom_mem_into(mppt_i2c_address, MPPT_CHG_IS, mppt_chg_is)\n",
    "    solar_voltage = struct.unpack('>h', mppt_chg_vs)[0]\n",
    "    solar_current = struct.unpack('>h', mppt_chg_is)[0]\n",
    "    solar_watts = (solar_voltage * solar_current) / 1000000.0 # W = mA * mA / 1E6\n",
    "    \n",
    "    mppt_chg_vb = bytearray(2)\n",
    "    i2c.readfrom_mem_into(mppt_i2c_address, MPPT_CHG_VB, mppt_chg_vb)\n",
    "    battery_voltage = struct.unpack('>h', mppt_chg_vb)[0] / 1000\n",
    "    \n",
    "    mppt_chg_ib = bytearray(2)\n",
    "    i2c.readfrom_mem_into(mppt_i2c_address, MPPT_CHG_IB, mppt_chg_ib)\n",
    "    battery_amperage = struct.unpack('>h', mppt_chg_ib)[0] / 1000\n",
    "    \n",
    "    mppt_chg_ext_t = bytearray(2)\n",
    "    i2c.readfrom_mem_into(mppt_i2c_address, MPPT_CHG_EXT_T, mppt_chg_ext_t)\n",
    "    external_temperature = struct.unpack('>h', mppt_chg_ext_t)[0] / 10\n",
    "    \n",
    "    return {\"status_index\" : status_index, \"solar_watts\" : solar_watts,\n",
    "            \"battery_voltage\" : battery_voltage, \"battery_amperage\" : battery_amperage,\n",
    "            \"external_temperature\" : external_temperature,\n",
    "            \"power_time_date\" : list(utime.localtime())}\"\"\""
   ]
  },
  {
   "cell_type": "code",
   "execution_count": null,
   "metadata": {},
   "outputs": [],
   "source": [
    "import os\n",
    "print(os.listdir())"
   ]
  },
  {
   "cell_type": "code",
   "execution_count": null,
   "metadata": {},
   "outputs": [],
   "source": [
    "with open('power_status.py') as f:\n",
    "    print(f.read())"
   ]
  },
  {
   "cell_type": "code",
   "execution_count": null,
   "metadata": {},
   "outputs": [],
   "source": [
    "os.remove('power_status.py')"
   ]
  },
  {
   "cell_type": "code",
   "execution_count": null,
   "metadata": {},
   "outputs": [],
   "source": [
    "with open('power_status.txt', 'w') as f:\n",
    "    f.write(power_script)"
   ]
  },
  {
   "cell_type": "markdown",
   "metadata": {},
   "source": [
    "### Double check the write"
   ]
  },
  {
   "cell_type": "code",
   "execution_count": null,
   "metadata": {},
   "outputs": [],
   "source": [
    "with open('power_status.txt') as f:\n",
    "    print(f.read())"
   ]
  },
  {
   "cell_type": "markdown",
   "metadata": {},
   "source": [
    "## Move temp file to `boot.py`"
   ]
  },
  {
   "cell_type": "code",
   "execution_count": null,
   "metadata": {},
   "outputs": [],
   "source": [
    "os.rename('power_status.txt', 'power_status.py')"
   ]
  },
  {
   "cell_type": "code",
   "execution_count": null,
   "metadata": {},
   "outputs": [],
   "source": []
  },
  {
   "cell_type": "code",
   "execution_count": null,
   "metadata": {},
   "outputs": [],
   "source": []
  },
  {
   "cell_type": "code",
   "execution_count": null,
   "metadata": {},
   "outputs": [],
   "source": []
  },
  {
   "cell_type": "code",
   "execution_count": null,
   "metadata": {},
   "outputs": [],
   "source": []
  },
  {
   "cell_type": "code",
   "execution_count": null,
   "metadata": {},
   "outputs": [],
   "source": [
    "%disconnect"
   ]
  },
  {
   "cell_type": "code",
   "execution_count": null,
   "metadata": {},
   "outputs": [],
   "source": []
  }
 ],
 "metadata": {
  "kernelspec": {
   "display_name": "MicroPython upydevice kernel",
   "language": "python",
   "name": "micropython-upydevice"
  },
  "language_info": {
   "codemirror_mode": "python",
   "file_extension": ".py",
   "mimetype": "text/x-python",
   "name": "python",
   "pygments_lexer": "python"
  }
 },
 "nbformat": 4,
 "nbformat_minor": 2
}
