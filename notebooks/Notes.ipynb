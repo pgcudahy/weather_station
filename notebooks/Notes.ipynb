{
 "cells": [
  {
   "cell_type": "markdown",
   "id": "silver-metro",
   "metadata": {},
   "source": [
    "2020-01-26 The error with hanging POSTs lies with plumber as it also happens when I try to use curl"
   ]
  },
  {
   "cell_type": "code",
   "execution_count": null,
   "id": "stone-steps",
   "metadata": {},
   "outputs": [],
   "source": []
  }
 ],
 "metadata": {
  "kernelspec": {
   "display_name": "MicroPython upydevice kernel",
   "language": "python",
   "name": "micropython-upydevice"
  },
  "language_info": {
   "codemirror_mode": "python",
   "file_extension": ".py",
   "mimetype": "text/x-python",
   "name": "python",
   "pygments_lexer": "python"
  }
 },
 "nbformat": 4,
 "nbformat_minor": 5
}
