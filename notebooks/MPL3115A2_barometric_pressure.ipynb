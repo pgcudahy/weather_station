{
 "cells": [
  {
   "cell_type": "code",
   "execution_count": null,
   "id": "554ae1ca",
   "metadata": {},
   "outputs": [],
   "source": [
    "%websocketconnect 192.168.1.130 --password horsetoe -kbi"
   ]
  },
  {
   "cell_type": "code",
   "execution_count": null,
   "id": "920f3a81",
   "metadata": {},
   "outputs": [],
   "source": [
    "2+2"
   ]
  },
  {
   "cell_type": "code",
   "execution_count": null,
   "id": "1c60c134",
   "metadata": {},
   "outputs": [],
   "source": [
    "global wdt_counter\n",
    "wdt_counter = 0"
   ]
  },
  {
   "cell_type": "code",
   "execution_count": null,
   "id": "f6a8a81b",
   "metadata": {},
   "outputs": [],
   "source": []
  },
  {
   "cell_type": "markdown",
   "id": "d3dd89a2",
   "metadata": {},
   "source": [
    "# Pressure sensor"
   ]
  },
  {
   "cell_type": "markdown",
   "id": "0e907eba",
   "metadata": {},
   "source": [
    "Uses MPL3115A2 sensor\n",
    "\n",
    "data sheet at https://www.nxp.com/docs/en/data-sheet/MPL3115A2.pdf, code at https://github.com/PinsonJonas/MPL3115A2_MicroPython/blob/master/mpl3115a2.py and https://github.com/adafruit/Adafruit_CircuitPython_MPL3115A2/blob/main/adafruit_mpl3115a2.py\n",
    "\n",
    "    MPL3115A2_i2c_address = 0x60\n",
    "\n",
    "    ALTITUDE = const(0)\n",
    "    PRESSURE = const(1)\n",
    "\n",
    "    MPL3115_I2CADDR = const(0x60)\n",
    "    MPL3115_STATUS = const(0x00)\n",
    "    \n",
    "    #The pressure data is stored as a 20-bit unsigned integer with a fractional part. The OUT_P_MSB (01h), OUT_P_CSB (02h) and bits 7 to 6 of the OUT_P_LSB (03h) registers contain the integer part in Pascals\n",
    "    MPL3115_PRESSURE_DATA_MSB = const(0x01) \n",
    "    MPL3115_PRESSURE_DATA_CSB = const(0x02)\n",
    "    MPL3115_PRESSURE_DATA_LSB = const(0x03)\n",
    "    \n",
    "    MPL3115_TEMP_DATA_MSB = const(0x04)\n",
    "    MPL3115_TEMP_DATA_LSB = const(0x05)\n",
    "    MPL3115_DR_STATUS = const(0x06)\n",
    "    MPL3115_DELTA_DATA = const(0x07)\n",
    "    MPL3115_WHO_AM_I = const(0x0c) # Device identification register\n",
    "    MPL3115_FIFO_STATUS = const(0x0d)\n",
    "    MPL3115_FIFO_DATA = const(0x0e)\n",
    "    MPL3115_FIFO_SETUP = const(0x0e)\n",
    "    MPL3115_TIME_DELAY = const(0x10)\n",
    "    MPL3115_SYS_MODE = const(0x11)\n",
    "    MPL3115_INT_SORCE = const(0x12)\n",
    "    MPL3115_PT_DATA_CFG = const(0x13) #The PT_DATA_CFG register configures the pressure data, temperature data and event flag generator.\n",
    "    MPL3115_BAR_IN_MSB = const(0x14)\n",
    "    MPL3115_P_ARLARM_MSB = const(0x16)\n",
    "    MPL3115_T_ARLARM = const(0x18)\n",
    "    MPL3115_P_ARLARM_WND_MSB = const(0x19)\n",
    "    MPL3115_T_ARLARM_WND = const(0x1b)\n",
    "    MPL3115_P_MIN_DATA = const(0x1c)\n",
    "    MPL3115_T_MIN_DATA = const(0x1f)\n",
    "    MPL3115_P_MAX_DATA = const(0x21)\n",
    "    MPL3115_T_MAX_DATA = const(0x24)\n",
    "    MPL3115_CTRL_REG1 = const(0x26) #CTRL_REG1 - control register 1 (address 26h) bit description\n",
    "    MPL3115_CTRL_REG2 = const(0x27)\n",
    "    MPL3115_CTRL_REG3 = const(0x28)\n",
    "    MPL3115_CTRL_REG4 = const(0x29)\n",
    "    MPL3115_CTRL_REG5 = const(0x2a)\n",
    "    MPL3115_OFFSET_P = const(0x2b)\n",
    "    MPL3115_OFFSET_T = const(0x2c)\n",
    "    MPL3115_OFFSET_H = const(0x2d)\n",
    "    \n",
    "    MPL3115A2_CTRL_REG1_RST = const(0x04)\n",
    "    \n",
    "    # New pressure/altitude data available. \n",
    "    # PDR is set to 1 whenever a new pressure/altitude data acquisition is completed.\n",
    "    MPL3115A2_register_status_PDR = const(0x04)"
   ]
  },
  {
   "cell_type": "code",
   "execution_count": null,
   "id": "ce84af69",
   "metadata": {},
   "outputs": [],
   "source": [
    "import machine"
   ]
  },
  {
   "cell_type": "code",
   "execution_count": null,
   "id": "bf7c5611",
   "metadata": {},
   "outputs": [],
   "source": [
    "i2c = machine.I2C(sda=machine.Pin(4), scl=machine.Pin(5))"
   ]
  },
  {
   "cell_type": "code",
   "execution_count": null,
   "id": "fb54375b",
   "metadata": {},
   "outputs": [],
   "source": [
    "import utime"
   ]
  },
  {
   "cell_type": "code",
   "execution_count": null,
   "id": "b84ff67a",
   "metadata": {},
   "outputs": [],
   "source": [
    "MPL3115A2_i2c_address = const(0x60)\n",
    "MPL3115A2_status = const(0x00)\n",
    "MPL3115A2_register_status_PDR = const(0x04)\n",
    "MPL3115A2_control_register_1 = const(0x26) \n",
    "MPL3115A2_PT_data_configuration = const(0x13) \n",
    "MPL3115A2_pressure_data_MSB = const(0x01)"
   ]
  },
  {
   "cell_type": "code",
   "execution_count": null,
   "id": "eb270cc2",
   "metadata": {},
   "outputs": [],
   "source": [
    "# Set up barometer mode, not raw, oversampling 128, minimum time 512 ms\n",
    "i2c.writeto_mem(MPL3115A2_i2c_address, MPL3115A2_control_register_1, bytes([0x38]))\n",
    "# Enable data flags in PT_DATA_CFG\n",
    "i2c.writeto_mem(MPL3115A2_i2c_address, MPL3115A2_PT_data_configuration, bytes([0x07]))\n",
    "# Set active\n",
    "i2c.writeto_mem(MPL3115A2_i2c_address, MPL3115A2_control_register_1, bytes([0x39]))"
   ]
  },
  {
   "cell_type": "code",
   "execution_count": null,
   "id": "1428afbf",
   "metadata": {},
   "outputs": [],
   "source": [
    "status_buffer = bytearray(1)"
   ]
  },
  {
   "cell_type": "code",
   "execution_count": null,
   "id": "7332c57f",
   "metadata": {},
   "outputs": [],
   "source": [
    "i2c.readfrom_mem_into(MPL3115A2_i2c_address, MPL3115A2_status, status_buffer)"
   ]
  },
  {
   "cell_type": "code",
   "execution_count": null,
   "id": "c08b1a46",
   "metadata": {},
   "outputs": [],
   "source": [
    "status_buffer"
   ]
  },
  {
   "cell_type": "code",
   "execution_count": null,
   "id": "d7417cab",
   "metadata": {},
   "outputs": [],
   "source": [
    "status_buffer[0]"
   ]
  },
  {
   "cell_type": "code",
   "execution_count": null,
   "id": "d8e87eda",
   "metadata": {},
   "outputs": [],
   "source": [
    "status_buffer[0] & MPL3115A2_register_status_PDR"
   ]
  },
  {
   "cell_type": "code",
   "execution_count": null,
   "id": "f06cbc28",
   "metadata": {},
   "outputs": [],
   "source": [
    "def get_MPL3115A2_status():\n",
    "    status_buffer = bytearray(1)\n",
    "    while True:\n",
    "        i2c.readfrom_mem_into(MPL3115A2_i2c_address, MPL3115A2_status, status_buffer)\n",
    "        if(status_buffer[0] & MPL3115A2_register_status_PDR) == 4:\n",
    "            return True\n",
    "        else:\n",
    "            return False"
   ]
  },
  {
   "cell_type": "code",
   "execution_count": null,
   "id": "f9833117",
   "metadata": {},
   "outputs": [],
   "source": [
    "get_MPL3115A2_status()"
   ]
  },
  {
   "cell_type": "code",
   "execution_count": null,
   "id": "3254f062",
   "metadata": {},
   "outputs": [],
   "source": [
    "def initialize_MPL3115A2():\n",
    "    # Set up barometer mode, not raw, oversampling 128, minimum time 512 ms\n",
    "    i2c.writeto_mem(MPL3115A2_i2c_address, MPL3115A2_control_register_1, bytes([0x38]))\n",
    "    # Enable Data Flags in PT_DATA_CFG\n",
    "    i2c.writeto_mem(MPL3115A2_i2c_address, MPL3115A2_PT_data_configuration, bytes([0x07]))\n",
    "    # Set active\n",
    "    i2c.writeto_mem(MPL3115A2_i2c_address, MPL3115A2_control_register_1, bytes([0x39])) \n",
    "    timeout = 0\n",
    "    while timeout < 100:\n",
    "        if get_MPL3115A2_status() == True:\n",
    "            return True\n",
    "        utime.sleep(0.01)\n",
    "        timeout = timeout + 1\n",
    "    print(\"Failed to initialize MPL3115A2\")\n",
    "    return False"
   ]
  },
  {
   "cell_type": "code",
   "execution_count": null,
   "id": "77bbcc34",
   "metadata": {},
   "outputs": [],
   "source": [
    "initialize_MPL3115A2()"
   ]
  },
  {
   "cell_type": "code",
   "execution_count": null,
   "id": "cb938890",
   "metadata": {},
   "outputs": [],
   "source": [
    "status_buffer = bytearray(1)"
   ]
  },
  {
   "cell_type": "code",
   "execution_count": null,
   "id": "64d55fed",
   "metadata": {},
   "outputs": [],
   "source": [
    "i2c.readfrom_mem_into(MPL3115A2_i2c_address, MPL3115A2_status, status_buffer)"
   ]
  },
  {
   "cell_type": "code",
   "execution_count": null,
   "id": "bbdd2c30",
   "metadata": {},
   "outputs": [],
   "source": [
    "status_buffer"
   ]
  },
  {
   "cell_type": "code",
   "execution_count": null,
   "id": "a4eaf5d2",
   "metadata": {},
   "outputs": [],
   "source": [
    "status_buffer[0]"
   ]
  },
  {
   "cell_type": "code",
   "execution_count": null,
   "id": "95a66cc1",
   "metadata": {},
   "outputs": [],
   "source": [
    "status_buffer[0] & MPL3115A2_register_status_PTDR"
   ]
  },
  {
   "cell_type": "code",
   "execution_count": null,
   "id": "c72958b1",
   "metadata": {},
   "outputs": [],
   "source": [
    "def get_MPL3115A2_pressure_pascals():\n",
    "    timeout = 0\n",
    "    while timeout < 100:\n",
    "        if get_MPL3115A2_status() == True:\n",
    "            out_pressure = i2c.readfrom_mem(MPL3115A2_i2c_address, MPL3115A2_pressure_data_MSB, 3)\n",
    "            pressure_int = (out_pressure[0] << 10) + (out_pressure[1] << 2) + ((out_pressure[2] >> 6) & 0x3)\n",
    "            pressure_frac = (out_pressure[2] >> 4) & 0x03\n",
    "\n",
    "            return float(pressure_int + pressure_frac / 4.0) \n",
    "        utime.sleep(0.01)\n",
    "        timeout = timeout + 1\n",
    "    return False"
   ]
  },
  {
   "cell_type": "code",
   "execution_count": null,
   "id": "b6d0e95d",
   "metadata": {},
   "outputs": [],
   "source": [
    "get_MPL3115A2_pressure_pascals()"
   ]
  },
  {
   "cell_type": "code",
   "execution_count": null,
   "id": "cb3d0bf9",
   "metadata": {},
   "outputs": [],
   "source": []
  },
  {
   "cell_type": "code",
   "execution_count": null,
   "id": "fd538f13",
   "metadata": {},
   "outputs": [],
   "source": [
    "global wdt_counter\n",
    "print(wdt_counter)\n",
    "wdt_counter = 0"
   ]
  },
  {
   "cell_type": "code",
   "execution_count": null,
   "id": "453e299d",
   "metadata": {},
   "outputs": [],
   "source": [
    "import machine\n",
    "import utime\n",
    "\n",
    "def get_MPL3115A2_status(i2c_object, MPL3115A2_i2c_address=0x60):\n",
    "    MPL3115A2_status = const(0x00)\n",
    "    MPL3115A2_register_status_PDR = const(0x04)\n",
    "\n",
    "    status_buffer = bytearray(1)\n",
    "    while True:\n",
    "        i2c_object.readfrom_mem_into(MPL3115A2_i2c_address, MPL3115A2_status, status_buffer)\n",
    "        if(status_buffer[0] & MPL3115A2_register_status_PDR) == 4:\n",
    "            return True\n",
    "        else:\n",
    "            return False\n",
    "\n",
    "def initialize_MPL3115A2(i2c_object, MPL3115A2_i2c_address=0x60):\n",
    "    MPL3115A2_control_register_1 = const(0x26) \n",
    "    MPL3115A2_PT_data_configuration = const(0x13) \n",
    "    # Set up barometer mode, not raw, oversampling 128, minimum time 512 ms\n",
    "    i2c_object.writeto_mem(MPL3115A2_i2c_address, MPL3115A2_control_register_1, bytes([0x38]))\n",
    "    # Enable Data Flags in PT_DATA_CFG\n",
    "    i2c_object.writeto_mem(MPL3115A2_i2c_address, MPL3115A2_PT_data_configuration, bytes([0x07]))\n",
    "    # Set active\n",
    "    i2c_object.writeto_mem(MPL3115A2_i2c_address, MPL3115A2_control_register_1, bytes([0x39])) \n",
    "    timeout = 0\n",
    "    while timeout < 100:\n",
    "        if get_MPL3115A2_status(i2c_object, MPL3115A2_i2c_address) == True:\n",
    "            return True\n",
    "        utime.sleep(0.01)\n",
    "        timeout = timeout + 1\n",
    "    print(\"Failed to initialize MPL3115A2\")\n",
    "    return False\n",
    "\n",
    "def get_MPL3115A2_pressure_pascals(i2c_object, MPL3115A2_i2c_address=0x60):\n",
    "    MPL3115A2_pressure_data_MSB = const(0x01)\n",
    "    timeout = 0\n",
    "    while timeout < 100:\n",
    "        if get_MPL3115A2_status(i2c_object, MPL3115A2_i2c_address) == True:\n",
    "            out_pressure = i2c_object.readfrom_mem(MPL3115A2_i2c_address, MPL3115A2_pressure_data_MSB, 3)\n",
    "            pressure_int = (out_pressure[0] << 10) + (out_pressure[1] << 2) + ((out_pressure[2] >> 6) & 0x3)\n",
    "            pressure_frac = (out_pressure[2] >> 4) & 0x03\n",
    "            return float(pressure_int + pressure_frac / 4.0) \n",
    "        utime.sleep(0.01)\n",
    "        timeout = timeout + 1\n",
    "    return False\n",
    "\n",
    "def get_pressure_data(i2c_object, MPL3115A2_i2c_address=0x60):\n",
    "    return {\"pressure_pascals\" : get_MPL3115A2_pressure_pascals(i2c_object, MPL3115A2_i2c_address)}"
   ]
  },
  {
   "cell_type": "code",
   "execution_count": null,
   "id": "5167aa17",
   "metadata": {},
   "outputs": [],
   "source": [
    "initialize_MPL3115A2(i2c, 0x60)"
   ]
  },
  {
   "cell_type": "code",
   "execution_count": null,
   "id": "600f423c",
   "metadata": {},
   "outputs": [],
   "source": [
    "get_MPL3115A2_pressure_pascals(i2c, 0x60)"
   ]
  },
  {
   "cell_type": "code",
   "execution_count": null,
   "id": "cd8c5b4c",
   "metadata": {},
   "outputs": [],
   "source": [
    "get_pressure_data(i2c, 0x60)"
   ]
  },
  {
   "cell_type": "code",
   "execution_count": null,
   "id": "221f28b9",
   "metadata": {},
   "outputs": [],
   "source": [
    "pressure_script = \"\"\"import machine\n",
    "import utime\n",
    "\n",
    "def get_MPL3115A2_status(i2c_object, MPL3115A2_i2c_address=0x60):\n",
    "    MPL3115A2_status = const(0x00)\n",
    "    MPL3115A2_register_status_PDR = const(0x04)\n",
    "\n",
    "    status_buffer = bytearray(1)\n",
    "    while True:\n",
    "        i2c_object.readfrom_mem_into(MPL3115A2_i2c_address, MPL3115A2_status, status_buffer)\n",
    "        if(status_buffer[0] & MPL3115A2_register_status_PDR) == 4:\n",
    "            return True\n",
    "        else:\n",
    "            return False\n",
    "\n",
    "def initialize_MPL3115A2(i2c_object, MPL3115A2_i2c_address=0x60):\n",
    "    MPL3115A2_control_register_1 = const(0x26) \n",
    "    MPL3115A2_PT_data_configuration = const(0x13) \n",
    "    # Set up barometer mode, not raw, oversampling 128, minimum time 512 ms\n",
    "    i2c_object.writeto_mem(MPL3115A2_i2c_address, MPL3115A2_control_register_1, bytes([0x38]))\n",
    "    # Enable Data Flags in PT_DATA_CFG\n",
    "    i2c_object.writeto_mem(MPL3115A2_i2c_address, MPL3115A2_PT_data_configuration, bytes([0x07]))\n",
    "    # Set active\n",
    "    i2c_object.writeto_mem(MPL3115A2_i2c_address, MPL3115A2_control_register_1, bytes([0x39])) \n",
    "    timeout = 0\n",
    "    while timeout < 100:\n",
    "        if get_MPL3115A2_status(i2c_object, MPL3115A2_i2c_address) == True:\n",
    "            return True\n",
    "        utime.sleep(0.01)\n",
    "        timeout = timeout + 1\n",
    "    print(\"Failed to initialize MPL3115A2\")\n",
    "    return False\n",
    "\n",
    "def get_MPL3115A2_pressure_pascals(i2c_object, MPL3115A2_i2c_address=0x60):\n",
    "    MPL3115A2_pressure_data_MSB = const(0x01)\n",
    "    timeout = 0\n",
    "    while timeout < 100:\n",
    "        if get_MPL3115A2_status(i2c_object, MPL3115A2_i2c_address) == True:\n",
    "            out_pressure = i2c_object.readfrom_mem(MPL3115A2_i2c_address, MPL3115A2_pressure_data_MSB, 3)\n",
    "            pressure_int = (out_pressure[0] << 10) + (out_pressure[1] << 2) + ((out_pressure[2] >> 6) & 0x3)\n",
    "            pressure_frac = (out_pressure[2] >> 4) & 0x03\n",
    "            return float(pressure_int + pressure_frac / 4.0) \n",
    "        utime.sleep(0.01)\n",
    "        timeout = timeout + 1\n",
    "    return False\n",
    "\n",
    "def get_pressure_data(i2c_object, MPL3115A2_i2c_address=0x60):\n",
    "    return {\"pressure_pascals\" : get_MPL3115A2_pressure_pascals(i2c_object, MPL3115A2_i2c_address)}\n",
    "\"\"\""
   ]
  },
  {
   "cell_type": "code",
   "execution_count": null,
   "id": "dc985bb5",
   "metadata": {},
   "outputs": [],
   "source": [
    "import os\n",
    "print(os.listdir())"
   ]
  },
  {
   "cell_type": "code",
   "execution_count": null,
   "id": "f3581acd",
   "metadata": {},
   "outputs": [],
   "source": [
    "with open('pressure_sensor.py') as f:\n",
    "    print(f.read())"
   ]
  },
  {
   "cell_type": "code",
   "execution_count": null,
   "id": "6c830557",
   "metadata": {},
   "outputs": [],
   "source": [
    "with open('pressure_sensor.txt', 'w') as f:\n",
    "    f.write(pressure_script)"
   ]
  },
  {
   "cell_type": "markdown",
   "id": "f4347656",
   "metadata": {},
   "source": [
    "### Double check the write"
   ]
  },
  {
   "cell_type": "code",
   "execution_count": null,
   "id": "b83dd1af",
   "metadata": {},
   "outputs": [],
   "source": [
    "with open('pressure_sensor.txt') as f:\n",
    "    print(f.read())"
   ]
  },
  {
   "cell_type": "markdown",
   "id": "49e9bdf3",
   "metadata": {},
   "source": [
    "## Move temp file to `boot.py`"
   ]
  },
  {
   "cell_type": "code",
   "execution_count": null,
   "id": "47f60c7e",
   "metadata": {},
   "outputs": [],
   "source": [
    "os.rename('pressure_sensor.txt', 'pressure_sensor.py')"
   ]
  },
  {
   "cell_type": "code",
   "execution_count": null,
   "id": "373bb1a7",
   "metadata": {},
   "outputs": [],
   "source": []
  },
  {
   "cell_type": "code",
   "execution_count": null,
   "id": "1ad6b50a",
   "metadata": {},
   "outputs": [],
   "source": [
    "machine.reset()"
   ]
  },
  {
   "cell_type": "code",
   "execution_count": null,
   "id": "f2b9ae3b",
   "metadata": {},
   "outputs": [],
   "source": [
    "%disconnect"
   ]
  },
  {
   "cell_type": "code",
   "execution_count": null,
   "id": "f2a4d321",
   "metadata": {},
   "outputs": [],
   "source": []
  },
  {
   "cell_type": "code",
   "execution_count": null,
   "id": "fec81cbf",
   "metadata": {},
   "outputs": [],
   "source": []
  }
 ],
 "metadata": {
  "kernelspec": {
   "display_name": "MicroPython upydevice kernel",
   "language": "python",
   "name": "micropython-upydevice"
  },
  "language_info": {
   "codemirror_mode": "python",
   "file_extension": ".py",
   "mimetype": "text/x-python",
   "name": "python",
   "pygments_lexer": "python"
  }
 },
 "nbformat": 4,
 "nbformat_minor": 5
}
