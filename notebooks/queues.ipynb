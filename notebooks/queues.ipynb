{
 "cells": [
  {
   "cell_type": "markdown",
   "metadata": {},
   "source": [
    "https://github.com/micropython/micropython-lib/blob/master/uasyncio.queues/uasyncio/queues.py"
   ]
  },
  {
   "cell_type": "code",
   "execution_count": null,
   "metadata": {},
   "outputs": [],
   "source": [
    "%websocketconnect 192.168.1.130:8266 --password horsetoe"
   ]
  },
  {
   "cell_type": "code",
   "execution_count": null,
   "metadata": {},
   "outputs": [],
   "source": [
    "def generateMessageID():\n",
    "    mid = 0\n",
    "    while True:\n",
    "        yield mid\n",
    "        mid = (mid + 1) & 0xff\n",
    "        mid = mid if mid else 1\n",
    "        \n",
    "def processQueue(queue, message_id_generator, url=\"http://192.168.1.151:9494/station\"):\n",
    "    while len(queue) > 0:\n",
    "        result = queue.popleft()\n",
    "        \n",
    "        if not \"message_id\" in result:\n",
    "            result[\"message_id\"] = next(message_id_generator)\n",
    "        response = postData(result, url)\n",
    "        \n",
    "        if not response:\n",
    "            print('POST failed')\n",
    "            data_queue.appendleft(result) \n",
    "            \n",
    "        elif response.status_code >= 300:\n",
    "            print('POST failed with response {} and status {}'.format(response.text, response.status_code))\n",
    "            data_queue.appendleft(result)\n",
    "            response.close()\n",
    "            \n",
    "        else:\n",
    "            print('POST succeded with response {} and status {}'.format(response.text, response.status_code))\n",
    "            response.close()"
   ]
  },
  {
   "cell_type": "code",
   "execution_count": null,
   "metadata": {},
   "outputs": [],
   "source": [
    "from collections.deque import deque\n",
    "from sensors import readData\n",
    "\n",
    "get_ID = generateMessageID()\n",
    "data_queue = deque()\n",
    "\n",
    "data_queue.append(readData())\n",
    "\n",
    "result = data_queue.popleft()\n",
    "result[\"message_id\"] = next(get_ID)\n"
   ]
  },
  {
   "cell_type": "code",
   "execution_count": null,
   "metadata": {},
   "outputs": [],
   "source": [
    "result"
   ]
  },
  {
   "cell_type": "code",
   "execution_count": null,
   "metadata": {},
   "outputs": [],
   "source": [
    "test_queue = deque()\n",
    "\n",
    "test_queue.append(readData())\n",
    "\n",
    "result = test_queue.popleft()\n",
    "\n",
    "if not \"message_id\" in result:\n",
    "    result[\"message_id\"] = \"test\"\n",
    "    \n",
    "result"
   ]
  },
  {
   "cell_type": "code",
   "execution_count": null,
   "metadata": {},
   "outputs": [],
   "source": [
    "data_queue.append(readData())\n",
    "data_queue.append(readData())\n",
    "data_queue.append(readData())"
   ]
  },
  {
   "cell_type": "code",
   "execution_count": null,
   "metadata": {},
   "outputs": [],
   "source": [
    "len(data_queue)"
   ]
  },
  {
   "cell_type": "code",
   "execution_count": null,
   "metadata": {},
   "outputs": [],
   "source": [
    "data_queue.popleft()"
   ]
  },
  {
   "cell_type": "code",
   "execution_count": null,
   "metadata": {},
   "outputs": [],
   "source": [
    "len(data_queue)"
   ]
  },
  {
   "cell_type": "code",
   "execution_count": null,
   "metadata": {},
   "outputs": [],
   "source": [
    "from send_data import postData\n",
    "\n",
    "response = postData(data_queue.popleft(), \"http://192.168.1.151:9494/station\")\n",
    "\n",
    "if not response:\n",
    "    print('POST failed')\n",
    "    data_queue.appendleft(result) \n",
    "    \n",
    "elif response.status_code >= 300:\n",
    "    print('POST failed with response {} with status {}'.format(response.text, response.status_code))\n",
    "    data_queue.appendleft(result) \n",
    "\n",
    "else:\n",
    "    print('POST response was {} with status {}'.format(response.text, response.status_code))\n",
    "    try:\n",
    "        response.close()\n",
    "    except Exception as e:\n",
    "        print(e)"
   ]
  },
  {
   "cell_type": "code",
   "execution_count": null,
   "metadata": {},
   "outputs": [],
   "source": [
    "response = postData(data_queue.popleft(), \"http://192.168.1.100\")\n",
    "\n",
    "if not response:\n",
    "    print('POST failed')\n",
    "    data_queue.appendleft(result) \n",
    "    \n",
    "elif response.status_code >= 300:\n",
    "    print('POST failed with response {} with status {}'.format(response.text, response.status_code))\n",
    "    data_queue.appendleft(result) \n",
    "\n",
    "else:\n",
    "    print('POST response was {} with status {}'.format(response.text, response.status_code))\n",
    "    try:\n",
    "        response.close()\n",
    "    except Exception as e:\n",
    "        print(e)"
   ]
  },
  {
   "cell_type": "code",
   "execution_count": null,
   "metadata": {},
   "outputs": [],
   "source": [
    "response = postData(data_queue.popleft(), \"http://192.168.1.151:9494/fakeEndpoint\")\n",
    "\n",
    "if not response:\n",
    "    print('POST failed')\n",
    "    data_queue.appendleft(result) \n",
    "    \n",
    "elif response.status_code >= 300:\n",
    "    print('POST failed with response {} with status {}'.format(response.text, response.status_code))\n",
    "    data_queue.appendleft(result) \n",
    "\n",
    "else:\n",
    "    print('POST response was {} with status {}'.format(response.text, response.status_code))\n",
    "    try:\n",
    "        response.close()\n",
    "    except Exception as e:\n",
    "        print(e)"
   ]
  },
  {
   "cell_type": "code",
   "execution_count": null,
   "metadata": {},
   "outputs": [],
   "source": [
    "import os\n",
    "os.listdir()"
   ]
  },
  {
   "cell_type": "code",
   "execution_count": null,
   "metadata": {},
   "outputs": [],
   "source": [
    "os.remove(\"queues.py\")"
   ]
  },
  {
   "cell_type": "code",
   "execution_count": null,
   "metadata": {},
   "outputs": [],
   "source": [
    "queue_script=\"\"\"def generateMessageID():\n",
    "    mid = 0\n",
    "    while True:\n",
    "        yield mid\n",
    "        mid = (mid + 1) & 0xff\n",
    "        mid = mid if mid else 1\n",
    "        \n",
    "def processQueue(queue, message_id_generator, url=\"http://192.168.1.151:9494/station\"):\n",
    "    while len(queue) > 0:\n",
    "        result = queue.popleft()\n",
    "        \n",
    "        if not \"message_id\" in result:\n",
    "            result[\"message_id\"] = next(message_id_generator)\n",
    "        response = postData(result, url)\n",
    "        \n",
    "        if not response:\n",
    "            print('POST failed')\n",
    "            data_queue.appendleft(result) \n",
    "            \n",
    "        elif response.status_code >= 300:\n",
    "            print('POST failed with response {} and status {}'.format(response.text, response.status_code))\n",
    "            data_queue.appendleft(result)\n",
    "            response.close()\n",
    "            \n",
    "        else:\n",
    "            print('POST succeded with response {} and status {}'.format(response.text, response.status_code))\n",
    "            response.close()\n",
    "\n",
    "\"\"\""
   ]
  },
  {
   "cell_type": "markdown",
   "metadata": {},
   "source": [
    "### First write to a holder location"
   ]
  },
  {
   "cell_type": "code",
   "execution_count": null,
   "metadata": {},
   "outputs": [],
   "source": [
    "with open('queues.txt', 'w') as f:\n",
    "    f.write(queue_script)"
   ]
  },
  {
   "cell_type": "markdown",
   "metadata": {},
   "source": [
    "### Double check the write"
   ]
  },
  {
   "cell_type": "code",
   "execution_count": null,
   "metadata": {},
   "outputs": [],
   "source": [
    "with open('queues.txt') as f:\n",
    "    print(f.read())"
   ]
  },
  {
   "cell_type": "markdown",
   "metadata": {},
   "source": [
    "## Move temp file to `queue.py`"
   ]
  },
  {
   "cell_type": "code",
   "execution_count": null,
   "metadata": {},
   "outputs": [],
   "source": [
    "os.rename('queues.txt', 'queues.py')"
   ]
  },
  {
   "cell_type": "code",
   "execution_count": null,
   "metadata": {},
   "outputs": [],
   "source": [
    "%disconnect"
   ]
  },
  {
   "cell_type": "code",
   "execution_count": null,
   "metadata": {},
   "outputs": [],
   "source": []
  }
 ],
 "metadata": {
  "kernelspec": {
   "display_name": "MicroPython upydevice kernel",
   "language": "python",
   "name": "micropython-upydevice"
  },
  "language_info": {
   "codemirror_mode": "python",
   "file_extension": ".py",
   "mimetype": "text/x-python",
   "name": "python",
   "pygments_lexer": "python"
  }
 },
 "nbformat": 4,
 "nbformat_minor": 4
}
