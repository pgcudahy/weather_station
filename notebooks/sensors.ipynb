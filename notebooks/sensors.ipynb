{
 "cells": [
  {
   "cell_type": "code",
   "execution_count": null,
   "metadata": {},
   "outputs": [],
   "source": [
    "%websocketconnect 192.168.1.130:8266 --password horsetoe -kbi "
   ]
  },
  {
   "cell_type": "code",
   "execution_count": null,
   "metadata": {},
   "outputs": [],
   "source": [
    "2+2"
   ]
  },
  {
   "cell_type": "code",
   "execution_count": null,
   "metadata": {},
   "outputs": [],
   "source": [
    "global wdt_counter\n",
    "wdt_counter = 0"
   ]
  },
  {
   "cell_type": "markdown",
   "metadata": {},
   "source": [
    "![Pinout](nodemcu_pins.png)"
   ]
  },
  {
   "cell_type": "markdown",
   "metadata": {},
   "source": [
    "![Pinout2](ESP8266-NodeMCU-kit-12-E-pinout-gpio-pin.png)"
   ]
  },
  {
   "cell_type": "markdown",
   "metadata": {},
   "source": [
    "![Pin details](pin_details.png)"
   ]
  },
  {
   "cell_type": "markdown",
   "metadata": {},
   "source": [
    "![Schematic](schematic.png)"
   ]
  },
  {
   "cell_type": "markdown",
   "metadata": {},
   "source": [
    "### Photon pin - ESP8266 pin\n",
    "\n",
    "D2 - D6 (Machine pin 12)  is rain gauge\n",
    "\n",
    "D3 - D5 (Machine pin 14) is wind speed\n",
    "\n",
    "A0 - A0 is wind vane\n",
    "\n",
    "D1 - D1 / SCL\n",
    "D0 - D2 / SDA"
   ]
  },
  {
   "cell_type": "markdown",
   "metadata": {},
   "source": [
    "# Set up pins"
   ]
  },
  {
   "cell_type": "markdown",
   "metadata": {},
   "source": [
    "## LED"
   ]
  },
  {
   "cell_type": "code",
   "execution_count": null,
   "metadata": {},
   "outputs": [],
   "source": [
    "import machine"
   ]
  },
  {
   "cell_type": "code",
   "execution_count": null,
   "metadata": {},
   "outputs": [],
   "source": [
    "frequency = 5000"
   ]
  },
  {
   "cell_type": "code",
   "execution_count": null,
   "metadata": {},
   "outputs": [],
   "source": [
    "led = machine.PWM(machine.Pin(2), frequency)"
   ]
  },
  {
   "cell_type": "code",
   "execution_count": null,
   "metadata": {},
   "outputs": [],
   "source": [
    "led.duty(0)"
   ]
  },
  {
   "cell_type": "code",
   "execution_count": null,
   "metadata": {},
   "outputs": [],
   "source": [
    "led.duty(1023)"
   ]
  },
  {
   "cell_type": "markdown",
   "metadata": {},
   "source": [
    "## Wind direction"
   ]
  },
  {
   "cell_type": "markdown",
   "metadata": {},
   "source": [
    "#### Wind direction is hooked up to the analog to digital coverter on pin 0"
   ]
  },
  {
   "cell_type": "code",
   "execution_count": null,
   "metadata": {},
   "outputs": [],
   "source": [
    "wind_direction_pin = machine.ADC(0)"
   ]
  },
  {
   "cell_type": "code",
   "execution_count": null,
   "metadata": {},
   "outputs": [],
   "source": [
    "wind_direction_pin.read()"
   ]
  },
  {
   "cell_type": "markdown",
   "metadata": {},
   "source": [
    "#### Translate the voltage read from the ADC (range 0-1024) to a cardinal direction"
   ]
  },
  {
   "cell_type": "markdown",
   "metadata": {},
   "source": [
    "![Wind Vane Resistors](wind_vane_resistors.png)"
   ]
  },
  {
   "cell_type": "markdown",
   "metadata": {},
   "source": [
    "Manually checked each direction, and these are the raw values I get\n",
    "\n",
    "N = 825\n",
    "\n",
    "NNW = 741\n",
    "\n",
    "NW = 925\n",
    "\n",
    "WNW = 867\n",
    "\n",
    "W = 985\n",
    "\n",
    "WSW = 634\n",
    "\n",
    "SW = 666\n",
    "\n",
    "SSW = 268\n",
    "\n",
    "S = 314\n",
    "\n",
    "SSE = 144\n",
    "\n",
    "SE = 207\n",
    "\n",
    "ESE = 77\n",
    "\n",
    "E = 108\n",
    "\n",
    "ENE = 97\n",
    "\n",
    "NE = 495\n",
    "\n",
    "NNE = 439"
   ]
  },
  {
   "cell_type": "code",
   "execution_count": null,
   "metadata": {},
   "outputs": [],
   "source": [
    "vals = [825, 741, 925, 867, 985, 634, 666, 268, 314, 144, 207, 77, 108, 97, 495, 439]"
   ]
  },
  {
   "cell_type": "code",
   "execution_count": null,
   "metadata": {},
   "outputs": [],
   "source": [
    "vals.sort()"
   ]
  },
  {
   "cell_type": "code",
   "execution_count": null,
   "metadata": {},
   "outputs": [],
   "source": [
    "vals"
   ]
  },
  {
   "cell_type": "code",
   "execution_count": null,
   "metadata": {},
   "outputs": [],
   "source": [
    "wind_direction_pin.read()"
   ]
  },
  {
   "cell_type": "code",
   "execution_count": null,
   "metadata": {},
   "outputs": [],
   "source": [
    "wind_direction_dict = {(0, 60):    \"Error.low\",\n",
    "                       (61, 85):   \"ESE\",\n",
    "                       (86, 103):  \"ENE\",\n",
    "                       (104, 130): \"E\",\n",
    "                       (131, 180): \"SSE\",\n",
    "                       (181, 240): \"SE\",\n",
    "                       (241, 290): \"SSW\",\n",
    "                       (291, 400): \"S\",\n",
    "                       (401, 470): \"NNE\",\n",
    "                       (471, 560): \"NE\",\n",
    "                       (561, 650): \"WSW\",\n",
    "                       (651, 700): \"SW\",\n",
    "                       (701, 780): \"NNW\",\n",
    "                       (781, 845): \"N\",\n",
    "                       (846, 900): \"WNW\",\n",
    "                       (901, 950): \"NW\",\n",
    "                       (951, 1000):\"W\",\n",
    "                       (1001, 1024):\"Error.high\"}"
   ]
  },
  {
   "cell_type": "code",
   "execution_count": null,
   "metadata": {},
   "outputs": [],
   "source": [
    "def getDirection(table, raw):\n",
    "    for key in table:\n",
    "        if key[0] <= raw <= key[1]:\n",
    "            return table[key]"
   ]
  },
  {
   "cell_type": "code",
   "execution_count": null,
   "metadata": {},
   "outputs": [],
   "source": [
    "wind_direction_raw = wind_direction_pin.read()"
   ]
  },
  {
   "cell_type": "code",
   "execution_count": null,
   "metadata": {},
   "outputs": [],
   "source": [
    "wind_direction_raw"
   ]
  },
  {
   "cell_type": "code",
   "execution_count": null,
   "metadata": {},
   "outputs": [],
   "source": [
    "getDirection(wind_direction_dict, wind_direction_raw)"
   ]
  },
  {
   "cell_type": "markdown",
   "metadata": {},
   "source": [
    "## Wind speed"
   ]
  },
  {
   "cell_type": "markdown",
   "metadata": {},
   "source": [
    "Interrupts may be attached to any GPIO pin except GPIO16. Since GPIO6-GPIO11 are typically used to interface with the flash memory ICs on most esp8266 modules, applying interrupts to these pins are likely to cause problems\n",
    "\n",
    "Following https://people.eecs.berkeley.edu/~boser/courses/49_sp_2019/N_gpio.html#_interrupts and https://github.com/DL1CB/RamsbergWeatherStation"
   ]
  },
  {
   "cell_type": "code",
   "execution_count": null,
   "metadata": {},
   "outputs": [],
   "source": [
    "anemometer_count = 0"
   ]
  },
  {
   "cell_type": "code",
   "execution_count": null,
   "metadata": {},
   "outputs": [],
   "source": [
    "DEBOUNCE_MS = const(50)\n",
    "\n",
    "class pulseCount:\n",
    "\n",
    "    def __init__(self, pin, callback=None, falling=True):  \n",
    "        \"\"\" Count anemometer switches with debouncing. Arguments:\n",
    "        pin: configured pin (incl PULL_UP/DOWN)\n",
    "        callback: handler, called when hall switch press detected\n",
    "        falling: detect raising or falling edges\n",
    "        \"\"\"\n",
    "        self.last_time_ms = 0\n",
    "        self.detected = False  # a switch press was detected\n",
    "        self.cb = callback\n",
    "        pin.irq(self._irq_cb, pin.IRQ_FALLING if falling else pin.IRQ_RISING)\n",
    "\n",
    "    def pressed(self):     \n",
    "        \"\"\"Return True if switch pressed since last call\"\"\"\n",
    "        p = self.detected\n",
    "        self.detected = False\n",
    "        return p\n",
    "\n",
    "    def _irq_cb(self, pin):    \n",
    "        t = time.ticks_ms()\n",
    "        diff = t - self.last_time_ms\n",
    "        if abs(diff) < DEBOUNCE_MS:     \n",
    "            return\n",
    "        self.last_time_ms = t\n",
    "        self.detected = True\n",
    "        if self.cb: self.cb(pin)   "
   ]
  },
  {
   "cell_type": "code",
   "execution_count": null,
   "metadata": {},
   "outputs": [],
   "source": [
    "def anemometer_reporter(pin):\n",
    "    global anemometer_count\n",
    "    anemometer_count = anemometer_count + 1"
   ]
  },
  {
   "cell_type": "code",
   "execution_count": null,
   "metadata": {},
   "outputs": [],
   "source": [
    "anemometer_pin = machine.Pin(14, mode=machine.Pin.IN, pull=machine.Pin.PULL_UP)   \n",
    "anemometer_detect = pulseCount(anemometer_pin, callback=anemometer_reporter) "
   ]
  },
  {
   "cell_type": "markdown",
   "metadata": {},
   "source": [
    "Per the data sheet \"A wind speed of 2.4km/h causes the switch to close once per second.\" "
   ]
  },
  {
   "cell_type": "code",
   "execution_count": null,
   "metadata": {},
   "outputs": [],
   "source": [
    "def windSpeedKilometersPerHour(pulses, period): \n",
    "    \"\"\" kmh instantaneous wind speed \"\"\"\n",
    "    return round(2.4 * (pulses / period), 4)"
   ]
  },
  {
   "cell_type": "markdown",
   "metadata": {},
   "source": [
    "## Rain meter"
   ]
  },
  {
   "cell_type": "markdown",
   "metadata": {},
   "source": [
    "Interrupts may be attached to any GPIO pin except GPIO16. Since GPIO6-GPIO11 are typically used to interface with the flash memory ICs on most esp8266 modules, applying interrupts to these pins are likely to cause problems\n",
    "\n",
    "Following https://people.eecs.berkeley.edu/~boser/courses/49_sp_2019/N_gpio.html#_interrupts and https://github.com/DL1CB/RamsbergWeatherStation"
   ]
  },
  {
   "cell_type": "code",
   "execution_count": null,
   "metadata": {},
   "outputs": [],
   "source": [
    "rain_gauge_count = 0"
   ]
  },
  {
   "cell_type": "code",
   "execution_count": null,
   "metadata": {},
   "outputs": [],
   "source": [
    "def rain_gauge_reporter(pin):\n",
    "    global rain_gauge_count\n",
    "    rain_gauge_count = rain_gauge_count + 1"
   ]
  },
  {
   "cell_type": "code",
   "execution_count": null,
   "metadata": {},
   "outputs": [],
   "source": [
    "rain_gauge_pin = machine.Pin(12, mode=machine.Pin.IN, pull=machine.Pin.PULL_UP)   \n",
    "rain_detect = pulseCount(rain_gauge_pin, callback=rain_gauge_reporter) "
   ]
  },
  {
   "cell_type": "markdown",
   "metadata": {},
   "source": [
    "The rain gauge is a self-emptying tipping bucket type. Each **0.2794mm** of rain causes one momentary contact closure."
   ]
  },
  {
   "cell_type": "code",
   "execution_count": null,
   "metadata": {},
   "outputs": [],
   "source": [
    "def readData():\n",
    "    global anemometer_count\n",
    "    global rain_gauge_count\n",
    "    wind_direction_raw = wind_direction_pin.read()\n",
    "    raw_weather_data = {\"wind_direction_raw\" : wind_direction_raw,\n",
    "                        #\"wind_direction_cardinal\" : getDirection(wind_direction_dict, wind_direction_raw),\n",
    "                        \"wind_speed_raw\" : anemometer_count,\n",
    "                        #\"wind_speed_kph\" : windSpeedKilometersPerHour(anemometer_count, period),\n",
    "                        \"rain_amount_raw\" : rain_gauge_count\n",
    "                        #\"rain_amount_ml\" : countsToMilliliters(rain_gauge_count)\n",
    "                       }\n",
    "    #Reset the anemometer and rain gauge counts\n",
    "    anemometer_count = 0\n",
    "    rain_gauge_count = 0\n",
    "    return raw_weather_data"
   ]
  },
  {
   "cell_type": "code",
   "execution_count": null,
   "metadata": {},
   "outputs": [],
   "source": [
    "readData()"
   ]
  },
  {
   "cell_type": "markdown",
   "metadata": {},
   "source": [
    "# Temp, barometric pressure, and humidity"
   ]
  },
  {
   "cell_type": "code",
   "execution_count": null,
   "metadata": {},
   "outputs": [],
   "source": [
    "global wdt_counter\n",
    "print(wdt_counter)\n",
    "wdt_counter = 0"
   ]
  },
  {
   "cell_type": "markdown",
   "metadata": {},
   "source": [
    "Hooked up to I2C (SDA and SCL)"
   ]
  },
  {
   "cell_type": "markdown",
   "metadata": {},
   "source": [
    "SDA = machine pin 4 = D2\n",
    "\n",
    "SCL = machine pin 5 = D1"
   ]
  },
  {
   "cell_type": "code",
   "execution_count": null,
   "metadata": {},
   "outputs": [],
   "source": [
    "import machine"
   ]
  },
  {
   "cell_type": "code",
   "execution_count": null,
   "metadata": {},
   "outputs": [],
   "source": [
    "i2c = machine.I2C(sda=machine.Pin(4), scl=machine.Pin(5))"
   ]
  },
  {
   "cell_type": "markdown",
   "metadata": {},
   "source": [
    "Sample code at  https://github.com/chrisbalmer/micropython-si7021/blob/master/si7021.py\n",
    "\n",
    "Data sheet at https://cdn.sparkfun.com/datasheets/Sensors/Weather/Si7021.pdf\n",
    "\n",
    "`While the measurement is in progress, the option of either clock stretching (Hold Master Mode) or Not Acknowledging read requests (No Hold Master Mode) is available to indicate to the master that the measurement is in progress; the chosen command code determines which mode is used.`\n",
    "\n",
    "#### Si7021 is at address 0x40 / 64\n",
    "\n",
    "Measure Relative Humidity, Hold Master Mode 0xE5\n",
    "\n",
    "Measure Relative Humidity, No Hold Master Mode 0xF5\n",
    "\n",
    "Measure Temperature, Hold Master Mode 0xE3\n",
    "\n",
    "Measure Temperature, No Hold Master Mode 0xF3\n",
    "\n",
    "Read Temperature Value from Previous RH Measurement 0xE0\n",
    "\n",
    "Reset 0xFE\n",
    "\n",
    "Write RH/T User Register 1 0xE6\n",
    "\n",
    "Read RH/T User Register 1 0xE7\n",
    "\n",
    "Read Electronic ID 1st Byte 0xFA 0x0F\n",
    "\n",
    "Read Electronic ID 2nd Byte 0xFC 0xC9\n",
    "\n",
    "Read Firmware Revision 0x84 0xB8"
   ]
  },
  {
   "cell_type": "code",
   "execution_count": null,
   "metadata": {},
   "outputs": [],
   "source": [
    "SI7021_i2c_address = 0x40\n",
    "\n",
    "SI7021_measure_temperature = bytearray([0xF3])\n",
    "\n",
    "SI7021_measure_relative_humidity = bytearray([0xF5])\n",
    "\n",
    "SI7021_reset = bytearray([0xFE])\n",
    "\n",
    "SI7021_read_ID_1 = bytearray([0xFA, 0x0F])\n",
    "\n",
    "SI7021_read_ID_2 = bytearray([0xFC, 0xC9])"
   ]
  },
  {
   "cell_type": "code",
   "execution_count": null,
   "metadata": {},
   "outputs": [],
   "source": [
    "def convert_bytes_to_integer(bytes_to_convert):\n",
    "    'Use bitwise operators to convert the bytes into integers.'\n",
    "    integer = None\n",
    "    for chunk in bytes_to_convert:\n",
    "        if not integer:\n",
    "            integer = chunk\n",
    "        else:\n",
    "            integer = integer << 8\n",
    "            integer = integer | chunk\n",
    "    return integer"
   ]
  },
  {
   "cell_type": "code",
   "execution_count": null,
   "metadata": {},
   "outputs": [],
   "source": [
    "def get_Si7021_device_info():\n",
    "    '''Get the serial number and the sensor identifier. The identifier is\n",
    "    part of the bytes returned for the serial number.\n",
    "    '''\n",
    "    # Serial 1st half\n",
    "    i2c.writeto(SI7021_i2c_address, SI7021_read_ID_1)\n",
    "    id1 = bytearray(8)\n",
    "    utime.sleep(0.025)\n",
    "    i2c.readfrom_into(SI7021_i2c_address, id1)\n",
    "\n",
    "    # Serial 2nd half\n",
    "    i2c.writeto(SI7021_i2c_address, SI7021_read_ID_2)\n",
    "    id2 = bytearray(6)\n",
    "    utime.sleep(0.025)\n",
    "    i2c.readfrom_into(SI7021_i2c_address, id2)\n",
    "\n",
    "    combined_id = bytearray([id1[0], id1[2], id1[4], id1[6],\n",
    "                             id2[0], id2[1], id2[3], id2[4]])\n",
    "\n",
    "    serial = convert_bytes_to_integer(combined_id)\n",
    "    identifier = get_Si7021_device_identifier(id2[0])\n",
    "\n",
    "    return serial, identifier\n"
   ]
  },
  {
   "cell_type": "code",
   "execution_count": null,
   "metadata": {},
   "outputs": [],
   "source": [
    "def get_Si7021_device_identifier(identifier_byte):\n",
    "        '''Convert the identifier byte to a device identifier. Values are based\n",
    "        on the information from page 24 of the datasheet.\n",
    "        '''\n",
    "        if identifier_byte == 0x00 or identifier_byte == 0xFF:\n",
    "            return 'engineering sample'\n",
    "        elif identifier_byte == 0x0D:\n",
    "            return 'Si7013'\n",
    "        elif identifier_byte == 0x14:\n",
    "            return 'Si7020'\n",
    "        elif identifier_byte == 0x15:\n",
    "            return 'Si7021'\n",
    "        else:\n",
    "            return 'unknown'"
   ]
  },
  {
   "cell_type": "code",
   "execution_count": null,
   "metadata": {},
   "outputs": [],
   "source": [
    "import utime"
   ]
  },
  {
   "cell_type": "code",
   "execution_count": null,
   "metadata": {},
   "outputs": [],
   "source": [
    "get_Si7021_device_info()"
   ]
  },
  {
   "cell_type": "markdown",
   "metadata": {},
   "source": [
    "### Get temperature"
   ]
  },
  {
   "cell_type": "code",
   "execution_count": null,
   "metadata": {},
   "outputs": [],
   "source": [
    "temperature_data = bytearray(3)"
   ]
  },
  {
   "cell_type": "code",
   "execution_count": null,
   "metadata": {},
   "outputs": [],
   "source": [
    "i2c.writeto(SI7021_i2c_address, SI7021_measure_temperature)"
   ]
  },
  {
   "cell_type": "code",
   "execution_count": null,
   "metadata": {},
   "outputs": [],
   "source": [
    "i2c.readfrom_into(SI7021_i2c_address, temperature_data)"
   ]
  },
  {
   "cell_type": "code",
   "execution_count": null,
   "metadata": {},
   "outputs": [],
   "source": [
    "print(temperature_data)"
   ]
  },
  {
   "cell_type": "code",
   "execution_count": null,
   "metadata": {},
   "outputs": [],
   "source": [
    "def verify_SI7021_checksum(data):\n",
    "    crc = 0\n",
    "    values = data[:2]\n",
    "    checksum = int(data[-1])\n",
    "    for value in values:\n",
    "        crc = crc ^ value\n",
    "        for _ in range(8, 0, -1):\n",
    "            if crc & 0x80: #10000000\n",
    "                crc <<= 1\n",
    "                crc ^= 0x131 #100110001\n",
    "            else:\n",
    "                crc <<= 1\n",
    "    if crc != checksum:\n",
    "        return False\n",
    "    else:\n",
    "        return True"
   ]
  },
  {
   "cell_type": "code",
   "execution_count": null,
   "metadata": {},
   "outputs": [],
   "source": [
    "verify_SI7021_checksum(temperature_data)"
   ]
  },
  {
   "cell_type": "markdown",
   "metadata": {},
   "source": [
    "The third byte is a checksum, so only look at the first two for the temperature"
   ]
  },
  {
   "cell_type": "code",
   "execution_count": null,
   "metadata": {},
   "outputs": [],
   "source": [
    "temperature_data_int = convert_bytes_to_integer(temperature_data[:2])"
   ]
  },
  {
   "cell_type": "code",
   "execution_count": null,
   "metadata": {},
   "outputs": [],
   "source": [
    "print(temperature_data_int)"
   ]
  },
  {
   "cell_type": "markdown",
   "metadata": {},
   "source": [
    "Temperature (C) =  ((175.72\\*Temp_Code) / 65536) - 46.85"
   ]
  },
  {
   "cell_type": "code",
   "execution_count": null,
   "metadata": {},
   "outputs": [],
   "source": [
    "((175.72*temperature_data_int) / 65536) - 46.85"
   ]
  },
  {
   "cell_type": "code",
   "execution_count": null,
   "metadata": {},
   "outputs": [],
   "source": []
  },
  {
   "cell_type": "code",
   "execution_count": null,
   "metadata": {},
   "outputs": [],
   "source": [
    "def get_SI7021_temperature_celsius(SI7021_i2c_address):\n",
    "        'Retrieve data from the sensor and verify it with a CRC check.'\n",
    "        data = bytearray(3)\n",
    "        #Measure temperature command = 0xF3\n",
    "        i2c.writeto(SI7021_i2c_address, bytearray([0xF3]))\n",
    "        utime.sleep(0.02)\n",
    "\n",
    "        i2c.readfrom_into(SI7021_i2c_address, data)\n",
    "        value = convert_bytes_to_integer(data[:2])\n",
    "        value = ((175.72*value) / 65536) - 46.85\n",
    "        verified = verify_SI7021_checksum(data)\n",
    "        if not verified:\n",
    "            return False\n",
    "        return value"
   ]
  },
  {
   "cell_type": "code",
   "execution_count": null,
   "metadata": {},
   "outputs": [],
   "source": [
    "get_SI7021_temperature_celsius(SI7021_i2c_address)"
   ]
  },
  {
   "cell_type": "markdown",
   "metadata": {},
   "source": [
    "%RH = (125\\*RH_Code) / 65536 "
   ]
  },
  {
   "cell_type": "code",
   "execution_count": null,
   "metadata": {},
   "outputs": [],
   "source": [
    "def get_SI7021_relative_humidity(SI7021_i2c_address):\n",
    "        'Retrieve data from the sensor and verify it with a CRC check.'\n",
    "        data = bytearray(3)\n",
    "        #Measure relative humidity command = 0xF5\n",
    "        i2c.writeto(SI7021_i2c_address, bytearray([0xF5]))\n",
    "        utime.sleep(0.02)\n",
    "\n",
    "        i2c.readfrom_into(SI7021_i2c_address, data)\n",
    "        value = convert_bytes_to_integer(data[:2])\n",
    "        value = ((125*value) / 65536)\n",
    "        verified = verify_SI7021_checksum(data)\n",
    "        if not verified:\n",
    "            return False\n",
    "        return value"
   ]
  },
  {
   "cell_type": "code",
   "execution_count": null,
   "metadata": {},
   "outputs": [],
   "source": [
    "get_SI7021_relative_humidity(SI7021_i2c_address)"
   ]
  },
  {
   "cell_type": "code",
   "execution_count": null,
   "metadata": {},
   "outputs": [],
   "source": []
  },
  {
   "cell_type": "code",
   "execution_count": null,
   "metadata": {},
   "outputs": [],
   "source": [
    "global wdt_counter\n",
    "print(wdt_counter)\n",
    "wdt_counter = 0"
   ]
  },
  {
   "cell_type": "markdown",
   "metadata": {},
   "source": [
    "# Pressure sensor"
   ]
  },
  {
   "cell_type": "markdown",
   "metadata": {},
   "source": [
    "Uses MPL3115A2 sensor\n",
    "\n",
    "data sheet at https://www.nxp.com/docs/en/data-sheet/MPL3115A2.pdf, code at https://github.com/PinsonJonas/MPL3115A2_MicroPython/blob/master/mpl3115a2.py and https://github.com/adafruit/Adafruit_CircuitPython_MPL3115A2/blob/main/adafruit_mpl3115a2.py\n",
    "\n",
    "MPL3115A2_i2c_address = 0x60\n",
    "\n",
    "    ALTITUDE = const(0)\n",
    "    PRESSURE = const(1)\n",
    "\n",
    "    MPL3115_I2CADDR = const(0x60)\n",
    "    MPL3115_STATUS = const(0x00)\n",
    "    MPL3115_PRESSURE_DATA_MSB = const(0x01)\n",
    "    MPL3115_PRESSURE_DATA_CSB = const(0x02)\n",
    "    MPL3115_PRESSURE_DATA_LSB = const(0x03)\n",
    "    MPL3115_TEMP_DATA_MSB = const(0x04)\n",
    "    MPL3115_TEMP_DATA_LSB = const(0x05)\n",
    "    MPL3115_DR_STATUS = const(0x06)\n",
    "    MPL3115_DELTA_DATA = const(0x07)\n",
    "    MPL3115_WHO_AM_I = const(0x0c)\n",
    "    MPL3115_FIFO_STATUS = const(0x0d)\n",
    "    MPL3115_FIFO_DATA = const(0x0e)\n",
    "    MPL3115_FIFO_SETUP = const(0x0e)\n",
    "    MPL3115_TIME_DELAY = const(0x10)\n",
    "    MPL3115_SYS_MODE = const(0x11)\n",
    "    MPL3115_INT_SORCE = const(0x12)\n",
    "    MPL3115_PT_DATA_CFG = const(0x13)\n",
    "    MPL3115_BAR_IN_MSB = const(0x14)\n",
    "    MPL3115_P_ARLARM_MSB = const(0x16)\n",
    "    MPL3115_T_ARLARM = const(0x18)\n",
    "    MPL3115_P_ARLARM_WND_MSB = const(0x19)\n",
    "    MPL3115_T_ARLARM_WND = const(0x1b)\n",
    "    MPL3115_P_MIN_DATA = const(0x1c)\n",
    "    MPL3115_T_MIN_DATA = const(0x1f)\n",
    "    MPL3115_P_MAX_DATA = const(0x21)\n",
    "    MPL3115_T_MAX_DATA = const(0x24)\n",
    "    MPL3115_CTRL_REG1 = const(0x26)\n",
    "    MPL3115_CTRL_REG2 = const(0x27)\n",
    "    MPL3115_CTRL_REG3 = const(0x28)\n",
    "    MPL3115_CTRL_REG4 = const(0x29)\n",
    "    MPL3115_CTRL_REG5 = const(0x2a)\n",
    "    MPL3115_OFFSET_P = const(0x2b)\n",
    "    MPL3115_OFFSET_T = const(0x2c)\n",
    "    MPL3115_OFFSET_H = const(0x2d)"
   ]
  },
  {
   "cell_type": "code",
   "execution_count": null,
   "metadata": {},
   "outputs": [],
   "source": [
    "MPL3115A2_i2c_address = 0x60\n",
    "MPL3115A2_status = const(0x00)\n",
    "MPL3115A2_control_register_1 = const(0x26) #CTRL_REG1 - control register 1 (address 26h) bit description\n",
    "MPL3115A2_PT_data_configuration = const(0x13) #The PT_DATA_CFG register configures the pressure data, \n",
    "#temperature data and eventflag generator."
   ]
  },
  {
   "cell_type": "code",
   "execution_count": null,
   "metadata": {},
   "outputs": [],
   "source": [
    "# Set up barometer mode, not raw, oversampling 128, minimum time 512 ms\n",
    "i2c.writeto_mem(MPL3115A2_i2c_address, MPL3115A2_control_register_1, bytes([0x38]))\n",
    "i2c.writeto_mem(MPL3115A2_i2c_address, MPL3115A2_PT_data_configuration, bytes([0x07]))  # no events detected\n",
    "self.i2c.writeto_mem(MPL3115A2_i2c_address, MPL3115A2_control_register_1, bytes([0x39]))  # active"
   ]
  },
  {
   "cell_type": "code",
   "execution_count": null,
   "metadata": {},
   "outputs": [],
   "source": [
    "def read_MPL3115A2_status():\\\n",
    "    status = bytearray(1)\n",
    "    while True:\n",
    "        i2c.readfrom_mem_into(MPL3115A2_i2c_address, MPL3115A2_status, status)\n",
    "\n",
    "        if(status[0] == 0):\n",
    "            time.sleep(0.01)\n",
    "            pass\n",
    "        elif(status[0] & 0x04) == 4:\n",
    "            return True\n",
    "        else:\n",
    "            return False"
   ]
  },
  {
   "cell_type": "code",
   "execution_count": null,
   "metadata": {},
   "outputs": [],
   "source": [
    "def get_MPL3115A2_pressure(self):\n",
    "        if self.mode == ALTITUDE:\n",
    "            raise MPL3115A2exception(\"Incorrect Measurement Mode MPL3115A2\")\n",
    "\n",
    "        out_pressure = self.i2c.readfrom_mem(\n",
    "            MPL3115_I2CADDR, MPL3115_PRESSURE_DATA_MSB, 3)\n",
    "\n",
    "        pressure_int = (out_pressure[0] << 10) + (out_pressure[1] << 2) + ((out_pressure[2] >> 6) & 0x3)\n",
    "        pressure_frac = (out_pressure[2] >> 4) & 0x03\n",
    "\n",
    "        return float(pressure_int + pressure_frac / 4.0)"
   ]
  },
  {
   "cell_type": "code",
   "execution_count": null,
   "metadata": {},
   "outputs": [],
   "source": []
  },
  {
   "cell_type": "code",
   "execution_count": null,
   "metadata": {},
   "outputs": [],
   "source": [
    "global wdt_counter\n",
    "print(wdt_counter)\n",
    "wdt_counter = 0"
   ]
  },
  {
   "cell_type": "code",
   "execution_count": null,
   "metadata": {},
   "outputs": [],
   "source": [
    "readData()\n"
   ]
  },
  {
   "cell_type": "markdown",
   "metadata": {},
   "source": [
    "# All together"
   ]
  },
  {
   "cell_type": "code",
   "execution_count": null,
   "metadata": {},
   "outputs": [],
   "source": [
    "import machine\n",
    "import utime\n",
    "\n",
    "wind_direction_pin = machine.ADC(0)\n",
    "\n",
    "class pulseCount:\n",
    "\n",
    "    DEBOUNCE_MS = const(50)\n",
    "    def __init__(self, pin, callback=None, falling=True):  \n",
    "        #Count anemometer switches with debouncing. Arguments:\n",
    "        #pin: configured pin (incl PULL_UP/DOWN)\n",
    "        #callback: handler, called when hall switch press detected\n",
    "        #falling: detect raising or falling edges\n",
    "        self.last_time_ms = 0\n",
    "        self.detected = False  # a switch press was detected\n",
    "        self.cb = callback\n",
    "        pin.irq(self._irq_cb, pin.IRQ_FALLING if falling else pin.IRQ_RISING)\n",
    "\n",
    "    def pressed(self):     \n",
    "        #Return True if switch pressed since last call\n",
    "        p = self.detected\n",
    "        self.detected = False\n",
    "        return p\n",
    "\n",
    "    def _irq_cb(self, pin):    \n",
    "        t = utime.ticks_ms()\n",
    "        diff = t - self.last_time_ms\n",
    "        if abs(diff) < DEBOUNCE_MS:     \n",
    "            return\n",
    "        self.last_time_ms = t\n",
    "        self.detected = True\n",
    "        if self.cb: self.cb(pin)  \n",
    "        \n",
    "anemometer_count = 0\n",
    "anemometer_pin = machine.Pin(5, mode=machine.Pin.IN, pull=machine.Pin.PULL_UP)   \n",
    "\n",
    "def anemometer_reporter(pin):\n",
    "    global anemometer_count\n",
    "    anemometer_count = anemometer_count + 1\n",
    "\n",
    "anemometer_detect = pulseCount(anemometer_pin, callback=anemometer_reporter) \n",
    "\n",
    "rain_gauge_count = 0\n",
    "rain_gauge_pin = machine.Pin(4, mode=machine.Pin.IN, pull=machine.Pin.PULL_UP)   \n",
    "\n",
    "def rain_gauge_reporter(pin):\n",
    "    global rain_gauge_count\n",
    "    rain_gauge_count = rain_gauge_count + 1\n",
    "\n",
    "rain_detect = pulseCount(rain_gauge_pin, callback=rain_gauge_reporter) \n",
    "\n",
    "reset_time = utime.ticks_ms()\n",
    "\n",
    "def readData():\n",
    "    global anemometer_count\n",
    "    global rain_gauge_count\n",
    "    global reset_time\n",
    "    wind_direction_raw = wind_direction_pin.read()\n",
    "    raw_weather_data = {\"wind_direction_raw\" : wind_direction_raw,\n",
    "                        #\"wind_direction_cardinal\" : getDirection(wind_direction_dict, wind_direction_raw),\n",
    "                        \"wind_speed_raw\" : anemometer_count,\n",
    "                        #\"wind_speed_kph\" : windSpeedKilometersPerHour(anemometer_count, period),\n",
    "                        \"rain_amount_raw\" : rain_gauge_count,\n",
    "                        #\"rain_amount_ml\" : countsToMilliliters(rain_gauge_count)\n",
    "                        \"timestamp\" : list(utime.localtime()),\n",
    "                        \"elapsed_time\" : utime.ticks_diff(utime.ticks_ms(), reset_time)\n",
    "                       }\n",
    "    #Reset the anemometer and rain gauge counts\n",
    "    anemometer_count = 0\n",
    "    rain_gauge_count = 0\n",
    "    reset_time = utime.ticks_ms()\n",
    "    return raw_weather_data"
   ]
  },
  {
   "cell_type": "code",
   "execution_count": null,
   "metadata": {},
   "outputs": [],
   "source": [
    "readData()"
   ]
  },
  {
   "cell_type": "code",
   "execution_count": null,
   "metadata": {},
   "outputs": [],
   "source": [
    "from collections.deque import deque\n",
    "\n",
    "data_queue = deque()\n",
    "\n",
    "data_queue.append(readData())\n",
    "data_queue.popleft()"
   ]
  },
  {
   "cell_type": "code",
   "execution_count": null,
   "metadata": {},
   "outputs": [],
   "source": [
    "sensors_script = \"\"\"import machine\n",
    "import utime\n",
    "\n",
    "wind_direction_pin = machine.ADC(0)\n",
    "\n",
    "class pulseCount:\n",
    "\n",
    "    DEBOUNCE_MS = const(50)\n",
    "    def __init__(self, pin, callback=None, falling=True):  \n",
    "        #Count anemometer switches with debouncing. Arguments:\n",
    "        #pin: configured pin (incl PULL_UP/DOWN)\n",
    "        #callback: handler, called when hall switch press detected\n",
    "        #falling: detect raising or falling edges\n",
    "        self.last_time_ms = 0\n",
    "        self.detected = False  # a switch press was detected\n",
    "        self.cb = callback\n",
    "        pin.irq(self._irq_cb, pin.IRQ_FALLING if falling else pin.IRQ_RISING)\n",
    "\n",
    "    def pressed(self):     \n",
    "        #Return True if switch pressed since last call\n",
    "        p = self.detected\n",
    "        self.detected = False\n",
    "        return p\n",
    "\n",
    "    def _irq_cb(self, pin):    \n",
    "        t = utime.ticks_ms()\n",
    "        diff = t - self.last_time_ms\n",
    "        if abs(diff) < DEBOUNCE_MS:     \n",
    "            return\n",
    "        self.last_time_ms = t\n",
    "        self.detected = True\n",
    "        if self.cb: self.cb(pin)  \n",
    "        \n",
    "anemometer_count = 0\n",
    "anemometer_pin = machine.Pin(14, mode=machine.Pin.IN, pull=machine.Pin.PULL_UP)   \n",
    "\n",
    "def anemometer_reporter(pin):\n",
    "    global anemometer_count\n",
    "    anemometer_count = anemometer_count + 1\n",
    "\n",
    "anemometer_detect = pulseCount(anemometer_pin, callback=anemometer_reporter) \n",
    "\n",
    "rain_gauge_count = 0\n",
    "rain_gauge_pin = machine.Pin(12, mode=machine.Pin.IN, pull=machine.Pin.PULL_UP)   \n",
    "\n",
    "def rain_gauge_reporter(pin):\n",
    "    global rain_gauge_count\n",
    "    rain_gauge_count = rain_gauge_count + 1\n",
    "\n",
    "rain_detect = pulseCount(rain_gauge_pin, callback=rain_gauge_reporter) \n",
    "\n",
    "reset_time = utime.ticks_ms()\n",
    "\n",
    "def readData():\n",
    "    global anemometer_count\n",
    "    global rain_gauge_count\n",
    "    global reset_time\n",
    "    wind_direction_raw = wind_direction_pin.read()\n",
    "    raw_weather_data = {\"wind_direction_raw\" : wind_direction_raw,\n",
    "                        #\"wind_direction_cardinal\" : getDirection(wind_direction_dict, wind_direction_raw),\n",
    "                        \"wind_speed_raw\" : anemometer_count,\n",
    "                        #\"wind_speed_kph\" : windSpeedKilometersPerHour(anemometer_count, period),\n",
    "                        \"rain_amount_raw\" : rain_gauge_count,\n",
    "                        #\"rain_amount_ml\" : countsToMilliliters(rain_gauge_count)\n",
    "                        \"timestamp\" : utime.localtime(),\n",
    "                        \"elapsed_time\" : utime.ticks_diff(utime.ticks_ms(), reset_time)\n",
    "                       }\n",
    "    #Reset the anemometer and rain gauge counts\n",
    "    anemometer_count = 0\n",
    "    rain_gauge_count = 0\n",
    "    reset_time = utime.ticks_ms()\n",
    "    return raw_weather_data\n",
    "\"\"\""
   ]
  },
  {
   "cell_type": "code",
   "execution_count": null,
   "metadata": {},
   "outputs": [],
   "source": [
    "import os\n",
    "print(os.listdir())"
   ]
  },
  {
   "cell_type": "code",
   "execution_count": null,
   "metadata": {},
   "outputs": [],
   "source": [
    "with open('sensors.py') as f:\n",
    "    print(f.read())"
   ]
  },
  {
   "cell_type": "code",
   "execution_count": null,
   "metadata": {},
   "outputs": [],
   "source": [
    "with open('sensors.txt', 'w') as f:\n",
    "    f.write(sensors_script)"
   ]
  },
  {
   "cell_type": "markdown",
   "metadata": {},
   "source": [
    "### Double check the write"
   ]
  },
  {
   "cell_type": "code",
   "execution_count": null,
   "metadata": {},
   "outputs": [],
   "source": [
    "with open('sensors.txt') as f:\n",
    "    print(f.read())"
   ]
  },
  {
   "cell_type": "markdown",
   "metadata": {},
   "source": [
    "## Move temp file to `boot.py`"
   ]
  },
  {
   "cell_type": "code",
   "execution_count": null,
   "metadata": {},
   "outputs": [],
   "source": [
    "os.rename('sensors.txt', 'sensors.py')"
   ]
  },
  {
   "cell_type": "code",
   "execution_count": null,
   "metadata": {},
   "outputs": [],
   "source": []
  },
  {
   "cell_type": "code",
   "execution_count": null,
   "metadata": {},
   "outputs": [],
   "source": [
    "%disconnect"
   ]
  },
  {
   "cell_type": "code",
   "execution_count": null,
   "metadata": {},
   "outputs": [],
   "source": []
  }
 ],
 "metadata": {
  "kernelspec": {
   "display_name": "MicroPython upydevice kernel",
   "language": "python",
   "name": "micropython-upydevice"
  },
  "language_info": {
   "codemirror_mode": "python",
   "file_extension": ".py",
   "mimetype": "text/x-python",
   "name": "python",
   "pygments_lexer": "python"
  }
 },
 "nbformat": 4,
 "nbformat_minor": 2
}
