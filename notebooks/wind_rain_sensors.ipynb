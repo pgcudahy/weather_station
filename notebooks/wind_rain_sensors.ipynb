{
 "cells": [
  {
   "cell_type": "code",
   "execution_count": null,
   "metadata": {},
   "outputs": [],
   "source": [
    "%websocketconnect 192.168.1.130 --password horsetoe -kbi"
   ]
  },
  {
   "cell_type": "code",
   "execution_count": null,
   "metadata": {},
   "outputs": [],
   "source": [
    "2+2"
   ]
  },
  {
   "cell_type": "code",
   "execution_count": null,
   "metadata": {},
   "outputs": [],
   "source": [
    "global wdt_counter\n",
    "wdt_counter = 0"
   ]
  },
  {
   "cell_type": "markdown",
   "metadata": {},
   "source": [
    "![Pinout](nodemcu_pins.png)"
   ]
  },
  {
   "cell_type": "markdown",
   "metadata": {},
   "source": [
    "![Pinout2](ESP8266-NodeMCU-kit-12-E-pinout-gpio-pin.png)"
   ]
  },
  {
   "cell_type": "markdown",
   "metadata": {},
   "source": [
    "![Pin details](pin_details.png)"
   ]
  },
  {
   "cell_type": "markdown",
   "metadata": {},
   "source": [
    "![Schematic](schematic.png)"
   ]
  },
  {
   "cell_type": "markdown",
   "metadata": {},
   "source": [
    "### Photon pin - ESP8266 pin\n",
    "\n",
    "D2 - D6 (Machine pin 12)  is rain gauge\n",
    "\n",
    "D3 - D5 (Machine pin 14) is wind speed\n",
    "\n",
    "A0 - A0 is wind vane\n",
    "\n",
    "D1 - D1 / SCL\n",
    "D0 - D2 / SDA"
   ]
  },
  {
   "cell_type": "markdown",
   "metadata": {},
   "source": [
    "# Set up pins"
   ]
  },
  {
   "cell_type": "markdown",
   "metadata": {},
   "source": [
    "## LED"
   ]
  },
  {
   "cell_type": "code",
   "execution_count": null,
   "metadata": {},
   "outputs": [],
   "source": [
    "import machine"
   ]
  },
  {
   "cell_type": "code",
   "execution_count": null,
   "metadata": {},
   "outputs": [],
   "source": [
    "frequency = 5000"
   ]
  },
  {
   "cell_type": "code",
   "execution_count": null,
   "metadata": {},
   "outputs": [],
   "source": [
    "led = machine.PWM(machine.Pin(2), frequency)"
   ]
  },
  {
   "cell_type": "code",
   "execution_count": null,
   "metadata": {},
   "outputs": [],
   "source": [
    "led.duty(0)"
   ]
  },
  {
   "cell_type": "code",
   "execution_count": null,
   "metadata": {},
   "outputs": [],
   "source": [
    "led.duty(1023)"
   ]
  },
  {
   "cell_type": "markdown",
   "metadata": {},
   "source": [
    "## Wind direction"
   ]
  },
  {
   "cell_type": "markdown",
   "metadata": {},
   "source": [
    "#### Wind direction is hooked up to the analog to digital coverter on pin 0"
   ]
  },
  {
   "cell_type": "code",
   "execution_count": null,
   "metadata": {},
   "outputs": [],
   "source": [
    "wind_direction_pin = machine.ADC(0)"
   ]
  },
  {
   "cell_type": "code",
   "execution_count": null,
   "metadata": {},
   "outputs": [],
   "source": [
    "wind_direction_pin.read()"
   ]
  },
  {
   "cell_type": "markdown",
   "metadata": {},
   "source": [
    "#### Translate the voltage read from the ADC (range 0-1024) to a cardinal direction"
   ]
  },
  {
   "cell_type": "markdown",
   "metadata": {},
   "source": [
    "![Wind Vane Resistors](wind_vane_resistors.png)"
   ]
  },
  {
   "cell_type": "markdown",
   "metadata": {},
   "source": [
    "Manually checked each direction, and these are the raw values I get\n",
    "\n",
    "N = 825\n",
    "\n",
    "NNW = 741\n",
    "\n",
    "NW = 925\n",
    "\n",
    "WNW = 867\n",
    "\n",
    "W = 985\n",
    "\n",
    "WSW = 634\n",
    "\n",
    "SW = 666\n",
    "\n",
    "SSW = 268\n",
    "\n",
    "S = 314\n",
    "\n",
    "SSE = 144\n",
    "\n",
    "SE = 207\n",
    "\n",
    "ESE = 77\n",
    "\n",
    "E = 108\n",
    "\n",
    "ENE = 97\n",
    "\n",
    "NE = 495\n",
    "\n",
    "NNE = 439"
   ]
  },
  {
   "cell_type": "code",
   "execution_count": null,
   "metadata": {},
   "outputs": [],
   "source": [
    "vals = [825, 741, 925, 867, 985, 634, 666, 268, 314, 144, 207, 77, 108, 97, 495, 439]"
   ]
  },
  {
   "cell_type": "code",
   "execution_count": null,
   "metadata": {},
   "outputs": [],
   "source": [
    "vals.sort()"
   ]
  },
  {
   "cell_type": "code",
   "execution_count": null,
   "metadata": {},
   "outputs": [],
   "source": [
    "vals"
   ]
  },
  {
   "cell_type": "code",
   "execution_count": null,
   "metadata": {},
   "outputs": [],
   "source": [
    "wind_direction_pin.read()"
   ]
  },
  {
   "cell_type": "code",
   "execution_count": null,
   "metadata": {},
   "outputs": [],
   "source": [
    "wind_direction_dict = {(0, 60):    \"Error.low\",\n",
    "                       (61, 85):   \"ESE\",\n",
    "                       (86, 103):  \"ENE\",\n",
    "                       (104, 130): \"E\",\n",
    "                       (131, 180): \"SSE\",\n",
    "                       (181, 240): \"SE\",\n",
    "                       (241, 290): \"SSW\",\n",
    "                       (291, 400): \"S\",\n",
    "                       (401, 470): \"NNE\",\n",
    "                       (471, 560): \"NE\",\n",
    "                       (561, 650): \"WSW\",\n",
    "                       (651, 700): \"SW\",\n",
    "                       (701, 780): \"NNW\",\n",
    "                       (781, 845): \"N\",\n",
    "                       (846, 900): \"WNW\",\n",
    "                       (901, 950): \"NW\",\n",
    "                       (951, 1000):\"W\",\n",
    "                       (1001, 1024):\"Error.high\"}"
   ]
  },
  {
   "cell_type": "code",
   "execution_count": null,
   "metadata": {},
   "outputs": [],
   "source": [
    "def getDirection(table, raw):\n",
    "    for key in table:\n",
    "        if key[0] <= raw <= key[1]:\n",
    "            return table[key]"
   ]
  },
  {
   "cell_type": "code",
   "execution_count": null,
   "metadata": {},
   "outputs": [],
   "source": [
    "wind_direction_raw = wind_direction_pin.read()"
   ]
  },
  {
   "cell_type": "code",
   "execution_count": null,
   "metadata": {},
   "outputs": [],
   "source": [
    "wind_direction_raw"
   ]
  },
  {
   "cell_type": "code",
   "execution_count": null,
   "metadata": {},
   "outputs": [],
   "source": [
    "getDirection(wind_direction_dict, wind_direction_raw)"
   ]
  },
  {
   "cell_type": "markdown",
   "metadata": {},
   "source": [
    "## Wind speed"
   ]
  },
  {
   "cell_type": "markdown",
   "metadata": {},
   "source": [
    "Interrupts may be attached to any GPIO pin except GPIO16. Since GPIO6-GPIO11 are typically used to interface with the flash memory ICs on most esp8266 modules, applying interrupts to these pins are likely to cause problems\n",
    "\n",
    "Following https://people.eecs.berkeley.edu/~boser/courses/49_sp_2019/N_gpio.html#_interrupts and https://github.com/DL1CB/RamsbergWeatherStation"
   ]
  },
  {
   "cell_type": "code",
   "execution_count": null,
   "metadata": {},
   "outputs": [],
   "source": [
    "anemometer_count = 0"
   ]
  },
  {
   "cell_type": "code",
   "execution_count": null,
   "metadata": {},
   "outputs": [],
   "source": [
    "DEBOUNCE_MS = const(50)\n",
    "\n",
    "class pulseCount:\n",
    "\n",
    "    def __init__(self, pin, callback=None, falling=True):  \n",
    "        \"\"\" Count anemometer switches with debouncing. Arguments:\n",
    "        pin: configured pin (incl PULL_UP/DOWN)\n",
    "        callback: handler, called when hall switch press detected\n",
    "        falling: detect raising or falling edges\n",
    "        \"\"\"\n",
    "        self.last_time_ms = 0\n",
    "        self.detected = False  # a switch press was detected\n",
    "        self.cb = callback\n",
    "        pin.irq(self._irq_cb, pin.IRQ_FALLING if falling else pin.IRQ_RISING)\n",
    "\n",
    "    def pressed(self):     \n",
    "        \"\"\"Return True if switch pressed since last call\"\"\"\n",
    "        p = self.detected\n",
    "        self.detected = False\n",
    "        return p\n",
    "\n",
    "    def _irq_cb(self, pin):    \n",
    "        t = time.ticks_ms()\n",
    "        diff = t - self.last_time_ms\n",
    "        if abs(diff) < DEBOUNCE_MS:     \n",
    "            return\n",
    "        self.last_time_ms = t\n",
    "        self.detected = True\n",
    "        if self.cb: self.cb(pin)   "
   ]
  },
  {
   "cell_type": "code",
   "execution_count": null,
   "metadata": {},
   "outputs": [],
   "source": [
    "def anemometer_reporter(pin):\n",
    "    global anemometer_count\n",
    "    anemometer_count = anemometer_count + 1"
   ]
  },
  {
   "cell_type": "code",
   "execution_count": null,
   "metadata": {},
   "outputs": [],
   "source": [
    "anemometer_pin = machine.Pin(14, mode=machine.Pin.IN, pull=machine.Pin.PULL_UP)   \n",
    "anemometer_detect = pulseCount(anemometer_pin, callback=anemometer_reporter) "
   ]
  },
  {
   "cell_type": "markdown",
   "metadata": {},
   "source": [
    "Per the data sheet \"A wind speed of 2.4km/h causes the switch to close once per second.\" "
   ]
  },
  {
   "cell_type": "code",
   "execution_count": null,
   "metadata": {},
   "outputs": [],
   "source": [
    "def windSpeedKilometersPerHour(pulses, period): \n",
    "    \"\"\" kmh instantaneous wind speed \"\"\"\n",
    "    return round(2.4 * (pulses / period), 4)"
   ]
  },
  {
   "cell_type": "markdown",
   "metadata": {},
   "source": [
    "## Rain meter"
   ]
  },
  {
   "cell_type": "markdown",
   "metadata": {},
   "source": [
    "Interrupts may be attached to any GPIO pin except GPIO16. Since GPIO6-GPIO11 are typically used to interface with the flash memory ICs on most esp8266 modules, applying interrupts to these pins are likely to cause problems\n",
    "\n",
    "Following https://people.eecs.berkeley.edu/~boser/courses/49_sp_2019/N_gpio.html#_interrupts and https://github.com/DL1CB/RamsbergWeatherStation"
   ]
  },
  {
   "cell_type": "code",
   "execution_count": null,
   "metadata": {},
   "outputs": [],
   "source": [
    "rain_gauge_count = 0"
   ]
  },
  {
   "cell_type": "code",
   "execution_count": null,
   "metadata": {},
   "outputs": [],
   "source": [
    "def rain_gauge_reporter(pin):\n",
    "    global rain_gauge_count\n",
    "    rain_gauge_count = rain_gauge_count + 1"
   ]
  },
  {
   "cell_type": "code",
   "execution_count": null,
   "metadata": {},
   "outputs": [],
   "source": [
    "rain_gauge_pin = machine.Pin(12, mode=machine.Pin.IN, pull=machine.Pin.PULL_UP)   \n",
    "rain_detect = pulseCount(rain_gauge_pin, callback=rain_gauge_reporter) "
   ]
  },
  {
   "cell_type": "markdown",
   "metadata": {},
   "source": [
    "The rain gauge is a self-emptying tipping bucket type. Each **0.2794mm** of rain causes one momentary contact closure."
   ]
  },
  {
   "cell_type": "code",
   "execution_count": null,
   "metadata": {},
   "outputs": [],
   "source": [
    "def readData():\n",
    "    global anemometer_count\n",
    "    global rain_gauge_count\n",
    "    wind_direction_raw = wind_direction_pin.read()\n",
    "    raw_weather_data = {\"wind_direction_raw\" : wind_direction_raw,\n",
    "                        #\"wind_direction_cardinal\" : getDirection(wind_direction_dict, wind_direction_raw),\n",
    "                        \"wind_speed_raw\" : anemometer_count,\n",
    "                        #\"wind_speed_kph\" : windSpeedKilometersPerHour(anemometer_count, period),\n",
    "                        \"rain_amount_raw\" : rain_gauge_count\n",
    "                        #\"rain_amount_ml\" : countsToMilliliters(rain_gauge_count)\n",
    "                       }\n",
    "    #Reset the anemometer and rain gauge counts\n",
    "    anemometer_count = 0\n",
    "    rain_gauge_count = 0\n",
    "    return raw_weather_data"
   ]
  },
  {
   "cell_type": "code",
   "execution_count": null,
   "metadata": {},
   "outputs": [],
   "source": [
    "readData()"
   ]
  },
  {
   "cell_type": "markdown",
   "metadata": {},
   "source": [
    "# All together"
   ]
  },
  {
   "cell_type": "code",
   "execution_count": null,
   "metadata": {},
   "outputs": [],
   "source": [
    "import machine\n",
    "import utime\n",
    "\n",
    "wind_direction_pin = machine.ADC(0)\n",
    "\n",
    "class pulseCount:\n",
    "\n",
    "    DEBOUNCE_MS = const(50)\n",
    "    def __init__(self, pin, callback=None, falling=True):  \n",
    "        #Count anemometer switches with debouncing. Arguments:\n",
    "        #pin: configured pin (incl PULL_UP/DOWN)\n",
    "        #callback: handler, called when hall switch press detected\n",
    "        #falling: detect raising or falling edges\n",
    "        self.last_time_ms = 0\n",
    "        self.detected = False  # a switch press was detected\n",
    "        self.cb = callback\n",
    "        pin.irq(self._irq_cb, pin.IRQ_FALLING if falling else pin.IRQ_RISING)\n",
    "\n",
    "    def pressed(self):     \n",
    "        #Return True if switch pressed since last call\n",
    "        p = self.detected\n",
    "        self.detected = False\n",
    "        return p\n",
    "\n",
    "    def _irq_cb(self, pin):    \n",
    "        t = utime.ticks_ms()\n",
    "        diff = t - self.last_time_ms\n",
    "        if abs(diff) < DEBOUNCE_MS:     \n",
    "            return\n",
    "        self.last_time_ms = t\n",
    "        self.detected = True\n",
    "        if self.cb: self.cb(pin)  \n",
    "        \n",
    "anemometer_count = 0\n",
    "anemometer_pin = machine.Pin(14, mode=machine.Pin.IN, pull=machine.Pin.PULL_UP)   \n",
    "\n",
    "def anemometer_reporter(pin):\n",
    "    global anemometer_count\n",
    "    anemometer_count = anemometer_count + 1\n",
    "\n",
    "anemometer_detect = pulseCount(anemometer_pin, callback=anemometer_reporter) \n",
    "\n",
    "rain_gauge_count = 0\n",
    "rain_gauge_pin = machine.Pin(12, mode=machine.Pin.IN, pull=machine.Pin.PULL_UP)   \n",
    "\n",
    "def rain_gauge_reporter(pin):\n",
    "    global rain_gauge_count\n",
    "    rain_gauge_count = rain_gauge_count + 1\n",
    "\n",
    "rain_detect = pulseCount(rain_gauge_pin, callback=rain_gauge_reporter) \n",
    "\n",
    "reset_time = utime.ticks_ms()\n",
    "\n",
    "def read_wind_rain_data():\n",
    "    global anemometer_count\n",
    "    global rain_gauge_count\n",
    "    global reset_time\n",
    "    wind_rain_data = {\"wind_direction_raw\" : wind_direction_pin.read(),\n",
    "                      \"wind_speed_raw\" : anemometer_count,\n",
    "                      \"rain_amount_raw\" : rain_gauge_count,\n",
    "                      \"elapsed_time\" : utime.ticks_diff(utime.ticks_ms(), reset_time)}\n",
    "    anemometer_count = 0\n",
    "    rain_gauge_count = 0\n",
    "    reset_time = utime.ticks_ms()\n",
    "    return wind_rain_data"
   ]
  },
  {
   "cell_type": "code",
   "execution_count": null,
   "metadata": {},
   "outputs": [],
   "source": [
    "read_wind_rain_data()"
   ]
  },
  {
   "cell_type": "code",
   "execution_count": null,
   "metadata": {},
   "outputs": [],
   "source": [
    "read_wind_rain_data()"
   ]
  },
  {
   "cell_type": "code",
   "execution_count": null,
   "metadata": {},
   "outputs": [],
   "source": [
    "from collections.deque import deque\n",
    "\n",
    "data_queue = deque()\n",
    "\n",
    "data_queue.append(read_wind_rain_data())\n",
    "data_queue.popleft()"
   ]
  },
  {
   "cell_type": "code",
   "execution_count": null,
   "metadata": {},
   "outputs": [],
   "source": [
    "sensors_script = \"\"\"import machine\n",
    "import utime\n",
    "\n",
    "wind_direction_pin = machine.ADC(0)\n",
    "\n",
    "class pulseCount:\n",
    "\n",
    "    DEBOUNCE_MS = const(50)\n",
    "    def __init__(self, pin, callback=None, falling=True):  \n",
    "        #Count anemometer switches with debouncing. Arguments:\n",
    "        #pin: configured pin (incl PULL_UP/DOWN)\n",
    "        #callback: handler, called when hall switch press detected\n",
    "        #falling: detect raising or falling edges\n",
    "        self.last_time_ms = 0\n",
    "        self.detected = False  # a switch press was detected\n",
    "        self.cb = callback\n",
    "        pin.irq(self._irq_cb, pin.IRQ_FALLING if falling else pin.IRQ_RISING)\n",
    "\n",
    "    def pressed(self):     \n",
    "        #Return True if switch pressed since last call\n",
    "        p = self.detected\n",
    "        self.detected = False\n",
    "        return p\n",
    "\n",
    "    def _irq_cb(self, pin):    \n",
    "        t = utime.ticks_ms()\n",
    "        diff = t - self.last_time_ms\n",
    "        if abs(diff) < DEBOUNCE_MS:     \n",
    "            return\n",
    "        self.last_time_ms = t\n",
    "        self.detected = True\n",
    "        if self.cb: self.cb(pin)  \n",
    "        \n",
    "anemometer_count = 0\n",
    "anemometer_pin = machine.Pin(14, mode=machine.Pin.IN, pull=machine.Pin.PULL_UP)   \n",
    "\n",
    "def anemometer_reporter(pin):\n",
    "    global anemometer_count\n",
    "    anemometer_count = anemometer_count + 1\n",
    "\n",
    "anemometer_detect = pulseCount(anemometer_pin, callback=anemometer_reporter) \n",
    "\n",
    "rain_gauge_count = 0\n",
    "rain_gauge_pin = machine.Pin(12, mode=machine.Pin.IN, pull=machine.Pin.PULL_UP)   \n",
    "\n",
    "def rain_gauge_reporter(pin):\n",
    "    global rain_gauge_count\n",
    "    rain_gauge_count = rain_gauge_count + 1\n",
    "\n",
    "rain_detect = pulseCount(rain_gauge_pin, callback=rain_gauge_reporter) \n",
    "\n",
    "reset_time = utime.ticks_ms()\n",
    "\n",
    "def read_wind_rain_data():\n",
    "    global anemometer_count\n",
    "    global rain_gauge_count\n",
    "    global reset_time\n",
    "    wind_rain_data = {\"wind_direction_raw\" : wind_direction_pin.read(),\n",
    "                      \"wind_speed_raw\" : anemometer_count,\n",
    "                      \"rain_amount_raw\" : rain_gauge_count,\n",
    "                      \"elapsed_time\" : utime.ticks_diff(utime.ticks_ms(), reset_time)}\n",
    "    anemometer_count = 0\n",
    "    rain_gauge_count = 0\n",
    "    reset_time = utime.ticks_ms()\n",
    "    return wind_rain_data\n",
    "\"\"\""
   ]
  },
  {
   "cell_type": "code",
   "execution_count": null,
   "metadata": {},
   "outputs": [],
   "source": [
    "import os\n",
    "print(os.listdir())"
   ]
  },
  {
   "cell_type": "code",
   "execution_count": null,
   "metadata": {},
   "outputs": [],
   "source": [
    "with open('wind_rain_sensors.py') as f:\n",
    "    print(f.read())"
   ]
  },
  {
   "cell_type": "code",
   "execution_count": null,
   "metadata": {},
   "outputs": [],
   "source": [
    "with open('wind_rain_sensors.txt', 'w') as f:\n",
    "    f.write(sensors_script)"
   ]
  },
  {
   "cell_type": "markdown",
   "metadata": {},
   "source": [
    "### Double check the write"
   ]
  },
  {
   "cell_type": "code",
   "execution_count": null,
   "metadata": {},
   "outputs": [],
   "source": [
    "with open('wind_rain_sensors.txt') as f:\n",
    "    print(f.read())"
   ]
  },
  {
   "cell_type": "markdown",
   "metadata": {},
   "source": [
    "## Move temp file to `boot.py`"
   ]
  },
  {
   "cell_type": "code",
   "execution_count": null,
   "metadata": {},
   "outputs": [],
   "source": [
    "os.rename('wind_rain_sensors.txt', 'wind_rain_sensors.py')"
   ]
  },
  {
   "cell_type": "code",
   "execution_count": null,
   "metadata": {},
   "outputs": [],
   "source": [
    "machine.reset()"
   ]
  },
  {
   "cell_type": "code",
   "execution_count": null,
   "metadata": {},
   "outputs": [],
   "source": [
    "%disconnect"
   ]
  },
  {
   "cell_type": "code",
   "execution_count": null,
   "metadata": {},
   "outputs": [],
   "source": []
  }
 ],
 "metadata": {
  "kernelspec": {
   "display_name": "MicroPython upydevice kernel",
   "language": "python",
   "name": "micropython-upydevice"
  },
  "language_info": {
   "codemirror_mode": "python",
   "file_extension": ".py",
   "mimetype": "text/x-python",
   "name": "python",
   "pygments_lexer": "python"
  }
 },
 "nbformat": 4,
 "nbformat_minor": 2
}
